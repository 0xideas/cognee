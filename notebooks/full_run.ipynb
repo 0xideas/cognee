{
  "cells": [
    {
      "cell_type": "code",
      "execution_count": null,
      "id": "38135bf7",
      "metadata": {},
      "outputs": [],
      "source": [
        "from cognee import config, add, cognify, search\n",
        "from cognee.utils import render_graph\n",
        "from os import listdir, path\n",
        "\n",
        "data_directory_path = path.abspath(\"../.data\")\n",
        "\n",
        "print(data_directory_path)\n",
        "\n",
        "config.data_path(data_directory_path)\n",
        "\n",
        "# dataset_name = \"pravilnik.energetska efikasnost.sertifikati\"\n",
        "# await add(\"file://\" + path.abspath(\"../.test_data/062c22df-d99b-599f-90cd-2d325c8bcf69.txt\"), dataset_name)\n",
        "\n",
        "\n",
        "dataset_name = \"izmene\"\n",
        "await add(\"data://\" + path.abspath(\"../.data\"), dataset_name)\n",
        "\n",
        "# test_text = \"\"\"A quantum computer is a computer that takes advantage of quantum mechanical phenomena.\n",
        "# At small scales, physical matter exhibits properties of both particles and waves, and quantum computing leverages this behavior, specifically quantum superposition and entanglement, using specialized hardware that supports the preparation and manipulation of quantum states.\n",
        "# Classical physics cannot explain the operation of these quantum devices, and a scalable quantum computer could perform some calculations exponentially faster (with respect to input size scaling)[2] than any modern \"classical\" computer. In particular, a large-scale quantum computer could break widely used encryption schemes and aid physicists in performing physical simulations; however, the current state of the technology is largely experimental and impractical, with several obstacles to useful applications. Moreover, scalable quantum computers do not hold promise for many practical tasks, and for many important tasks quantum speedups are proven impossible.\n",
        "# The basic unit of information in quantum computing is the qubit, similar to the bit in traditional digital electronics. Unlike a classical bit, a qubit can exist in a superposition of its two \"basis\" states. When measuring a qubit, the result is a probabilistic output of a classical bit, therefore making quantum computers nondeterministic in general. If a quantum computer manipulates the qubit in a particular way, wave interference effects can amplify the desired measurement results. The design of quantum algorithms involves creating procedures that allow a quantum computer to perform calculations efficiently and quickly.\n",
        "# Physically engineering high-quality qubits has proven challenging. If a physical qubit is not sufficiently isolated from its environment, it suffers from quantum decoherence, introducing noise into calculations. Paradoxically, perfectly isolating qubits is also undesirable because quantum computations typically need to initialize qubits, perform controlled qubit interactions, and measure the resulting quantum states. Each of those operations introduces errors and suffers from noise, and such inaccuracies accumulate.\n",
        "# In principle, a non-quantum (classical) computer can solve the same computational problems as a quantum computer, given enough time. Quantum advantage comes in the form of time complexity rather than computability, and quantum complexity theory shows that some quantum algorithms for carefully selected tasks require exponentially fewer computational steps than the best known non-quantum algorithms. Such tasks can in theory be solved on a large-scale quantum computer whereas classical computers would not finish computations in any reasonable amount of time. However, quantum speedup is not universal or even typical across computational tasks, since basic tasks such as sorting are proven to not allow any asymptotic quantum speedup. Claims of quantum supremacy have drawn significant attention to the discipline, but are demonstrated on contrived tasks, while near-term practical use cases remain limited.\n",
        "# \"\"\"\n",
        "\n",
        "# dataset_name = \"pravilnik.energetska efikasnost\"\n",
        "# await add(test_text, dataset_name)\n",
        "\n",
        "\n",
        "graph = await cognify(dataset_name)\n",
        "\n",
        "await render_graph(graph, graph_type = \"networkx\")\n"
      ]
    },
    {
      "cell_type": "code",
      "execution_count": null,
      "id": "44603a2a",
      "metadata": {},
      "outputs": [],
      "source": [
        "from cognee import list_datasets\n",
        "\n",
        "print(list_datasets())"
      ]
    },
    {
      "cell_type": "code",
      "execution_count": null,
      "id": "66ad66ca",
      "metadata": {},
      "outputs": [],
      "source": [
        "import duckdb\n",
        "from cognee.root_dir import get_absolute_path\n",
        "\n",
        "db_path = get_absolute_path(\"./data/cognee\")\n",
        "db_location = db_path + \"/cognee.duckdb\"\n",
        "print(db_location)\n",
        "\n",
        "db = duckdb.connect(db_location)\n",
        "\n",
        "izmene = db.sql(f\"SELECT * FROM pravilnik_energetska_efikasnost_sertifikati.file_metadata;\")\n",
        "print(izmene)\n",
        "\n",
        "# pravilnik = db.sql(f\"SELECT * FROM pravilnik.file_metadata;\")\n",
        "\n",
        "# print(pravilnik)"
      ]
    }
  ],
  "metadata": {
    "kernelspec": {
      "display_name": "Python 3 (ipykernel)",
      "language": "python",
      "name": "python3"
    },
    "language_info": {
      "codemirror_mode": {
        "name": "ipython",
        "version": 3
      },
      "file_extension": ".py",
      "mimetype": "text/x-python",
      "name": "python",
      "nbconvert_exporter": "python",
      "pygments_lexer": "ipython3",
      "version": "3.10.13"
    }
  },
  "nbformat": 4,
  "nbformat_minor": 5
}
