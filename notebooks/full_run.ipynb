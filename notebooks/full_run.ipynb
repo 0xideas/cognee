{
  "cells": [
    {
      "cell_type": "code",
      "execution_count": null,
      "id": "38135bf7",
      "metadata": {},
      "outputs": [],
      "source": [
        "from cognee import add, cognify, search\n",
        "from cognee.utils import render_graph\n",
        "from os import listdir, path\n",
        "\n",
        "data_path = path.abspath(\"../.data\")\n",
        "\n",
        "print(data_path)\n",
        "\n",
        "await add(path.abspath(\"../.data\"), \"izmene\")\n",
        "\n",
        "graph = await cognify(\"izmene\")\n",
        "\n",
        "await render_graph(graph, graph_type=\"networkx\")"
      ]
    }
  ],
  "metadata": {
    "kernelspec": {
      "display_name": "Python 3 (ipykernel)",
      "language": "python",
      "name": "python3"
    },
    "language_info": {
      "codemirror_mode": {
        "name": "ipython",
        "version": 3
      },
      "file_extension": ".py",
      "mimetype": "text/x-python",
      "name": "python",
      "nbconvert_exporter": "python",
      "pygments_lexer": "ipython3",
      "version": "3.10.13"
    }
  },
  "nbformat": 4,
  "nbformat_minor": 5
}
