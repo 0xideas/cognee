{
 "cells": [
  {
   "cell_type": "code",
   "execution_count": null,
   "id": "13be50c7-167c-4a03-bd75-53904baa1f8c",
   "metadata": {},
   "outputs": [],
   "source": []
  },
  {
   "cell_type": "code",
   "execution_count": 76,
   "id": "8a8942b5-91d6-4746-b35d-00f58bc16d7b",
   "metadata": {},
   "outputs": [],
   "source": [
    "import logging\n",
    "\n",
    "from langchain.prompts import ChatPromptTemplate\n",
    "import json\n",
    "from langchain.document_loaders import TextLoader\n",
    "from langchain.document_loaders import DirectoryLoader\n",
    "from langchain.chains import create_extraction_chain\n",
    "from langchain.chat_models import ChatOpenAI\n",
    "import re\n",
    "\n",
    "from dotenv import load_dotenv\n",
    "import os\n",
    "\n",
    "# Load environment variables from .env file\n",
    "load_dotenv()\n",
    "import instructor\n",
    "from openai import OpenAI\n",
    "\n",
    "\n",
    "aclient = instructor.patch(OpenAI())\n",
    "\n",
    "from typing import Optional, List\n",
    "from pydantic import BaseModel, Field\n"
   ]
  },
  {
   "cell_type": "code",
   "execution_count": 143,
   "id": "14484e25-fae8-4306-b03f-dae91fe5d0aa",
   "metadata": {},
   "outputs": [],
   "source": [
    "input_article_one = \"\"\" n the nicest possible way, Britons have always been a bit silly about animals. “Keeping pets, for the English, is not so much a leisure activity as it is an entire way of life,” wrote the anthropologist Kate Fox in Watching the English, nearly 20 years ago. Our dogs, in particular, have been an acceptable outlet for emotions and impulses we otherwise keep strictly controlled – our latent desire to be demonstratively affectionate, to be silly and chat to strangers. If this seems like an exaggeration, consider the different reactions you’d get if you struck up a conversation with someone in a park with a dog, versus someone on the train.\n",
    "\n",
    "Indeed, British society has been set up to accommodate these four-legged ambassadors. In the UK – unlike Australia, say, or New Zealand – dogs are not just permitted on public transport but often openly encouraged. Many pubs and shops display waggish signs, reading, “Dogs welcome, people tolerated”, and have treat jars on their counters. The other day, as I was waiting outside a cafe with a friend’s dog, the barista urged me to bring her inside.\n",
    "\n",
    "For years, Britons’ non-partisan passion for animals has been consistent amid dwindling common ground. But lately, rather than bringing out the best in us, our relationship with dogs is increasingly revealing us at our worst – and our supposed “best friends” are paying the price.\n",
    "\n",
    "As with so many latent traits in the national psyche, it all came unleashed with the pandemic, when many people thought they might as well make the most of all that time at home and in local parks with a dog. Between 2019 and 2022, the number of pet dogs in the UK rose from about nine million to 13 million. But there’s long been a seasonal surge around this time of year, substantial enough for the Dogs Trust charity to coin its famous slogan back in 1978: “A dog is for life, not just for Christmas.”\n",
    "\n",
    "Green spaces, meanwhile, have been steadily declining, and now many of us have returned to the office, just as those “pandemic dogs” are entering their troublesome teens. It’s a combustible combination and we are already seeing the results: the number of dog attacks recorded by police in England and Wales rose by more than a third between 2018 and 2022.\n",
    "\n",
    "At the same time, sites such as Pets4Homes.co.uk are replete with listings for dogs that, their owners accept “with deep regret”, are no longer suited to their lifestyles now that lockdown is over. It may have felt as if it would go on for ever, but was there ever any suggestion it was going to last the average dog’s lifespan of a decade?\n",
    "\n",
    "Living beings are being downgraded to mere commodities. You can see it reflected the “designer” breeds currently in fashion, the French bulldogs and pugs that look cute but spend their entire lives in discomfort. American XL bully dogs, now so controversial, are often sought after as a signifier of masculinity: roping an entire other life in service of our egos. Historically, many of Britain’s most popular breeds evolved to hunt vermin, retrieve game, herd, or otherwise do a specific job alongside humans; these days we are breeding and buying them for their aesthetic appeal.\n",
    "\n",
    "Underpinning this is a shift to what was long disdained as the “American” approach: treating pets as substitutes for children. In the past in Britain, dogs were treasured on their own terms, for the qualities that made them dogs, and as such, sometimes better than people: their friendliness and trustingness and how they opened up the world for us. They were indulged, certainly – by allowing them on to the sofa or in our beds, for instance, when we’d sworn we never would – but in ways that did not negate or deny their essential otherness.\n",
    "\n",
    "Now we have more dogs of such ludicrous proportions, they struggle to function as dogs at all – and we treat them accordingly, indulging them as we would ourselves: by buying unnecessary things. The total spend on pets in the UK has more than doubled in the past decade, reaching nearly £10bn last year. That huge rise has not just come from essentials: figures from the marketing agency Mintel suggest that one in five UK owners like their pet to “keep up with the latest trends” in grooming or, heaven forbid, outfits.\n",
    "\n",
    "These days pet “boutiques” – like the one that recently opened on my street in Norwich, selling “cold-pressed” dog treats, “paw and nose balms” and spa services – are a widespread sign of gentrification. But it’s not just wealthier areas: this summer in Great Yarmouth, one of the most deprived towns in the country, I noticed seaside stalls selling not one but two brands of ice-cream for dogs.\n",
    "\n",
    "It suggests dog-lovers have become untethered from their companions’ desires, let alone their needs. Let’s be honest: most dogs would be thrilled to bits to be eating a paper bag, or even their own faeces. And although they are certainly delighted by ice-cream, they don’t need it. But the ways we ourselves find solace – in consumption, by indulging our simian “treat brain” with things that we don’t need and/or aren’t good for us – we have simply extended to our pets.\n",
    "\n",
    "It’s hard not to see the rise in dog-friendly restaurants, cinema screenings and even churches as similar to the ludicrous expenditure: a way to placate the two-legged being on the end of the lead (regardless of the experience of others in the vicinity).\n",
    "\n",
    "Meanwhile, many dogs suffer daily deprivation, their worlds made small and monotonous by our busy modern schedules. These are social animals: it’s not natural for them to live without other dogs, let alone in an empty house for eight hours a day, Monday to Friday. If we are besieged by badly behaved dogs, the cause isn’t hard to pinpoint. Many behavioural problems can be alleviated and even addressed by sufficient exercise, supervision and consistent routines, but instead of organising our lives so that our pets may thrive, we show our love with a Halloween-themed cookie, or a new outfit for Instagram likes.\n",
    "\n",
    "It’s easy to forget that we are sharing our homes with a descendant of the wolf when it is dressed in sheep’s clothing; but the more we learn about animals, the clearer it becomes that our treatment of them, simultaneously adoring and alienated, means they are leading strange, unsatisfying simulacra of the lives they ought to lead.\n",
    "\n",
    "But for as long as we choose to share our lives with pets, the bar should be the same as for any relationship we value: being prepared to make sacrifices for their wellbeing, prioritising quality time and care, and loving them as they are – not for how they reflect on us, or how we’d like them to be.\n",
    "\n",
    "\n",
    "\"\"\""
   ]
  },
  {
   "cell_type": "code",
   "execution_count": 144,
   "id": "50d5afda-418f-436b-b467-004863193d4a",
   "metadata": {},
   "outputs": [],
   "source": [
    "input_article_two = \"\"\"Lee Parkin had been the proud owner of his terrier-spaniel cross Izzy for nearly 10 years when he stepped out for what would be his last walk with his beloved pet.\n",
    "\n",
    "He was walking Izzy near his home in Doncaster when an XL bully pounced on her, mounting a 20-minute attack and ultimately killing the dog in front of Parkin, who desperately intervened in vain.\n",
    "\n",
    "“It was such a nice day,” he said. “We were walking a normal field where I go, and I saw this dog loose. It appeared wild by its demeanour.”\n",
    "\n",
    "Parkin, 50, took his dog through a gate but found himself cornered. The dog approached and started circling them. And then, he says, “it just grabbed her”.\n",
    "\n",
    "“I’ve never encountered a bigger, stronger dog before in my life,” he says. “I’ve dealt with dogs attacking another dog before.”\n",
    "\n",
    "Lee Parkin and his dog Izzy\n",
    "Lee Parkin and his dog Izzy. Photograph: Lee Parkin\n",
    "Parkin did his best to fight the dog off. “I smashed both hands against it, I twisted its balls, I kicked it in its back end. It did nothing whatsoever. I just shouted for help.”\n",
    "\n",
    "At first there were no other people around, but “all of a sudden” there were about three other men, possibly including the owner, attempting to remove the animal.\n",
    "\n",
    "A passerby gave him a lift to the vet but Izzy was “bleeding so profusely” he could hear her choking on her own blood. Her bones had been crushed.\n",
    "\n",
    "The owners were handed a caution and the dog remains alive and living nearby.\n",
    "\n",
    "“It was dangerously out of control,” Parkin says of the XL bully. “I’ve been brought up with dogs all my life. There’s no place for this type of dog in society.”\n",
    "\n",
    "He welcomes the incoming ban on XL bullies but says he does not think it is enough and it will not work.\n",
    "\n",
    "He believes the majority of XL bully owners will not be fazed by the ban and will keep their dogs and ignore the new law and regulations.\n",
    "\n",
    "“The only effective thing that I’ve seen the police doing is turning up and shooting these dogs, which is what I think they should be doing,” Parkin adds.\n",
    "\n",
    "He was left with significant mental impacts from the attack and was subsequently diagnosed with post-traumatic stress disorder. He received counselling but still struggles with walking dogs, and often rises very early in the morning to avoid other owners. He also carries a dog spray.\n",
    "\n",
    "Marie Hay’s siberian husky, Naevia, survived a savage attack on the beach in Redcar on the North Yorkshire coast by two XL bullies – but has been left with life-changing injuries. Hay, like Parkin, has also been left with mental scars.\n",
    "\n",
    "The owner of the dog that attacked seven-year-old Naevia is facing a criminal trial next year.\n",
    "\n",
    "“We must have only been three minutes and the guy pulls up and basically he’s just got his dogs out of the car. They run down to the bottom of the beach and one starts to run towards Naevia.\n",
    "\n",
    "“The owner turned to me and said: ‘They’re friendly, don’t worry,’ because I must have pulled a face at the size of the dog.\n",
    "\n",
    "skip past newsletter promotion\n",
    "Sign up to First Edition\n",
    "\n",
    "Free daily newsletter\n",
    "Our morning email breaks down the key stories of the day, telling you what’s happening and why it matters\n",
    "\n",
    "Enter your email address\n",
    "Sign up\n",
    "Privacy Notice: Newsletters may contain info about charities, online ads, and content funded by outside parties. For more information see our Privacy Policy. We use Google reCaptcha to protect our website and the Google Privacy Policy and Terms of Service apply.\n",
    "after newsletter promotion\n",
    "“But then the first one jumped on Naevia’s chest and just started tearing into her.\n",
    "\n",
    "“So she was screaming, screaming like a baby. And then the other one just came out of nowhere. The attack lasted about 12 minutes.”\n",
    "\n",
    "An American bully XL with cropped ears. The practice is illegal in England and Wales, but it is still carried out by unscrupulous owners.\n",
    "Perfect pets or dangerous dogs? The sudden, surprising rise of American bully XLs\n",
    "Read more\n",
    "Hay said several people attempted to remove the dogs but were initially unsuccessful. They attempted to lift the dogs by the legs and her 20-year-old daughter was bitten, as were other people who intervened.\n",
    "\n",
    "The owner eventually placed a harness on one of them and put it in the car, while Hay had to walk the other dog back to the car on a lead.\n",
    "\n",
    "Naevia lost 83% of her blood. “She was bleeding to death on the beach … she had hundreds of bite marks all over, she had an incision that ripped her chest open.\n",
    "\n",
    "“She had to have between eight and 10 operations. She’s now in kidney failure because of the stress that it caused on her kidneys. She had to have two blood transfusions.”\n",
    "\n",
    "Hay said the vet bills were more than £30,000, which she has been able to cover through donations on a fundraising website.\n",
    "\n",
    "Like Parkin, Hay struggles to go out for walks now, due to the stress caused by the incident.\n",
    "\n",
    "“I carry a full kit that I’ve made myself, it’s got a rape alarm, a couple of extra dog leads … I’m constantly in fear.”\n",
    "\n",
    "Hay says she is “100%” supportive of the new ban. She says she accepts that a dog’s behaviour is partly down to the owners but is confident the breed plays a part too.\"\"\""
   ]
  },
  {
   "cell_type": "code",
   "execution_count": 145,
   "id": "e328a903-d084-4d07-9b95-0a9196d7f719",
   "metadata": {},
   "outputs": [],
   "source": [
    "\"\"\" We classify input based on the available document types\"\"\"\n",
    "\n",
    "classification = {\n",
    "    \"Natural Language Text\": {\n",
    "        \"type\": \"TEXT\",\n",
    "        \"subclass\": [\n",
    "            \"Articles, essays, and reports\",\n",
    "            \"Books and manuscripts\",\n",
    "            \"News stories and blog posts\",\n",
    "            \"Research papers and academic publications\",\n",
    "            \"Social media posts and comments\",\n",
    "            \"Website content and product descriptions\",\n",
    "            \"Personal narratives and stories\"\n",
    "        ]\n",
    "    },\n",
    "    \"Structured Documents\": {\n",
    "        \"type\": \"TEXT\",\n",
    "        \"subclass\": [\n",
    "            \"Spreadsheets and tables\",\n",
    "            \"Forms and surveys\",\n",
    "            \"Databases and CSV files\"\n",
    "        ]\n",
    "    },\n",
    "    \"Code and Scripts\": {\n",
    "        \"type\": \"TEXT\",\n",
    "        \"subclass\": [\n",
    "            \"Source code in various programming languages\",\n",
    "            \"Shell commands and scripts\",\n",
    "            \"Markup languages (HTML, XML)\",\n",
    "            \"Stylesheets (CSS) and configuration files (YAML, JSON, INI)\"\n",
    "        ]\n",
    "    },\n",
    "    \"Conversational Data\": {\n",
    "        \"type\": \"TEXT\",\n",
    "        \"subclass\": [\n",
    "            \"Chat transcripts and messaging history\",\n",
    "            \"Customer service logs and interactions\",\n",
    "            \"Conversational AI training data\"\n",
    "        ]\n",
    "    },\n",
    "    \"Educational Content\": {\n",
    "        \"type\": \"TEXT\",\n",
    "        \"subclass\": [\n",
    "            \"Textbook content and lecture notes\",\n",
    "            \"Exam questions and academic exercises\",\n",
    "            \"E-learning course materials\"\n",
    "        ]\n",
    "    },\n",
    "    \"Creative Writing\": {\n",
    "        \"type\": \"TEXT\",\n",
    "        \"subclass\": [\n",
    "            \"Poetry and prose\",\n",
    "            \"Scripts for plays, movies, and television\",\n",
    "            \"Song lyrics\"\n",
    "        ]\n",
    "    },\n",
    "    \"Technical Documentation\": {\n",
    "        \"type\": \"TEXT\",\n",
    "        \"subclass\": [\n",
    "            \"Manuals and user guides\",\n",
    "            \"Technical specifications and API documentation\",\n",
    "            \"Helpdesk articles and FAQs\"\n",
    "        ]\n",
    "    },\n",
    "    \"Legal and Regulatory Documents\": {\n",
    "        \"type\": \"TEXT\",\n",
    "        \"subclass\": [\n",
    "            \"Contracts and agreements\",\n",
    "            \"Laws, regulations, and legal case documents\",\n",
    "            \"Policy documents and compliance materials\"\n",
    "        ]\n",
    "    },\n",
    "    \"Medical and Scientific Texts\": {\n",
    "        \"type\": \"TEXT\",\n",
    "        \"subclass\": [\n",
    "            \"Clinical trial reports\",\n",
    "            \"Patient records and case notes\",\n",
    "            \"Scientific journal articles\"\n",
    "        ]\n",
    "    },\n",
    "    \"Financial and Business Documents\": {\n",
    "        \"type\": \"TEXT\",\n",
    "        \"subclass\": [\n",
    "            \"Financial reports and statements\",\n",
    "            \"Business plans and proposals\",\n",
    "            \"Market research and analysis reports\"\n",
    "        ]\n",
    "    },\n",
    "    \"Advertising and Marketing Materials\": {\n",
    "        \"type\": \"TEXT\",\n",
    "        \"subclass\": [\n",
    "            \"Ad copies and marketing slogans\",\n",
    "            \"Product catalogs and brochures\",\n",
    "            \"Press releases and promotional content\"\n",
    "        ]\n",
    "    },\n",
    "    \"Emails and Correspondence\": {\n",
    "        \"type\": \"TEXT\",\n",
    "        \"subclass\": [\n",
    "            \"Professional and formal correspondence\",\n",
    "            \"Personal emails and letters\"\n",
    "        ]\n",
    "    },\n",
    "    \"Metadata and Annotations\": {\n",
    "        \"type\": \"TEXT\",\n",
    "        \"subclass\": [\n",
    "            \"Image and video captions\",\n",
    "            \"Annotations and metadata for various media\"\n",
    "        ]\n",
    "    },\n",
    "    \"Language Learning Materials\": {\n",
    "        \"type\": \"TEXT\",\n",
    "        \"subclass\": [\n",
    "            \"Vocabulary lists and grammar rules\",\n",
    "            \"Language exercises and quizzes\"\n",
    "        ]\n",
    "    },\n",
    "    \"Audio Content\": {\n",
    "    \"type\": \"AUDIO\",\n",
    "    \"subclass\": [\n",
    "        \"Music tracks and albums\",\n",
    "        \"Podcasts and radio broadcasts\",\n",
    "        \"Audiobooks and audio guides\",\n",
    "        \"Recorded interviews and speeches\",\n",
    "        \"Sound effects and ambient sounds\"\n",
    "    ]\n",
    "    },\n",
    "    \"Image Content\": {\n",
    "        \"type\": \"IMAGE\",\n",
    "        \"subclass\": [\n",
    "            \"Photographs and digital images\",\n",
    "            \"Illustrations, diagrams, and charts\",\n",
    "            \"Infographics and visual data representations\",\n",
    "            \"Artwork and paintings\",\n",
    "            \"Screenshots and graphical user interfaces\"\n",
    "        ]\n",
    "    },\n",
    "    \"Video Content\": {\n",
    "        \"type\": \"VIDEO\",\n",
    "        \"subclass\": [\n",
    "            \"Movies and short films\",\n",
    "            \"Documentaries and educational videos\",\n",
    "            \"Video tutorials and how-to guides\",\n",
    "            \"Animated features and cartoons\",\n",
    "            \"Live event recordings and sports broadcasts\"\n",
    "        ]\n",
    "    },\n",
    "    \"Multimedia Content\": {\n",
    "        \"type\": \"MULTIMEDIA\",\n",
    "        \"subclass\": [\n",
    "            \"Interactive web content and games\",\n",
    "            \"Virtual reality (VR) and augmented reality (AR) experiences\",\n",
    "            \"Mixed media presentations and slide decks\",\n",
    "            \"E-learning modules with integrated multimedia\",\n",
    "            \"Digital exhibitions and virtual tours\"\n",
    "        ]\n",
    "    },\n",
    "    \"3D Models and CAD Content\": {\n",
    "        \"type\": \"3D_MODEL\",\n",
    "        \"subclass\": [\n",
    "            \"Architectural renderings and building plans\",\n",
    "            \"Product design models and prototypes\",\n",
    "            \"3D animations and character models\",\n",
    "            \"Scientific simulations and visualizations\",\n",
    "            \"Virtual objects for AR/VR environments\"\n",
    "        ]\n",
    "    },\n",
    "    \"Procedural Content\": {\n",
    "        \"type\": \"PROCEDURAL\",\n",
    "        \"subclass\": [\n",
    "            \"Tutorials and step-by-step guides\",\n",
    "            \"Workflow and process descriptions\",\n",
    "            \"Simulation and training exercises\",\n",
    "            \"Recipes and crafting instructions\"\n",
    "        ]\n",
    "    }\n",
    "}\n",
    "\n",
    "system_prompt = f\"\"\" Classify content based on the following categories: {str(classification)}\"\"\""
   ]
  },
  {
   "cell_type": "code",
   "execution_count": 146,
   "id": "af1b6a25-b37d-4861-82ae-fd74a7c69bc8",
   "metadata": {},
   "outputs": [],
   "source": [
    "class CognitiveLayerSubgroup(BaseModel):\n",
    "    \"\"\" CognitiveCategorySubgroup in a general category \"\"\"\n",
    "    id: int\n",
    "    name:str\n",
    "    data_type:str\n",
    "\n",
    "\n",
    "class CognitiveCategory(BaseModel):\n",
    "    \"\"\"Cognitive  category\"\"\"\n",
    "    name:str\n",
    "    cognitive_subgroups: List[CognitiveLayerSubgroup] = Field(..., default_factory=list)"
   ]
  },
  {
   "cell_type": "code",
   "execution_count": 147,
   "id": "cf1965e3-e870-49a7-8ae5-fa4371e1c8f5",
   "metadata": {},
   "outputs": [],
   "source": [
    "def classify_input(input) -> CognitiveCategory:\n",
    "    \"\"\"Classify input\"\"\"\n",
    "    model = \"gpt-4-1106-preview\"\n",
    "    user_prompt = f\"Use the given format to extract information from the following input: {input}.\"\n",
    "\n",
    "\n",
    "    out = aclient.chat.completions.create(\n",
    "        model=model,\n",
    "        messages=[\n",
    "            {\n",
    "                \"role\": \"user\",\n",
    "                \"content\": user_prompt,\n",
    "            },\n",
    "            {\n",
    "                \"role\": \"system\",\n",
    "                \"content\": system_prompt,\n",
    "            },\n",
    "            \n",
    "            {\n",
    "                \"role\": \"system\",\n",
    "                \"content\": \"Make sure both values are returned. Incomplete results will result in termination\",\n",
    "            },\n",
    "        ],\n",
    "        response_model=CognitiveCategory,\n",
    "    )\n",
    "    return out"
   ]
  },
  {
   "cell_type": "code",
   "execution_count": 148,
   "id": "fad0c4b0-cd61-4c3c-9964-47f019278060",
   "metadata": {},
   "outputs": [
    {
     "name": "stdout",
     "output_type": "stream",
     "text": [
      "{\"name\":\"Natural Language Text\",\"cognitive_subgroups\":[{\"id\":1,\"name\":\"News stories and blog posts\",\"data_type\":\"TEXT\"}]}\n"
     ]
    }
   ],
   "source": [
    "required_layers_one = classify_input(input = input_article_one)\n",
    "print(required_layers_one.json())"
   ]
  },
  {
   "cell_type": "code",
   "execution_count": 149,
   "id": "06b483bf-2fa0-414f-8253-27ffe9a2881c",
   "metadata": {},
   "outputs": [
    {
     "name": "stdout",
     "output_type": "stream",
     "text": [
      "{\"name\":\"Natural Language Text\",\"cognitive_subgroups\":[{\"id\":1,\"name\":\"News stories and blog posts\",\"data_type\":\"TEXT\"},{\"id\":2,\"name\":\"Personal narratives and stories\",\"data_type\":\"TEXT\"}]}\n"
     ]
    }
   ],
   "source": [
    "required_layers_two = classify_input(input = input_article_two)\n",
    "print(required_layers_two.json())"
   ]
  },
  {
   "cell_type": "code",
   "execution_count": null,
   "id": "35461aff-fd80-4eb2-94b2-66c742db8e55",
   "metadata": {},
   "outputs": [],
   "source": []
  },
  {
   "cell_type": "code",
   "execution_count": null,
   "id": "57e227bc-363d-437f-9430-c5d14aff6a31",
   "metadata": {},
   "outputs": [],
   "source": []
  },
  {
   "cell_type": "code",
   "execution_count": 84,
   "id": "4112063c-e94c-4876-965e-1785e0682329",
   "metadata": {},
   "outputs": [],
   "source": [
    "\n",
    "def system_prompt_temp(required_layers):\n",
    "    system_prompt = f\"\"\"\n",
    "    You are tasked with analyzing a {required_layers.dict()['cognitive_subgroups'][0]['data_type']} files, especially in a multilayer network context for tasks such as analysis, categorization, and feature extraction, various layers can be incorporated to capture the depth and breadth of information contained within the {required_layers.dict()['cognitive_subgroups'][0]['data_type']} \n",
    "    These layers can help in understanding the content, context, and characteristics of the {required_layers.dict()['cognitive_subgroups'][0]['data_type']}\n",
    "    Your objective is to extract meaningful layers of information that will contribute to constructing a detailed multilayer network or knowledge graph.\n",
    "    Approach this task by considering the unique characteristics and inherent properties of the data at hand.\n",
    "    VERY IMPORTANT: The context you are working in is {required_layers.dict()['name']} and specific domain you are extracting data on is {required_layers.dict()['cognitive_subgroups'][0]['name']}\n",
    "    \n",
    "    Guidelines for Layer Extraction:\n",
    "    \n",
    "    Take into account: The content type that in this case is: {required_layers.dict()['cognitive_subgroups'][0]['name']} should play a major role in how you decompose into layers.\n",
    "    \n",
    "    Based on your analysis, define and describe the layers you've identified, explaining their relevance and contribution to understanding the dataset. Your independent identification of layers will enable a nuanced and multifaceted representation of the data, enhancing applications in knowledge discovery, content analysis, and information retrieval.\n",
    "    \n",
    "    .\"\"\"\n",
    "    return system_prompt"
   ]
  },
  {
   "cell_type": "code",
   "execution_count": 85,
   "id": "7c5baaed-5447-425b-bc9c-03d071d66187",
   "metadata": {},
   "outputs": [],
   "source": [
    "class CognitiveLayerSubgroup(BaseModel):\n",
    "    \"\"\" CognitiveLayerSubgroup in a general layer \"\"\"\n",
    "    id: int\n",
    "    name:str\n",
    "    description: str\n",
    "\n",
    "\n",
    "class CognitiveLayer(BaseModel):\n",
    "    \"\"\"Cognitive  layer\"\"\"\n",
    "    category_name:str\n",
    "    cognitive_layers: List[CognitiveLayerSubgroup] = Field(..., default_factory=list)"
   ]
  },
  {
   "cell_type": "code",
   "execution_count": 86,
   "id": "ee9c8dad-00ee-48ec-bcb5-8b9c74f91141",
   "metadata": {},
   "outputs": [],
   "source": [
    "def determine_layers(input, required_layers) -> CognitiveLayer:\n",
    "    \"\"\"Classify input\"\"\"\n",
    "    model = \"gpt-4-1106-preview\"\n",
    "    user_prompt = f\"Use the given format to extract information from the following input: {input}.\"\n",
    "\n",
    "\n",
    "    out = aclient.chat.completions.create(\n",
    "        model=model,\n",
    "        messages=[\n",
    "            {\n",
    "                \"role\": \"user\",\n",
    "                \"content\": user_prompt,\n",
    "            },\n",
    "            {\n",
    "                \"role\": \"system\",\n",
    "                \"content\": system_prompt_temp(required_layers),\n",
    "            },\n",
    "        ],\n",
    "        response_model=CognitiveLayer,\n",
    "    )\n",
    "    return out"
   ]
  },
  {
   "cell_type": "code",
   "execution_count": 87,
   "id": "f4f59ef6-5cdd-478c-a96e-d2de2cc0e04f",
   "metadata": {},
   "outputs": [],
   "source": [
    "cognitive_layers_one = determine_layers(input=input_article_one, required_layers= required_layers_one)"
   ]
  },
  {
   "cell_type": "code",
   "execution_count": 88,
   "id": "15631e68-61dc-4955-853f-52bf0cb93fbb",
   "metadata": {},
   "outputs": [
    {
     "name": "stdout",
     "output_type": "stream",
     "text": [
      "category_name='Exploring British Attitudes Toward Pets' cognitive_layers=[CognitiveLayerSubgroup(id=1, name='Cultural Practices', description='Exploration of British cultural practices regarding pets, highlighting the affection and accommodations made for dogs in public spaces, and the sociocultural emphasis on pet ownership.'), CognitiveLayerSubgroup(id=2, name='Behavioral Shifts', description='Identification and analysis of changing behaviors and attitudes toward pets in Britain, particularly during and after the COVID-19 pandemic.'), CognitiveLayerSubgroup(id=3, name='Animal Welfare Concerns', description='Insights into the repercussions of current trends in pet ownership on animal welfare, including the impact of designer breeds and the commodification of pets.'), CognitiveLayerSubgroup(id=4, name='Human-Pet Dynamics', description='Discussion of the evolving relationship between humans and pets, focusing on the anthropomorphization of animals, and the appearance versus functionality of pets.'), CognitiveLayerSubgroup(id=5, name='Economic Impact', description='Assessment of the financial implications of pet ownership in Britain, with particular attention to consumerism and the booming pet industry.'), CognitiveLayerSubgroup(id=6, name='Social Commentary', description=\"A layer that encapsulates the author's critique of society's indulgence in pet-related consumerism, often at the expense of the pets' natural needs and well-being.\"), CognitiveLayerSubgroup(id=7, name='Ethical Considerations', description='Critical examination of the moral aspects of pet ownership practices, questioning the ethics behind breeding, commodification, and the treatment of pets as surrogate children.'), CognitiveLayerSubgroup(id=8, name='Comparative Analysis', description='Comparing British attitudes and practices toward pets with those of other countries, drawing contrasts and identifying unique characteristics.'), CognitiveLayerSubgroup(id=9, name='Public Policy Implications', description='Implications for public policy and the need for regulation or intervention in pet-related matters, considering the rising issues stemming from current societal attitudes.')]\n"
     ]
    }
   ],
   "source": [
    "print(cognitive_layers_one)"
   ]
  },
  {
   "cell_type": "code",
   "execution_count": 89,
   "id": "36ef0bd6-9510-4265-a736-5e10ef1799d0",
   "metadata": {},
   "outputs": [],
   "source": [
    "cognitive_layers_two = determine_layers(input=input_article_two, required_layers=required_layers_two)"
   ]
  },
  {
   "cell_type": "code",
   "execution_count": 90,
   "id": "8d377859-ed21-4408-ae72-79e8bc9a5309",
   "metadata": {},
   "outputs": [
    {
     "name": "stdout",
     "output_type": "stream",
     "text": [
      "category_name='News stories and blog posts' cognitive_layers=[CognitiveLayerSubgroup(id=1, name='Topical Context', description='This layer encapsulates the main subject matter of the text, which involves animal attacks, specifically dog attacks, and their legal and emotional repercussions.'), CognitiveLayerSubgroup(id=2, name='Geographical Context', description='The layer that locates the events mentioned in the text geographically, including specific places like Doncaster, Redcar, and the North Yorkshire coast in England.'), CognitiveLayerSubgroup(id=3, name='Temporal Context', description='This layer provides temporal references pertinent to the stories related to the individual attacks and subsequent events, such as the upcoming criminal trial or the historical context of the pet ownership.'), CognitiveLayerSubgroup(id=4, name='Personal Testimony', description='A layer of direct quotes and personal experiences as recounted by the individuals involved in the incidents, emphasizing the personal and emotional aspect of the news stories.'), CognitiveLayerSubgroup(id=5, name='Legal and Policy Framework', description='This layer outlines the impact of current and upcoming legistlations on dog ownership and the societal responses to breed-specific bans or laws.'), CognitiveLayerSubgroup(id=6, name='Socioemotional Impact', description='Compiling the reported psychological and emotional effects following the dog attacks, including mental health issues like PTSD and fear of walking dogs.'), CognitiveLayerSubgroup(id=7, name='Economic Impact', description='This layer includes the financial repercussions for the victims, such as veterinary bills and the costs associated with dog attacks.'), CognitiveLayerSubgroup(id=8, name='Community Reaction', description=\"A layer that includes reactions from the broader community, including the response to calls for assistance during attacks and the public's stance on breed-specific legislation.\"), CognitiveLayerSubgroup(id=9, name='Advocacy and Activism', description='This layer covers the efforts by individuals and groups to advocate for changes in law, public awareness of dangerous breeds, and community support through fundraising.'), CognitiveLayerSubgroup(id=10, name='Incident Details', description=\"A descriptive layer providing information on the specifics of the dog attacks, including the nature of the attacks, the dogs involved, and the owners' actions during and after the incidents.\")]\n"
     ]
    }
   ],
   "source": [
    "print(cognitive_layers_two)"
   ]
  },
  {
   "cell_type": "code",
   "execution_count": 91,
   "id": "41d06ecb-83b9-4284-8d88-6a3f710cb457",
   "metadata": {},
   "outputs": [
    {
     "name": "stdout",
     "output_type": "stream",
     "text": [
      "Extracted Layer Names: ['Cultural Practices', 'Behavioral Shifts', 'Animal Welfare Concerns', 'Human-Pet Dynamics', 'Economic Impact', 'Social Commentary', 'Ethical Considerations', 'Comparative Analysis', 'Public Policy Implications']\n"
     ]
    }
   ],
   "source": [
    "cognitive_layers_one = [layer_subgroup.name for layer_subgroup in cognitive_layers_one.cognitive_layers]\n",
    "\n",
    "print(\"Extracted Layer Names:\", cognitive_layers_one)"
   ]
  },
  {
   "cell_type": "code",
   "execution_count": 92,
   "id": "1a287a2a-2fb5-4ad3-a69e-80ed2e2ffa5a",
   "metadata": {},
   "outputs": [
    {
     "name": "stdout",
     "output_type": "stream",
     "text": [
      "Extracted Layer Names: ['Topical Context', 'Geographical Context', 'Temporal Context', 'Personal Testimony', 'Legal and Policy Framework', 'Socioemotional Impact', 'Economic Impact', 'Community Reaction', 'Advocacy and Activism', 'Incident Details']\n"
     ]
    }
   ],
   "source": [
    "cognitive_layers_two = [layer_subgroup.name for layer_subgroup in cognitive_layers_two.cognitive_layers]\n",
    "\n",
    "print(\"Extracted Layer Names:\", cognitive_layers_two)"
   ]
  },
  {
   "cell_type": "code",
   "execution_count": null,
   "id": "609b1287-e0bf-42a5-856a-f2e0d859ea8b",
   "metadata": {},
   "outputs": [],
   "source": []
  },
  {
   "cell_type": "code",
   "execution_count": null,
   "id": "001466ea-d805-444e-9d70-5505d83eb980",
   "metadata": {},
   "outputs": [],
   "source": []
  },
  {
   "cell_type": "code",
   "execution_count": null,
   "id": "07014c19-e981-4150-afc0-78800062f6e0",
   "metadata": {},
   "outputs": [],
   "source": []
  },
  {
   "cell_type": "code",
   "execution_count": null,
   "id": "619a765d-1fa9-49ce-9b6c-66e81a50e409",
   "metadata": {},
   "outputs": [],
   "source": []
  },
  {
   "cell_type": "code",
   "execution_count": 93,
   "id": "dbce6243-7501-42d1-b944-f80811ae903d",
   "metadata": {},
   "outputs": [],
   "source": [
    "def system_prompt(layer:str=None)->str: \n",
    "    return f\"\"\"You are a top-tier algorithm\n",
    "designed for extracting information in structured formats to build a knowledge graph.\n",
    "- **Nodes** represent entities and concepts. They're akin to Wikipedia nodes.\n",
    "- **Edges** represent relationships between concepts. They're akin to Wikipedia links.\n",
    "- The aim is to achieve simplicity and clarity in the\n",
    "knowledge graph, making it accessible for a vast audience.\n",
    "YOU ARE ONLY EXTRACTING DATA FOR COGNITIVE LAYER {layer}\n",
    "## 2. Labeling Nodes\n",
    "- **Consistency**: Ensure you use basic or elementary types for node labels.\n",
    "  - For example, when you identify an entity representing a person,\n",
    "   always label it as **\"person\"**.\n",
    "  Avoid using more specific terms like \"mathematician\" or \"scientist\".\n",
    "  - Include event, entity, time, or action nodes to the category.\n",
    "  - Classify the memory type as episodic or semantic.\n",
    "- **Node IDs**: Never utilize integers as node IDs.\n",
    "    Node IDs should be names or human-readable identifiers found in the text.\n",
    "## 3. Handling Numerical Data and Dates\n",
    "- Numerical data, like age or other related information,\n",
    "should be incorporated as attributes or properties of the respective nodes.\n",
    "- **No Separate Nodes for Dates/Numbers**:\n",
    "Do not create separate nodes for dates or numerical values.\n",
    " Always attach them as attributes or properties of nodes.\n",
    "- **Property Format**: Properties must be in a key-value format.\n",
    "- **Quotation Marks**: Never use escaped single or double quotes within property values.\n",
    "- **Naming Convention**: Use camelCase for property keys, e.g., `birthDate`.\n",
    "## 4. Coreference Resolution\n",
    "- **Maintain Entity Consistency**:\n",
    "When extracting entities, it's vital to ensure consistency.\n",
    "If an entity, such as \"John Doe\", is mentioned multiple times\n",
    "in the text but is referred to by different names or pronouns (e.g., \"Joe\", \"he\"),\n",
    "always use the most complete identifier for that entity throughout the knowledge graph.\n",
    " In this example, use \"John Doe\" as the entity ID.\n",
    "Remember, the knowledge graph should be coherent and easily understandable,\n",
    " so maintaining consistency in entity references is crucial.\n",
    "## 5. Strict Compliance\n",
    "Adhere to the rules strictly. Non-compliance will result in termination\"\"\""
   ]
  },
  {
   "cell_type": "code",
   "execution_count": 100,
   "id": "12a0d829-1387-4e32-84a1-1ad7b6edf0dc",
   "metadata": {},
   "outputs": [],
   "source": [
    "import instructor\n",
    "from openai import OpenAI\n",
    "\n",
    "from dotenv import load_dotenv\n",
    "import os\n",
    "\n",
    "# Load environment variables from .env file\n",
    "load_dotenv()\n",
    "\n",
    "aclient = instructor.patch(OpenAI())\n",
    "\n",
    "from typing import Optional, List\n",
    "from pydantic import BaseModel, Field\n",
    "\n",
    "\n",
    "class Node(BaseModel):\n",
    "    \"\"\"Node in a knowledge graph.\"\"\"\n",
    "    id: int\n",
    "    description: str\n",
    "    category: str\n",
    "    memory_type: str\n",
    "    created_at: Optional[float] = None\n",
    "    summarized: Optional[bool] = None\n",
    "\n",
    "\n",
    "class Edge(BaseModel):\n",
    "    \"\"\"Edge in a knowledge graph.\"\"\"\n",
    "    source: int\n",
    "    target: int\n",
    "    description: str\n",
    "    created_at: Optional[float] = None\n",
    "    summarized: Optional[bool] = None\n",
    "\n",
    "\n",
    "class KnowledgeGraph(BaseModel):\n",
    "    \"\"\"Knowledge graph.\"\"\"\n",
    "    nodes: List[Node] = Field(..., default_factory=list)\n",
    "    edges: List[Edge] = Field(..., default_factory=list)\n",
    "\n",
    "\n",
    "def generate_graph(input, layer:str=None) -> KnowledgeGraph:\n",
    "    \"\"\"Generate a knowledge graph from a user query.\"\"\"\n",
    "    model = \"gpt-4-1106-preview\"\n",
    "    user_prompt = f\"Use the given format to extract information from the following input: {input}.\"\n",
    "\n",
    "\n",
    "    out = aclient.chat.completions.create(\n",
    "        model=model,\n",
    "        messages=[\n",
    "            {\n",
    "                \"role\": \"user\",\n",
    "                \"content\": user_prompt,\n",
    "            },\n",
    "            {\n",
    "                \"role\": \"system\",\n",
    "                \"content\": system_prompt(layer=layer),\n",
    "            },\n",
    "            {\n",
    "                \"role\": \"system\",\n",
    "                \"content\": \"Must include both nodes and edges\",\n",
    "            },\n",
    "        ],\n",
    "        response_model=KnowledgeGraph,\n",
    "    )\n",
    "    return out"
   ]
  },
  {
   "cell_type": "code",
   "execution_count": 101,
   "id": "12bf38da-019d-4568-af21-21507c60f906",
   "metadata": {},
   "outputs": [],
   "source": [
    "\n",
    "def create_layer_graph(input, layer_list):\n",
    "    layer_graphs = []\n",
    "    \n",
    "    for layer in layer_list[:3]:\n",
    "        print(\"Layer processed is:\", str(layer))\n",
    "        layer_graph = generate_graph(input=input, layer= layer)\n",
    "        print(\"Layer graph is:\", str(layer_graph))\n",
    "        layer_graphs.append(layer_graph)\n",
    "    return layer_graphs\n",
    "\n"
   ]
  },
  {
   "cell_type": "code",
   "execution_count": 102,
   "id": "4a19cc82-b892-47f3-99db-b70edccefda5",
   "metadata": {},
   "outputs": [
    {
     "name": "stdout",
     "output_type": "stream",
     "text": [
      "Layer processed is: Cultural Practices\n",
      "Layer graph is: nodes=[Node(id=1, description='In British culture, keeping pets is an integral way of life and an outlet for emotions, with a particular fondness for dogs', category='Cultural Practices', memory_type='semantic', created_at=None, summarized=None), Node(id=2, description='Dogs serve as an acceptable outlet for typically controlled British emotions, facilitating affection and sociability', category='Cultural Practices', memory_type='semantic', created_at=None, summarized=None), Node(id=3, description=\"Public spaces in the UK are accommodating of dogs, with signs such as 'Dogs welcome, people tolerated' and treats offered in establishments\", category='Cultural Practices', memory_type='semantic', created_at=None, summarized=None), Node(id=4, description='Dogs act as social catalysts, making it more acceptable to converse with strangers in parks rather than more formal settings like trains', category='Cultural Practices', memory_type='semantic', created_at=None, summarized=None), Node(id=5, description='The COVID-19 pandemic caused a surge in pet ownership in the UK, with the dog population rising from 9 million to 13 million between 2019 and 2022', category='Events', memory_type='episodic', created_at=None, summarized=None), Node(id=6, description='England and Wales saw a significant increase in dog attacks between 2018 and 2022, aligning with a rise in the number of dogs and changes in ownership dynamics', category='Events', memory_type='episodic', created_at=None, summarized=None), Node(id=7, description=\"There is a concerning trend of treating living beings, particularly popular 'designer' dog breeds, as commodities rather than sentient beings\", category='Cultural Practices', memory_type='semantic', created_at=None, summarized=None), Node(id=8, description=\"The cultural shift in Britain towards treating pets as substitutes for children, favoring aesthetics over the animal's natural function and well-being\", category='Cultural Practices', memory_type='semantic', created_at=None, summarized=None), Node(id=9, description='Consumerism in pet care is escalating in the UK with a significant increase in unnecessary spending on pets, including trends and luxury items', category='Cultural Practices', memory_type='semantic', created_at=None, summarized=None), Node(id=10, description='Pets are often indulged with unnecessary treats and services that do not align with their genuine needs or desires, indicative of human emotional solace through consumption', category='Cultural Practices', memory_type='semantic', created_at=None, summarized=None), Node(id=11, description='Modern lifestyles with busy schedules are causing dogs to live monotonous lives, leading to behavioral problems that are often placated by trivial indulgences', category='Cultural Practices', memory_type='semantic', created_at=None, summarized=None), Node(id=12, description=\"Proper pet care advocates for prioritizing pets' quality of life and well-being over anthropomorphic indulgences and misguided expressions of affection\", category='Cultural Practices', memory_type='semantic', created_at=None, summarized=None)] edges=[Edge(source=1, target=2, description='Cultural norm facilitates', created_at=None, summarized=None), Edge(source=2, target=4, description='Function as', created_at=None, summarized=None), Edge(source=1, target=3, description='Manifested in', created_at=None, summarized=None), Edge(source=5, target=6, description='Correlated with', created_at=None, summarized=None), Edge(source=1, target=7, description='Increasing trend in', created_at=None, summarized=None), Edge(source=7, target=8, description='Underpinned by', created_at=None, summarized=None), Edge(source=1, target=9, description='Leads to', created_at=None, summarized=None), Edge(source=10, target=9, description='Driven by', created_at=None, summarized=None), Edge(source=11, target=12, description='Counteracted by prioritizing', created_at=None, summarized=None)]\n",
      "Layer processed is: Behavioral Shifts\n",
      "Layer graph is: nodes=[Node(id=1, description=\"Kate Fox, an anthropologist who described Britons' affection towards pets as a way of life in her book 'Watching the English'\", category='person', memory_type='semantic', created_at=None, summarized=None), Node(id=2, description='Dogs serve as an outlet for emotions and social engagement for Britons', category='concept', memory_type='semantic', created_at=None, summarized=None), Node(id=3, description='In the UK, dogs are accepted and encouraged in various public spaces like transport, pubs, and shops', category='concept', memory_type='semantic', created_at=None, summarized=None), Node(id=4, description='Despite societal changes, the passion for animals in the UK has been consistent', category='concept', memory_type='semantic', created_at=None, summarized=None), Node(id=5, description='The COVID-19 pandemic led to a surge in pet ownership, increasing the number of dogs in the UK', category='event', memory_type='episodic', created_at=None, summarized=None), Node(id=6, description=\"'A dog is for life, not just for Christmas' is a slogan by Dogs Trust charity to advocate responsible pet ownership\", category='entity', memory_type='semantic', created_at=None, summarized=None), Node(id=7, description='The number of dog attacks in England and Wales saw a significant rise', category='event', memory_type='episodic', created_at=None, summarized=None), Node(id=8, description=\"Certain dog breeds are increasingly perceived as commodities, particularly 'designer' breeds\", category='concept', memory_type='semantic', created_at=None, summarized=None), Node(id=9, description='Consumer spending on pets in the UK has increased, extending to non-essential items and services', category='concept', memory_type='semantic', created_at=None, summarized=None), Node(id=10, description='Many dogs experience lack of socialization and extended periods of isolation due to modern human schedules', category='concept', memory_type='semantic', created_at=None, summarized=None), Node(id=11, description='Ensuring the well-being of pets should be a priority, demanding sacrifices and quality care from the owners', category='concept', memory_type='semantic', created_at=None, summarized=None)] edges=[Edge(source=1, target=2, description='Kate Fox highlighted the role of dogs as emotional outlets in British culture', created_at=None, summarized=None), Edge(source=2, target=3, description='The role of dogs in emotional support correlates with their acceptance in public spaces', created_at=None, summarized=None), Edge(source=4, target=5, description='The consistent passion for animals in the UK manifested as a pet boom during the pandemic', created_at=None, summarized=None), Edge(source=5, target=6, description='The increase in pet ownership during the pandemic prompted reminders of lifelong commitment to pets', created_at=None, summarized=None), Edge(source=5, target=7, description='The pet boom during the pandemic coincided with an increase in dog attacks', created_at=None, summarized=None), Edge(source=7, target=8, description='The rise in dog attacks is associated with viewing dogs as commodities rather than companions', created_at=None, summarized=None), Edge(source=8, target=9, description='The commodification of dogs connects to excessive consumer spending on pets', created_at=None, summarized=None), Edge(source=9, target=10, description='Despite consumer indulgence, many pets face isolation and lack of socialization', created_at=None, summarized=None), Edge(source=10, target=11, description='The isolation of pets challenges the principle of prioritizing their well-being', created_at=None, summarized=None)]\n",
      "Layer processed is: Animal Welfare Concerns\n",
      "Layer graph is: nodes=[Node(id=1, description='Britons have a significant and emotional connection with animals, particularly dogs.', category='culturalTrait', memory_type='semantic', created_at=None, summarized=None), Node(id=2, description='Kate Fox, an anthropologist who wrote about the English way of life with pets.', category='person', memory_type='semantic', created_at=None, summarized=None), Node(id=3, description='Number of pet dogs in the UK increased from about nine million to 13 million between 2019 and 2022.', category='statistic', memory_type='episodic', created_at=None, summarized=None), Node(id=4, description='In the UK, dogs are often encouraged to accompany their owners in public places such as pubs and shops.', category='socialNorm', memory_type='semantic', created_at=None, summarized=None), Node(id=5, description='The number of dog attacks recorded by police in England and Wales rose by more than a third between 2018 and 2022.', category='statistic', memory_type='episodic', created_at=None, summarized=None), Node(id=6, description='Pets, particularly dogs, are increasingly being treated as commodities rather than sentient beings.', category='issue', memory_type='semantic', created_at=None, summarized=None), Node(id=7, description='Popularity of designer breeds like French bulldogs and pugs, which often suffer due to their physical features.', category='trend', memory_type='semantic', created_at=None, summarized=None), Node(id=8, description='Controversial American XL bully dogs are sought after as a signifier of masculinity.', category='trend', memory_type='semantic', created_at=None, summarized=None), Node(id=9, description='Pets are increasingly being treated as substitutes for children, altering the traditional British perspective of valuing dogs for their natural qualities.', category='culturalShift', memory_type='semantic', created_at=None, summarized=None), Node(id=10, description='Spending on pets in the UK has more than doubled in the past decade, reaching nearly £10bn in the previous year.', category='economicData', memory_type='semantic', created_at=None, summarized=None), Node(id=11, description='Rise in dog-friendly establishments like restaurants, theaters, and even churches, catering to dog owners more than the dogs themselves.', category='socialTrend', memory_type='semantic', created_at=None, summarized=None), Node(id=12, description=\"Many dogs suffer from daily deprivation and lack engagement due to their owner's busy schedules.\", category='welfareIssue', memory_type='semantic', created_at=None, summarized=None), Node(id=13, description='Behavioral issues in dogs often stem from insufficient exercise, supervision, and consistent routines.', category='welfareIssue', memory_type='semantic', created_at=None, summarized=None)] edges=[Edge(source=1, target=2, description=\"Kate Fox wrote about Britons' significant relationship with animals.\", created_at=None, summarized=None), Edge(source=1, target=3, description='The connection Britons have with animals is illustrated by the increase in pet dogs.', created_at=None, summarized=None), Edge(source=1, target=4, description=\"Britons' affection for animals is evidenced by the encouragement of dogs in public places.\", created_at=None, summarized=None), Edge(source=3, target=5, description='The increase in pet dogs has correlated with a rise in dog attacks.', created_at=None, summarized=None), Edge(source=1, target=6, description='The change in how Britons relate to animals can be seen in the commodification of dogs.', created_at=None, summarized=None), Edge(source=6, target=7, description='Treatment of dogs as commodities is partly due to the popularity of designer breeds.', created_at=None, summarized=None), Edge(source=6, target=8, description='The view of dogs as commodities extends to the demand for breeds like American XL bully dogs.', created_at=None, summarized=None), Edge(source=7, target=8, description='American XL bully dogs are part of the trend for designer dog breeds.', created_at=None, summarized=None), Edge(source=1, target=9, description='Pets are increasingly seen as child substitutes, showing a shift in the traditional British view of domestic animals.', created_at=None, summarized=None), Edge(source=10, target=11, description='The rise in spending on pets coincides with the increase of dog-friendly establishments.', created_at=None, summarized=None), Edge(source=12, target=13, description='Daily deprivation experienced by many dogs contributes to their behavioral issues.', created_at=None, summarized=None)]\n",
      "Layer processed is: Topical Context\n",
      "Layer graph is: nodes=[Node(id=1, description='Britons have a strong affection for animals, especially dogs, which serve as outlets for restrained emotions.', category='Cultural Phenomenon', memory_type='Semantic', created_at=None, summarized=None), Node(id=2, description='In the UK, dogs are allowed and encouraged on public transport, a policy contrasting with Australia or New Zealand.', category='Policy', memory_type='Semantic', created_at=None, summarized=None), Node(id=3, description='The number of pet dogs in the UK increased from about 9 million to 13 million between 2019 and 2022.', category='Statistic', memory_type='Semantic', created_at=None, summarized=None), Node(id=4, description='Dogs are increasingly treated as commodities, valued for aesthetic appeal rather than functionality.', category='Cultural Shift', memory_type='Semantic', created_at=None, summarized=None), Node(id=5, description=\"There's a cultural shift in treating pets as child substitutes, characterized by indulgence in unnecessary products and services.\", category='Cultural Shift', memory_type='Semantic', created_at=None, summarized=None), Node(id=6, description='Pet expenditure in the UK has more than doubled in the past decade, reaching nearly £10 billion.', category='Economic Statistic', memory_type='Semantic', created_at=None, summarized=None), Node(id=7, description='Rise in dog behavioral problems due to lack of exercise, supervision, and consistent routines.', category='Animal Welfare Issue', memory_type='Semantic', created_at=None, summarized=None), Node(id=8, description='Pet wellbeing should be prioritized with quality care, acknowledging their nature, and fostering good human-animal relationships.', category='Animal Welfare Principle', memory_type='Semantic', created_at=None, summarized=None), Node(id=9, description=\"There's been more than a third increase in dog attacks recorded by police in England and Wales between 2018 and 2022.\", category='Crime Statistic', memory_type='Semantic', created_at=None, summarized=None)] edges=[Edge(source=1, target=2, description='Affection for animals in the UK reflects in their dog-friendly transportation policies.', created_at=None, summarized=None), Edge(source=3, target=4, description='The increase in pet dogs correlates with their growing treatment as commodities.', created_at=None, summarized=None), Edge(source=4, target=5, description='The commodification of pets relates to the broader cultural shift of treating them as child substitutes.', created_at=None, summarized=None), Edge(source=6, target=5, description='Rising pet expenditures reflect the trend of over-indulging pets in a manner similar to child substitutes.', created_at=None, summarized=None), Edge(source=7, target=9, description='Behavioral issues in dogs may be contributing to the rising number of dog attacks.', created_at=None, summarized=None), Edge(source=8, target=7, description='Prioritizing pet wellbeing can help address behavioral problems in pets.', created_at=None, summarized=None)]\n",
      "Layer processed is: Geographical Context\n",
      "Layer graph is: nodes=[Node(id=1, description='A country in Western Europe known for accommodating dogs and allowing them on public transport', category='geographicalLocation', memory_type='semantic', created_at=None, summarized=None), Node(id=2, description='A town in the United Kingdom, noted as one of the most deprived areas', category='geographicalLocation', memory_type='semantic', created_at=None, summarized=None), Node(id=3, description='A city in the United Kingdom where pet boutiques are a sign of gentrification', category='geographicalLocation', memory_type='semantic', created_at=None, summarized=None), Node(id=4, description='A country mentioned in comparison to the United Kingdom, where the approach to dogs on public transport differs', category='geographicalLocation', memory_type='semantic', created_at=None, summarized=None), Node(id=5, description='A country mentioned in comparison to the United Kingdom, where the approach to dogs on public transport differs', category='geographicalLocation', memory_type='semantic', created_at=None, summarized=None)] edges=[Edge(source=1, target=2, description='Great Yarmouth is a town within the United Kingdom', created_at=None, summarized=True), Edge(source=1, target=3, description='Norwich is a city within the United Kingdom', created_at=None, summarized=True)]\n",
      "Layer processed is: Temporal Context\n",
      "Layer graph is: nodes=[Node(id=1, description='Britons have a strong affection for animals, treating pet keeping not just as a leisure activity but as a way of life.', category='cultural trait', memory_type='semantic', created_at=None, summarized=None), Node(id=2, description='In Britain, dogs serve as an acceptable outlet for emotions and impulses such as affection and sociability.', category='behavior', memory_type='semantic', created_at=None, summarized=None), Node(id=3, description='Dogs are permitted and encouraged on public transport and welcomed in many pubs and shops in the UK.', category='social norm', memory_type='semantic', created_at=None, summarized=None), Node(id=4, description=\"The Dogs Trust charity created the slogan 'A dog is for life, not just for Christmas' in 1978.\", category='campaign', memory_type='episodic', created_at=1978.0, summarized=None), Node(id=5, description='The number of pet dogs in the UK increased from about nine million to 13 million between 2019 and 2022.', category='statistic', memory_type='semantic', created_at=None, summarized=None), Node(id=6, description='The number of dog attacks recorded by police in England and Wales rose by more than a third between 2018 and 2022.', category='statistic', memory_type='semantic', created_at=None, summarized=None), Node(id=7, description='During the COVID-19 pandemic, many people acquired dogs to make the most of time at home and in local parks.', category='event', memory_type='semantic', created_at=None, summarized=None), Node(id=8, description=\"Living beings, especially certain dog breeds, are being treated as commodities, reflecting 'designer' trends.\", category='social issue', memory_type='semantic', created_at=None, summarized=None), Node(id=9, description=\"The treatment of pets in Britain is shifting towards an 'American' approach, with pets increasingly substituting for children.\", category='cultural shift', memory_type='semantic', created_at=None, summarized=None), Node(id=10, description='The trend of consumerism is extending to pets in the UK, with high expenditure on non-essential pet products and services.', category='trend', memory_type='semantic', created_at=None, summarized=None), Node(id=11, description='The wellbeing of dogs is often compromised by modern lifestyles that restrict their social and physical needs.', category='welfare concern', memory_type='semantic', created_at=None, summarized=None)] edges=[Edge(source=7, target=5, description='The COVID-19 pandemic led to an increase in pet dog ownership in the UK.', created_at=None, summarized=None), Edge(source=8, target=10, description='The treatment of pets as commodities is associated with the consumerism trend of buying unnecessary pet products.', created_at=None, summarized=None), Edge(source=6, target=11, description='The rise in dog attacks may relate to the compromised wellbeing of dogs due to modern lifestyle constraints.', created_at=None, summarized=None)]\n"
     ]
    }
   ],
   "source": [
    "layer_1_graph = create_layer_graph(input_article_one, cognitive_layers_one)\n"
   ]
  },
  {
   "cell_type": "code",
   "execution_count": 103,
   "id": "15dc7863-0f4c-47ae-89ef-2656e8478249",
   "metadata": {},
   "outputs": [
    {
     "name": "stdout",
     "output_type": "stream",
     "text": [
      "Layer processed is: Topical Context\n",
      "Layer graph is: nodes=[Node(id=1, description='Lee Parkin, 50, owner of the late terrier-spaniel cross Izzy, suffers from PTSD', category='person', memory_type='episodic', created_at=None, summarized=None), Node(id=2, description='Izzy, a terrier-spaniel cross owned by Lee Parkin, killed by an XL bully', category='animal', memory_type='episodic', created_at=None, summarized=None), Node(id=3, description='An XL bully attacked and killed Izzy during a walk with Lee Parkin in Doncaster', category='event', memory_type='episodic', created_at=None, summarized=None), Node(id=4, description='Doncaster, the location where Izzy was attacked and killed by an XL bully', category='location', memory_type='semantic', created_at=None, summarized=None), Node(id=5, description=\"Naevia, Marie Hay's Siberian husky, survived an attack by two XL bullies with life-changing injuries\", category='animal', memory_type='episodic', created_at=None, summarized=None), Node(id=6, description='Marie Hay, owner of Naevia, who survived an XL bully attack with mental and physical scars', category='person', memory_type='episodic', created_at=None, summarized=None), Node(id=7, description='Two XL bullies attacked Naevia on a beach in Redcar, causing severe injuries', category='event', memory_type='episodic', created_at=None, summarized=None), Node(id=8, description='Redcar Beach on the North Yorkshire coast, where Naevia was attacked by two XL bullies', category='location', memory_type='semantic', created_at=None, summarized=None), Node(id=9, description='XL bully, a breed involved in attacks on Izzy and Naevia, seen as dangerously out of control', category='animal', memory_type='semantic', created_at=None, summarized=None), Node(id=10, description='An incoming ban on XL bullies supported by Lee Parkin and Marie Hay but with reservations on its effectiveness', category='event', memory_type='semantic', created_at=None, summarized=None)] edges=[Edge(source=1, target=2, description='owned', created_at=None, summarized=None), Edge(source=1, target=3, description='witnessed', created_at=None, summarized=None), Edge(source=3, target=4, description='occurred in', created_at=None, summarized=None), Edge(source=6, target=5, description='owned', created_at=None, summarized=None), Edge(source=7, target=8, description='occurred in', created_at=None, summarized=None), Edge(source=7, target=5, description='targeted', created_at=None, summarized=None), Edge(source=9, target=3, description='involved in', created_at=None, summarized=None), Edge(source=9, target=7, description='involved in', created_at=None, summarized=None), Edge(source=10, target=9, description='targets', created_at=None, summarized=None), Edge(source=1, target=10, description='supports with reservations', created_at=None, summarized=None), Edge(source=6, target=10, description='supports', created_at=None, summarized=None)]\n",
      "Layer processed is: Geographical Context\n",
      "Layer graph is: nodes=[Node(id=1, description='Lee Parkin - 50-year-old dog owner, suffers from post-traumatic stress disorder after his dog was killed.', category='person', memory_type='episodic', created_at=None, summarized=None), Node(id=2, description='Izzy - Terrier-spaniel cross, pet dog owned by Lee Parkin for nearly 10 years, killed in dog attack.', category='animal', memory_type='episodic', created_at=None, summarized=None), Node(id=3, description='Doncaster - The location near where Lee Parkin was walking his dog Izzy when she was attacked.', category='location', memory_type='semantic', created_at=None, summarized=None), Node(id=4, description='XL Bully - Breed of dog that attacked and killed Izzy, described as dangerously out of control.', category='animal', memory_type='semantic', created_at=None, summarized=None), Node(id=5, description='Marie Hay - Dog owner whose Siberian Husky, Naevia, survived an attack but suffered life-changing injuries.', category='person', memory_type='episodic', created_at=None, summarized=None), Node(id=6, description='Naevia - Siberian Husky owned by Marie Hay, survived a savage attack by two XL Bullies.', category='animal', memory_type='episodic', created_at=None, summarized=None), Node(id=7, description='Redcar Beach on the North Yorkshire coast - The location where Naevia was attacked by two XL Bullies.', category='location', memory_type='semantic', created_at=None, summarized=None)] edges=[Edge(source=1, target=3, description='resides in', created_at=None, summarized=None), Edge(source=1, target=2, description='was the owner of', created_at=None, summarized=None), Edge(source=2, target=4, description='killed by', created_at=None, summarized=None), Edge(source=5, target=6, description='is the owner of', created_at=None, summarized=None), Edge(source=6, target=7, description='attacked at', created_at=None, summarized=None), Edge(source=6, target=4, description='attacked by', created_at=None, summarized=None)]\n",
      "Layer processed is: Temporal Context\n",
      "Layer graph is: nodes=[Node(id=1, description='Lee Parkin, a 50-year-old man and owner of the dog Izzy.', category='person', memory_type='episodic', created_at=None, summarized=None), Node(id=2, description='Izzy, a terrier-spaniel cross owned by Lee Parkin for nearly 10 years.', category='animal', memory_type='episodic', created_at=None, summarized=None), Node(id=3, description='Attack by an XL bully on Izzy resulting in her death.', category='event', memory_type='episodic', created_at=None, summarized=None), Node(id=4, description='Lee Parkin was diagnosed with post-traumatic stress disorder after the attack.', category='condition', memory_type='semantic', created_at=None, summarized=None), Node(id=5, description='Marie Hay, owner of seven-year-old Siberian husky Naevia, also victim of an XL bully attack.', category='person', memory_type='episodic', created_at=None, summarized=None), Node(id=6, description='Naevia, a seven-year-old Siberian husky owned by Marie Hay, survived an attack by two XL bullies with life-changing injuries.', category='animal', memory_type='episodic', created_at=None, summarized=None), Node(id=7, description='The incoming ban on XL bullies that both Lee Parkin and Marie Hay support.', category='event', memory_type='semantic', created_at=None, summarized=None), Node(id=8, description='Anxiety and fear faced by Lee Parkin and Marie Hay when walking dogs post-attack.', category='condition', memory_type='semantic', created_at=None, summarized=None)] edges=[Edge(source=1, target=2, description='owned', created_at=None, summarized=None), Edge(source=1, target=3, description='involved in', created_at=None, summarized=None), Edge(source=2, target=3, description='killed in', created_at=None, summarized=None), Edge(source=1, target=4, description='diagnosed with', created_at=None, summarized=None), Edge(source=5, target=6, description='owned', created_at=None, summarized=None), Edge(source=6, target=3, description='injured in', created_at=None, summarized=None), Edge(source=1, target=7, description='supports', created_at=None, summarized=None), Edge(source=5, target=7, description='supports', created_at=None, summarized=None), Edge(source=1, target=8, description='experiences', created_at=None, summarized=None), Edge(source=5, target=8, description='experiences', created_at=None, summarized=None)]\n"
     ]
    }
   ],
   "source": [
    "layer_2_graph = create_layer_graph(input_article_two, cognitive_layers_two)"
   ]
  },
  {
   "cell_type": "code",
   "execution_count": 203,
   "id": "58644c64-7ef0-415f-8e41-e2edcf5fd15b",
   "metadata": {},
   "outputs": [],
   "source": [
    "import networkx as nx\n",
    "import uuid\n",
    "from datetime import datetime\n",
    "\n",
    "def create_user_content_graph(user_id, custom_user_properties=None, required_layers=None, default_fields=None, existing_graph=None):\n",
    "\n",
    "    category_name = required_layers.dict()['name']\n",
    "    subgroup_names = [subgroup['name'] for subgroup in required_layers.dict()['cognitive_subgroups']]\n",
    "\n",
    "    \n",
    "    # Construct the additional_categories structure\n",
    "    additional_categories = {\n",
    "        category_name: subgroup_names\n",
    "}\n",
    "\n",
    "    # Define default fields for all nodes if not provided\n",
    "    if default_fields is None:\n",
    "        default_fields = {\n",
    "            'created_at': datetime.now().strftime(\"%Y-%m-%d %H:%M:%S\"),\n",
    "            'updated_at': datetime.now().strftime(\"%Y-%m-%d %H:%M:%S\")\n",
    "        }\n",
    "\n",
    "    # Merge custom user properties with default properties; custom properties take precedence\n",
    "    user_properties = {**default_fields, **(custom_user_properties or {})}\n",
    "\n",
    "    # Default content categories\n",
    "    content_categories = {\n",
    "        \"Temporal\": [\"Historical events\", \"Schedules and timelines\"],\n",
    "        \"Positional\": [\"Geographical locations\", \"Spatial data\"],\n",
    "        \"Propositions\": [\"Hypotheses and theories\", \"Claims and arguments\"],\n",
    "        \"Personalization\": [\"User preferences\", \"User information\"]\n",
    "    }\n",
    "\n",
    "    # Update content categories with any additional categories provided\n",
    "    if additional_categories:\n",
    "        content_categories.update(additional_categories)\n",
    "\n",
    "    G = existing_graph if existing_graph else nx.MultiDiGraph()\n",
    "\n",
    "    # Check if the user node already exists, if not, add the user node with properties\n",
    "    if not G.has_node(user_id):\n",
    "        G.add_node(user_id, **user_properties)\n",
    "\n",
    "    # Add or update content category nodes and their edges\n",
    "    for category, subclasses in content_categories.items():\n",
    "        category_properties = {**default_fields, 'type': 'category'}\n",
    "\n",
    "        # Add or update the category node\n",
    "        if not G.has_node(category):\n",
    "            G.add_node(category, **category_properties)\n",
    "            G.add_edge(user_id, category, relationship='created')\n",
    "\n",
    "        # Add or update subclass nodes and their edges\n",
    "        for subclass in subclasses:\n",
    "            # Using both category and subclass names to ensure uniqueness within categories\n",
    "            subclass_node_id = f\"{category}:{subclass}\"\n",
    "\n",
    "            # Check if subclass node exists before adding, based on node content\n",
    "            if not any(subclass == data.get('content') for _, data in G.nodes(data=True)):\n",
    "                subclass_properties = {**default_fields, 'type': 'subclass', 'content': subclass}\n",
    "                G.add_node(subclass_node_id, **subclass_properties)\n",
    "                G.add_edge(category, subclass_node_id, relationship='includes')\n",
    "\n",
    "    return G\n",
    "\n",
    "    # # Add content category nodes and their edges\n",
    "    # for category, subclasses in content_categories.items():\n",
    "    #     category_properties = {**default_fields, 'type': 'category'}\n",
    "    #     G.add_node(category, **category_properties)\n",
    "    #     G.add_edge(user_id, category, relationship='created')\n",
    "\n",
    "    #     # Add subclass nodes and their edges\n",
    "    #     for subclass in subclasses:\n",
    "    #         unique_id = str(uuid.uuid4())\n",
    "    #         subclass_node_id = f\"{subclass} - {unique_id}\"\n",
    "    #         subclass_properties = {**default_fields, 'type': 'subclass', 'content': subclass}\n",
    "    #         G.add_node(subclass_node_id, **subclass_properties)\n",
    "    #         G.add_edge(category, subclass_node_id, relationship='includes')\n",
    "\n",
    "    # return G\n",
    "\n"
   ]
  },
  {
   "cell_type": "code",
   "execution_count": 264,
   "id": "dd3f0e55-9f9d-4804-9ad6-31afd2088ab5",
   "metadata": {},
   "outputs": [],
   "source": [
    "G = None"
   ]
  },
  {
   "cell_type": "code",
   "execution_count": null,
   "id": "2cc7c3bb-7cc0-453b-beab-2983a703ccda",
   "metadata": {},
   "outputs": [],
   "source": []
  },
  {
   "cell_type": "code",
   "execution_count": 265,
   "id": "199ef3ab-5e73-40d2-b531-6a402edf3f17",
   "metadata": {},
   "outputs": [
    {
     "name": "stdout",
     "output_type": "stream",
     "text": [
      "Nodes in the graph:\n",
      "[('user123', {'created_at': '2024-02-28 10:24:56', 'updated_at': '2024-02-28 10:24:56', 'username': 'exampleUser', 'email': 'user@example.com'}), ('Temporal', {'created_at': '2024-02-28 10:24:56', 'updated_at': '2024-02-28 10:24:56', 'type': 'category'}), ('Temporal:Historical events', {'created_at': '2024-02-28 10:24:56', 'updated_at': '2024-02-28 10:24:56', 'type': 'subclass', 'content': 'Historical events'}), ('Temporal:Schedules and timelines', {'created_at': '2024-02-28 10:24:56', 'updated_at': '2024-02-28 10:24:56', 'type': 'subclass', 'content': 'Schedules and timelines'}), ('Positional', {'created_at': '2024-02-28 10:24:56', 'updated_at': '2024-02-28 10:24:56', 'type': 'category'}), ('Positional:Geographical locations', {'created_at': '2024-02-28 10:24:56', 'updated_at': '2024-02-28 10:24:56', 'type': 'subclass', 'content': 'Geographical locations'}), ('Positional:Spatial data', {'created_at': '2024-02-28 10:24:56', 'updated_at': '2024-02-28 10:24:56', 'type': 'subclass', 'content': 'Spatial data'}), ('Propositions', {'created_at': '2024-02-28 10:24:56', 'updated_at': '2024-02-28 10:24:56', 'type': 'category'}), ('Propositions:Hypotheses and theories', {'created_at': '2024-02-28 10:24:56', 'updated_at': '2024-02-28 10:24:56', 'type': 'subclass', 'content': 'Hypotheses and theories'}), ('Propositions:Claims and arguments', {'created_at': '2024-02-28 10:24:56', 'updated_at': '2024-02-28 10:24:56', 'type': 'subclass', 'content': 'Claims and arguments'}), ('Personalization', {'created_at': '2024-02-28 10:24:56', 'updated_at': '2024-02-28 10:24:56', 'type': 'category'}), ('Personalization:User preferences', {'created_at': '2024-02-28 10:24:56', 'updated_at': '2024-02-28 10:24:56', 'type': 'subclass', 'content': 'User preferences'}), ('Personalization:User information', {'created_at': '2024-02-28 10:24:56', 'updated_at': '2024-02-28 10:24:56', 'type': 'subclass', 'content': 'User information'}), ('Natural Language Text', {'created_at': '2024-02-28 10:24:56', 'updated_at': '2024-02-28 10:24:56', 'type': 'category'}), ('Natural Language Text:News stories and blog posts', {'created_at': '2024-02-28 10:24:56', 'updated_at': '2024-02-28 10:24:56', 'type': 'subclass', 'content': 'News stories and blog posts'})]\n",
      "\n",
      "Edges in the graph:\n",
      "[('user123', 'Temporal', {'relationship': 'created'}), ('user123', 'Positional', {'relationship': 'created'}), ('user123', 'Propositions', {'relationship': 'created'}), ('user123', 'Personalization', {'relationship': 'created'}), ('user123', 'Natural Language Text', {'relationship': 'created'}), ('Temporal', 'Temporal:Historical events', {'relationship': 'includes'}), ('Temporal', 'Temporal:Schedules and timelines', {'relationship': 'includes'}), ('Positional', 'Positional:Geographical locations', {'relationship': 'includes'}), ('Positional', 'Positional:Spatial data', {'relationship': 'includes'}), ('Propositions', 'Propositions:Hypotheses and theories', {'relationship': 'includes'}), ('Propositions', 'Propositions:Claims and arguments', {'relationship': 'includes'}), ('Personalization', 'Personalization:User preferences', {'relationship': 'includes'}), ('Personalization', 'Personalization:User information', {'relationship': 'includes'}), ('Natural Language Text', 'Natural Language Text:News stories and blog posts', {'relationship': 'includes'})]\n"
     ]
    }
   ],
   "source": [
    "# Example usage\n",
    "user_id = 'user123'\n",
    "custom_user_properties = {\n",
    "    'username': 'exampleUser',\n",
    "    'email': 'user@example.com'\n",
    "}\n",
    "\n",
    "# additional_categories = {\n",
    "#     \"Natural Language Text\": [\"Articles, essays, and reports\", \"Books and manuscripts\"]\n",
    "# }\n",
    "\n",
    "G = create_user_content_graph(user_id, custom_user_properties, required_layers_one)\n",
    "\n",
    "# Accessing the graph\n",
    "print(\"Nodes in the graph:\")\n",
    "print(G.nodes(data=True))\n",
    "print(\"\\nEdges in the graph:\")\n",
    "print(G.edges(data=True))"
   ]
  },
  {
   "cell_type": "code",
   "execution_count": 273,
   "id": "b3160a1d-a6ea-40ce-a521-37ad26d31ffb",
   "metadata": {},
   "outputs": [
    {
     "data": {
      "text/plain": [
       "CognitiveCategory(name='Natural Language Text', cognitive_subgroups=[CognitiveLayerSubgroup(id=1, name='News stories and blog posts', data_type='TEXT')])"
      ]
     },
     "execution_count": 273,
     "metadata": {},
     "output_type": "execute_result"
    }
   ],
   "source": [
    "required_layers_one"
   ]
  },
  {
   "cell_type": "code",
   "execution_count": null,
   "id": "b254dfc9-ce85-4175-9d1e-c0f1ede67e3b",
   "metadata": {},
   "outputs": [],
   "source": []
  },
  {
   "cell_type": "code",
   "execution_count": null,
   "id": "a77b4f24-3046-4ab6-9ba1-c802096498df",
   "metadata": {},
   "outputs": [],
   "source": []
  },
  {
   "cell_type": "code",
   "execution_count": 268,
   "id": "4dab2ff0-0d12-4a00-a4e4-fb901e701bd3",
   "metadata": {},
   "outputs": [],
   "source": [
    "B = create_user_content_graph(user_id, custom_user_properties, required_layers_two, existing_graph=G)"
   ]
  },
  {
   "cell_type": "code",
   "execution_count": 269,
   "id": "627d42fd-d2ce-4ccd-a2a1-2f7ac2f463cf",
   "metadata": {},
   "outputs": [
    {
     "name": "stdout",
     "output_type": "stream",
     "text": [
      "MultiDiGraph with 16 nodes and 15 edges\n"
     ]
    }
   ],
   "source": [
    "print(B)"
   ]
  },
  {
   "cell_type": "code",
   "execution_count": 272,
   "id": "512f15be-0114-4c8c-9754-e82f2fa16344",
   "metadata": {},
   "outputs": [
    {
     "data": {
      "text/html": [
       "\n",
       "            <iframe id=\"11311f6a-1877-4ad3-9fa3-f065f4e5910f\" src=\"https://hub.graphistry.com/graph/graph.html?dataset=718110b7a33e42309bb4a3fa755afa9c&type=arrow&viztoken=efaa5844-717a-4e54-a0e2-9862da71a560&usertag=1daaf574-pygraphistry-0.33.0&splashAfter=1709112416&info=true\"\n",
       "                    allowfullscreen=\"true\" webkitallowfullscreen=\"true\" mozallowfullscreen=\"true\"\n",
       "                    oallowfullscreen=\"true\" msallowfullscreen=\"true\"\n",
       "                    style=\"width:100%; height:500px; border: 1px solid #DDD; overflow: hidden\"\n",
       "                    \n",
       "            >\n",
       "            </iframe>\n",
       "        \n",
       "            <script>\n",
       "                try {\n",
       "                  $(\"#11311f6a-1877-4ad3-9fa3-f065f4e5910f\").bind('mousewheel', function(e) { e.preventDefault(); });\n",
       "                } catch (e) { console.error('exn catching scroll', e); }\n",
       "            </script>\n",
       "        "
      ],
      "text/plain": [
       "<IPython.core.display.HTML object>"
      ]
     },
     "execution_count": 272,
     "metadata": {},
     "output_type": "execute_result"
    }
   ],
   "source": [
    "import graphistry\n",
    "import pandas as pd\n",
    "\n",
    "# Assuming Graphistry is already configured with API key\n",
    "# graphistry.register(api=3, username='your_username', password='your_password')\n",
    "\n",
    "# Convert NetworkX graph to a Pandas DataFrame\n",
    "edges = nx.to_pandas_edgelist(B)\n",
    "graphistry.register(api=3, username='Vasilije1990', password='Q@HLdgv5SMUsGxy') \n",
    "\n",
    "# Visualize the graph\n",
    "graphistry.edges(edges, 'source', 'target').plot()"
   ]
  },
  {
   "cell_type": "code",
   "execution_count": 231,
   "id": "40866ff1-7c2d-4682-851c-de2442984cd5",
   "metadata": {},
   "outputs": [
    {
     "name": "stdout",
     "output_type": "stream",
     "text": [
      "MultiDiGraph with 15 nodes and 14 edges\n"
     ]
    }
   ],
   "source": [
    "print(G)"
   ]
  },
  {
   "cell_type": "code",
   "execution_count": null,
   "id": "a3127724-3bef-416e-8631-ba6cea645196",
   "metadata": {},
   "outputs": [],
   "source": []
  },
  {
   "cell_type": "code",
   "execution_count": 274,
   "id": "fe634bcb-0c00-4a2a-8bcb-687a2fcf847c",
   "metadata": {},
   "outputs": [],
   "source": [
    "def append_data_to_graph(G, category_name, subclass_content, new_data, layer_uuid, layer_decomposition_uuid):\n",
    "    # Find the node ID for the subclass within the category\n",
    "    subclass_node_id = None\n",
    "    for node, data in G.nodes(data=True):\n",
    "        if subclass_content in node:\n",
    "            subclass_node_id = node\n",
    "\n",
    "            print(subclass_node_id)\n",
    "\n",
    "    if not subclass_node_id:\n",
    "        print(f\"Subclass '{subclass_content}' under category '{category_name}' not found in the graph.\")\n",
    "        return G\n",
    "\n",
    "    # Mapping from old node IDs to new node IDs\n",
    "    node_id_mapping = {}\n",
    "\n",
    "    # Add nodes from the Pydantic object\n",
    "    for node in new_data.nodes:\n",
    "        unique_node_id =uuid.uuid4()\n",
    "        new_node_id = f\"{node.description} - {str(layer_uuid)}  - {str(layer_decomposition_uuid)} - {str(unique_node_id)}\"\n",
    "        G.add_node(new_node_id, \n",
    "                   created_at=datetime.now().strftime(\"%Y-%m-%d %H:%M:%S\"), \n",
    "                   updated_at=datetime.now().strftime(\"%Y-%m-%d %H:%M:%S\"), \n",
    "                   description=node.description, \n",
    "                   category=node.category, \n",
    "                   memory_type=node.memory_type, \n",
    "                   layer_uuid = str(layer_uuid),\n",
    "                   layer_decomposition_uuid = str(layer_decomposition_uuid),\n",
    "                   id = str(unique_node_id),\n",
    "                   type='detail')\n",
    "        G.add_edge(subclass_node_id, new_node_id, relationship='detail')\n",
    "\n",
    "        # Store the mapping from old node ID to new node ID\n",
    "        node_id_mapping[node.id] = new_node_id\n",
    "\n",
    "    # Add edges from the Pydantic object using the new node IDs\n",
    "    for edge in new_data.edges:\n",
    "        # Use the mapping to get the new node IDs\n",
    "        source_node_id = node_id_mapping.get(edge.source)\n",
    "        target_node_id = node_id_mapping.get(edge.target)\n",
    "\n",
    "        if source_node_id and target_node_id:\n",
    "            G.add_edge(source_node_id, target_node_id, description=edge.description, relationship='relation')\n",
    "        else:\n",
    "            print(f\"Could not find mapping for edge from {edge.source} to {edge.target}\")\n",
    "\n",
    "    return G\n",
    "\n",
    "\n",
    "\n",
    "\n",
    "# Assuming `pydata` is your Pydantic model instance containing the nodes and edges information\n",
    "# and `G` is your existing graph\n",
    "\n",
    "# # Here's how you would call this function:\n",
    "# category_name = list(additional_categories.keys())[0]\n",
    "# subclass_content = list(additional_categories.values())[0][0]\n"
   ]
  },
  {
   "cell_type": "code",
   "execution_count": null,
   "id": "8d6a9eb5-387e-45a3-9dc9-5f8ac36fdd38",
   "metadata": {},
   "outputs": [],
   "source": []
  },
  {
   "cell_type": "code",
   "execution_count": 275,
   "id": "7f1cde10-3d83-4800-9ef4-f8eaa39cf772",
   "metadata": {},
   "outputs": [
    {
     "data": {
      "text/plain": [
       "CognitiveCategory(name='Natural Language Text', cognitive_subgroups=[CognitiveLayerSubgroup(id=1, name='News stories and blog posts', data_type='TEXT')])"
      ]
     },
     "execution_count": 275,
     "metadata": {},
     "output_type": "execute_result"
    }
   ],
   "source": [
    "required_layers_one"
   ]
  },
  {
   "cell_type": "code",
   "execution_count": 282,
   "id": "66630223-3ba0-4384-95d2-df2995e15271",
   "metadata": {},
   "outputs": [],
   "source": [
    "def append_to_graph(layer_graphs, required_layers, G):\n",
    "    layer_uuid = uuid.uuid4()\n",
    "    category_name = required_layers.dict()['name']\n",
    "    subgroup_names = [subgroup['name'] for subgroup in required_layers.dict()['cognitive_subgroups']]\n",
    "    for subgroup in subgroup_names:\n",
    "\n",
    "        for layer_decomposition in layer_graphs:\n",
    "            layer_decomposition_uuid = uuid.uuid4()\n",
    "            F = append_data_to_graph(G, category_name[0], subgroup, layer_decomposition, layer_uuid, layer_decomposition_uuid)\n",
    "            \n",
    "            # Print updated graph for verification\n",
    "            print(\"Updated Nodes:\", F)\n",
    "    return F\n"
   ]
  },
  {
   "cell_type": "code",
   "execution_count": 283,
   "id": "89ae9422-e26e-4180-be99-e21bae5229e5",
   "metadata": {},
   "outputs": [
    {
     "name": "stdout",
     "output_type": "stream",
     "text": [
      "Natural Language Text:News stories and blog posts\n",
      "Updated Nodes: MultiDiGraph with 64 nodes and 101 edges\n",
      "Natural Language Text:News stories and blog posts\n",
      "Updated Nodes: MultiDiGraph with 75 nodes and 121 edges\n",
      "Natural Language Text:News stories and blog posts\n",
      "Updated Nodes: MultiDiGraph with 88 nodes and 145 edges\n"
     ]
    }
   ],
   "source": [
    "\n",
    "U = append_to_graph(layer_1_graph, required_layers_one, G)"
   ]
  },
  {
   "cell_type": "code",
   "execution_count": 284,
   "id": "b15feb48-6c19-4b18-81d8-d28651ea63f4",
   "metadata": {},
   "outputs": [
    {
     "name": "stdout",
     "output_type": "stream",
     "text": [
      "Natural Language Text:News stories and blog posts\n",
      "Updated Nodes: MultiDiGraph with 98 nodes and 166 edges\n",
      "Natural Language Text:News stories and blog posts\n",
      "Updated Nodes: MultiDiGraph with 105 nodes and 179 edges\n",
      "Natural Language Text:News stories and blog posts\n",
      "Updated Nodes: MultiDiGraph with 113 nodes and 197 edges\n",
      "Natural Language Text:Personal narratives and stories\n",
      "Updated Nodes: MultiDiGraph with 123 nodes and 218 edges\n",
      "Natural Language Text:Personal narratives and stories\n",
      "Updated Nodes: MultiDiGraph with 130 nodes and 231 edges\n",
      "Natural Language Text:Personal narratives and stories\n",
      "Updated Nodes: MultiDiGraph with 138 nodes and 249 edges\n"
     ]
    }
   ],
   "source": [
    "R = append_to_graph(layer_2_graph, required_layers_two, U)"
   ]
  },
  {
   "cell_type": "code",
   "execution_count": 285,
   "id": "17199837-35b8-4530-bf03-efbc3486b71d",
   "metadata": {},
   "outputs": [
    {
     "data": {
      "text/html": [
       "\n",
       "            <iframe id=\"6a464f8d-7a64-4e3a-a9e5-afe908e36a97\" src=\"https://hub.graphistry.com/graph/graph.html?dataset=001d149953cd44158c082667f0d6662c&type=arrow&viztoken=915d30f8-5f8d-4995-b025-5a5f5bbe5b35&usertag=1daaf574-pygraphistry-0.33.0&splashAfter=1709112650&info=true\"\n",
       "                    allowfullscreen=\"true\" webkitallowfullscreen=\"true\" mozallowfullscreen=\"true\"\n",
       "                    oallowfullscreen=\"true\" msallowfullscreen=\"true\"\n",
       "                    style=\"width:100%; height:500px; border: 1px solid #DDD; overflow: hidden\"\n",
       "                    \n",
       "            >\n",
       "            </iframe>\n",
       "        \n",
       "            <script>\n",
       "                try {\n",
       "                  $(\"#6a464f8d-7a64-4e3a-a9e5-afe908e36a97\").bind('mousewheel', function(e) { e.preventDefault(); });\n",
       "                } catch (e) { console.error('exn catching scroll', e); }\n",
       "            </script>\n",
       "        "
      ],
      "text/plain": [
       "<IPython.core.display.HTML object>"
      ]
     },
     "execution_count": 285,
     "metadata": {},
     "output_type": "execute_result"
    }
   ],
   "source": [
    "import graphistry\n",
    "import pandas as pd\n",
    "\n",
    "# Assuming Graphistry is already configured with API key\n",
    "# graphistry.register(api=3, username='your_username', password='your_password')\n",
    "\n",
    "# Convert NetworkX graph to a Pandas DataFrame\n",
    "edges = nx.to_pandas_edgelist(R)\n",
    "graphistry.register(api=3, username='Vasilije1990', password='Q@HLdgv5SMUsGxy') \n",
    "\n",
    "# Visualize the graph\n",
    "graphistry.edges(edges, 'source', 'target').plot()"
   ]
  },
  {
   "cell_type": "code",
   "execution_count": 286,
   "id": "187f4220-45b1-43cc-9ab3-1e51264544c5",
   "metadata": {},
   "outputs": [
    {
     "name": "stdout",
     "output_type": "stream",
     "text": [
      "[('user123', {'created_at': '2024-02-28 10:24:56', 'updated_at': '2024-02-28 10:24:56', 'username': 'exampleUser', 'email': 'user@example.com'}), ('Temporal', {'created_at': '2024-02-28 10:24:56', 'updated_at': '2024-02-28 10:24:56', 'type': 'category'}), ('Temporal:Historical events', {'created_at': '2024-02-28 10:24:56', 'updated_at': '2024-02-28 10:24:56', 'type': 'subclass', 'content': 'Historical events'}), ('Temporal:Schedules and timelines', {'created_at': '2024-02-28 10:24:56', 'updated_at': '2024-02-28 10:24:56', 'type': 'subclass', 'content': 'Schedules and timelines'}), ('Positional', {'created_at': '2024-02-28 10:24:56', 'updated_at': '2024-02-28 10:24:56', 'type': 'category'}), ('Positional:Geographical locations', {'created_at': '2024-02-28 10:24:56', 'updated_at': '2024-02-28 10:24:56', 'type': 'subclass', 'content': 'Geographical locations'}), ('Positional:Spatial data', {'created_at': '2024-02-28 10:24:56', 'updated_at': '2024-02-28 10:24:56', 'type': 'subclass', 'content': 'Spatial data'}), ('Propositions', {'created_at': '2024-02-28 10:24:56', 'updated_at': '2024-02-28 10:24:56', 'type': 'category'}), ('Propositions:Hypotheses and theories', {'created_at': '2024-02-28 10:24:56', 'updated_at': '2024-02-28 10:24:56', 'type': 'subclass', 'content': 'Hypotheses and theories'}), ('Propositions:Claims and arguments', {'created_at': '2024-02-28 10:24:56', 'updated_at': '2024-02-28 10:24:56', 'type': 'subclass', 'content': 'Claims and arguments'}), ('Personalization', {'created_at': '2024-02-28 10:24:56', 'updated_at': '2024-02-28 10:24:56', 'type': 'category'}), ('Personalization:User preferences', {'created_at': '2024-02-28 10:24:56', 'updated_at': '2024-02-28 10:24:56', 'type': 'subclass', 'content': 'User preferences'}), ('Personalization:User information', {'created_at': '2024-02-28 10:24:56', 'updated_at': '2024-02-28 10:24:56', 'type': 'subclass', 'content': 'User information'}), ('Natural Language Text', {'created_at': '2024-02-28 10:24:56', 'updated_at': '2024-02-28 10:24:56', 'type': 'category'}), ('Natural Language Text:News stories and blog posts', {'created_at': '2024-02-28 10:24:56', 'updated_at': '2024-02-28 10:24:56', 'type': 'subclass', 'content': 'News stories and blog posts'}), ('Natural Language Text:Personal narratives and stories', {'created_at': '2024-02-28 10:25:37', 'updated_at': '2024-02-28 10:25:37', 'type': 'subclass', 'content': 'Personal narratives and stories'}), ('In British culture, keeping pets is an integral way of life and an outlet for emotions, with a particular fondness for dogs - 08b965ee-470a-4133-979b-0003edef15d0  - 97597864-a11a-4058-b854-8f21864c7e06 - 58fc3b86-be82-4d50-9578-2b157924ef23', {'created_at': '2024-02-28 10:30:06', 'updated_at': '2024-02-28 10:30:06', 'description': 'In British culture, keeping pets is an integral way of life and an outlet for emotions, with a particular fondness for dogs', 'category': 'Cultural Practices', 'memory_type': 'semantic', 'layer_uuid': '08b965ee-470a-4133-979b-0003edef15d0', 'layer_decomposition_uuid': '97597864-a11a-4058-b854-8f21864c7e06', 'id': '58fc3b86-be82-4d50-9578-2b157924ef23', 'type': 'detail'}), ('Dogs serve as an acceptable outlet for typically controlled British emotions, facilitating affection and sociability - 08b965ee-470a-4133-979b-0003edef15d0  - 97597864-a11a-4058-b854-8f21864c7e06 - e7929623-23e0-4b43-80b6-52fdbf4ce154', {'created_at': '2024-02-28 10:30:06', 'updated_at': '2024-02-28 10:30:06', 'description': 'Dogs serve as an acceptable outlet for typically controlled British emotions, facilitating affection and sociability', 'category': 'Cultural Practices', 'memory_type': 'semantic', 'layer_uuid': '08b965ee-470a-4133-979b-0003edef15d0', 'layer_decomposition_uuid': '97597864-a11a-4058-b854-8f21864c7e06', 'id': 'e7929623-23e0-4b43-80b6-52fdbf4ce154', 'type': 'detail'}), (\"Public spaces in the UK are accommodating of dogs, with signs such as 'Dogs welcome, people tolerated' and treats offered in establishments - 08b965ee-470a-4133-979b-0003edef15d0  - 97597864-a11a-4058-b854-8f21864c7e06 - 48191bec-b329-460e-8de3-7957ffa9909c\", {'created_at': '2024-02-28 10:30:06', 'updated_at': '2024-02-28 10:30:06', 'description': \"Public spaces in the UK are accommodating of dogs, with signs such as 'Dogs welcome, people tolerated' and treats offered in establishments\", 'category': 'Cultural Practices', 'memory_type': 'semantic', 'layer_uuid': '08b965ee-470a-4133-979b-0003edef15d0', 'layer_decomposition_uuid': '97597864-a11a-4058-b854-8f21864c7e06', 'id': '48191bec-b329-460e-8de3-7957ffa9909c', 'type': 'detail'}), ('Dogs act as social catalysts, making it more acceptable to converse with strangers in parks rather than more formal settings like trains - 08b965ee-470a-4133-979b-0003edef15d0  - 97597864-a11a-4058-b854-8f21864c7e06 - 0915d7f3-9a6d-4461-af9d-d222079dd52d', {'created_at': '2024-02-28 10:30:06', 'updated_at': '2024-02-28 10:30:06', 'description': 'Dogs act as social catalysts, making it more acceptable to converse with strangers in parks rather than more formal settings like trains', 'category': 'Cultural Practices', 'memory_type': 'semantic', 'layer_uuid': '08b965ee-470a-4133-979b-0003edef15d0', 'layer_decomposition_uuid': '97597864-a11a-4058-b854-8f21864c7e06', 'id': '0915d7f3-9a6d-4461-af9d-d222079dd52d', 'type': 'detail'}), ('The COVID-19 pandemic caused a surge in pet ownership in the UK, with the dog population rising from 9 million to 13 million between 2019 and 2022 - 08b965ee-470a-4133-979b-0003edef15d0  - 97597864-a11a-4058-b854-8f21864c7e06 - 41a19992-d932-47c3-b1dc-41c4e673ab43', {'created_at': '2024-02-28 10:30:06', 'updated_at': '2024-02-28 10:30:06', 'description': 'The COVID-19 pandemic caused a surge in pet ownership in the UK, with the dog population rising from 9 million to 13 million between 2019 and 2022', 'category': 'Events', 'memory_type': 'episodic', 'layer_uuid': '08b965ee-470a-4133-979b-0003edef15d0', 'layer_decomposition_uuid': '97597864-a11a-4058-b854-8f21864c7e06', 'id': '41a19992-d932-47c3-b1dc-41c4e673ab43', 'type': 'detail'}), ('England and Wales saw a significant increase in dog attacks between 2018 and 2022, aligning with a rise in the number of dogs and changes in ownership dynamics - 08b965ee-470a-4133-979b-0003edef15d0  - 97597864-a11a-4058-b854-8f21864c7e06 - d1704ce5-2445-45f4-bce8-ed05c9c6510b', {'created_at': '2024-02-28 10:30:06', 'updated_at': '2024-02-28 10:30:06', 'description': 'England and Wales saw a significant increase in dog attacks between 2018 and 2022, aligning with a rise in the number of dogs and changes in ownership dynamics', 'category': 'Events', 'memory_type': 'episodic', 'layer_uuid': '08b965ee-470a-4133-979b-0003edef15d0', 'layer_decomposition_uuid': '97597864-a11a-4058-b854-8f21864c7e06', 'id': 'd1704ce5-2445-45f4-bce8-ed05c9c6510b', 'type': 'detail'}), (\"There is a concerning trend of treating living beings, particularly popular 'designer' dog breeds, as commodities rather than sentient beings - 08b965ee-470a-4133-979b-0003edef15d0  - 97597864-a11a-4058-b854-8f21864c7e06 - 77b1e1f5-db9b-4c19-ac0a-97fb2bd090a7\", {'created_at': '2024-02-28 10:30:06', 'updated_at': '2024-02-28 10:30:06', 'description': \"There is a concerning trend of treating living beings, particularly popular 'designer' dog breeds, as commodities rather than sentient beings\", 'category': 'Cultural Practices', 'memory_type': 'semantic', 'layer_uuid': '08b965ee-470a-4133-979b-0003edef15d0', 'layer_decomposition_uuid': '97597864-a11a-4058-b854-8f21864c7e06', 'id': '77b1e1f5-db9b-4c19-ac0a-97fb2bd090a7', 'type': 'detail'}), (\"The cultural shift in Britain towards treating pets as substitutes for children, favoring aesthetics over the animal's natural function and well-being - 08b965ee-470a-4133-979b-0003edef15d0  - 97597864-a11a-4058-b854-8f21864c7e06 - 5a0bee38-ea59-4abc-9032-8d3f660db693\", {'created_at': '2024-02-28 10:30:06', 'updated_at': '2024-02-28 10:30:06', 'description': \"The cultural shift in Britain towards treating pets as substitutes for children, favoring aesthetics over the animal's natural function and well-being\", 'category': 'Cultural Practices', 'memory_type': 'semantic', 'layer_uuid': '08b965ee-470a-4133-979b-0003edef15d0', 'layer_decomposition_uuid': '97597864-a11a-4058-b854-8f21864c7e06', 'id': '5a0bee38-ea59-4abc-9032-8d3f660db693', 'type': 'detail'}), ('Consumerism in pet care is escalating in the UK with a significant increase in unnecessary spending on pets, including trends and luxury items - 08b965ee-470a-4133-979b-0003edef15d0  - 97597864-a11a-4058-b854-8f21864c7e06 - 692ddde9-e3fe-4dda-9dee-f5c69810183d', {'created_at': '2024-02-28 10:30:06', 'updated_at': '2024-02-28 10:30:06', 'description': 'Consumerism in pet care is escalating in the UK with a significant increase in unnecessary spending on pets, including trends and luxury items', 'category': 'Cultural Practices', 'memory_type': 'semantic', 'layer_uuid': '08b965ee-470a-4133-979b-0003edef15d0', 'layer_decomposition_uuid': '97597864-a11a-4058-b854-8f21864c7e06', 'id': '692ddde9-e3fe-4dda-9dee-f5c69810183d', 'type': 'detail'}), ('Pets are often indulged with unnecessary treats and services that do not align with their genuine needs or desires, indicative of human emotional solace through consumption - 08b965ee-470a-4133-979b-0003edef15d0  - 97597864-a11a-4058-b854-8f21864c7e06 - d172a48a-3ad5-43ee-a411-b7943f1472ed', {'created_at': '2024-02-28 10:30:06', 'updated_at': '2024-02-28 10:30:06', 'description': 'Pets are often indulged with unnecessary treats and services that do not align with their genuine needs or desires, indicative of human emotional solace through consumption', 'category': 'Cultural Practices', 'memory_type': 'semantic', 'layer_uuid': '08b965ee-470a-4133-979b-0003edef15d0', 'layer_decomposition_uuid': '97597864-a11a-4058-b854-8f21864c7e06', 'id': 'd172a48a-3ad5-43ee-a411-b7943f1472ed', 'type': 'detail'}), ('Modern lifestyles with busy schedules are causing dogs to live monotonous lives, leading to behavioral problems that are often placated by trivial indulgences - 08b965ee-470a-4133-979b-0003edef15d0  - 97597864-a11a-4058-b854-8f21864c7e06 - dd1d5879-611f-4088-8eff-7aebd0f8cf08', {'created_at': '2024-02-28 10:30:06', 'updated_at': '2024-02-28 10:30:06', 'description': 'Modern lifestyles with busy schedules are causing dogs to live monotonous lives, leading to behavioral problems that are often placated by trivial indulgences', 'category': 'Cultural Practices', 'memory_type': 'semantic', 'layer_uuid': '08b965ee-470a-4133-979b-0003edef15d0', 'layer_decomposition_uuid': '97597864-a11a-4058-b854-8f21864c7e06', 'id': 'dd1d5879-611f-4088-8eff-7aebd0f8cf08', 'type': 'detail'}), (\"Proper pet care advocates for prioritizing pets' quality of life and well-being over anthropomorphic indulgences and misguided expressions of affection - 08b965ee-470a-4133-979b-0003edef15d0  - 97597864-a11a-4058-b854-8f21864c7e06 - 4e08093e-82c9-4b5e-b2b7-a4fae6a6d99b\", {'created_at': '2024-02-28 10:30:06', 'updated_at': '2024-02-28 10:30:06', 'description': \"Proper pet care advocates for prioritizing pets' quality of life and well-being over anthropomorphic indulgences and misguided expressions of affection\", 'category': 'Cultural Practices', 'memory_type': 'semantic', 'layer_uuid': '08b965ee-470a-4133-979b-0003edef15d0', 'layer_decomposition_uuid': '97597864-a11a-4058-b854-8f21864c7e06', 'id': '4e08093e-82c9-4b5e-b2b7-a4fae6a6d99b', 'type': 'detail'}), (\"Kate Fox, an anthropologist who described Britons' affection towards pets as a way of life in her book 'Watching the English' - 08b965ee-470a-4133-979b-0003edef15d0  - 92ae1b09-3dfb-4e0b-920d-83341d1d8c7b - 58d00df2-55d0-4bd2-9d92-3512781cc30f\", {'created_at': '2024-02-28 10:30:06', 'updated_at': '2024-02-28 10:30:06', 'description': \"Kate Fox, an anthropologist who described Britons' affection towards pets as a way of life in her book 'Watching the English'\", 'category': 'person', 'memory_type': 'semantic', 'layer_uuid': '08b965ee-470a-4133-979b-0003edef15d0', 'layer_decomposition_uuid': '92ae1b09-3dfb-4e0b-920d-83341d1d8c7b', 'id': '58d00df2-55d0-4bd2-9d92-3512781cc30f', 'type': 'detail'}), ('Dogs serve as an outlet for emotions and social engagement for Britons - 08b965ee-470a-4133-979b-0003edef15d0  - 92ae1b09-3dfb-4e0b-920d-83341d1d8c7b - b953008f-7c73-4905-8ff6-9422805ffe6b', {'created_at': '2024-02-28 10:30:06', 'updated_at': '2024-02-28 10:30:06', 'description': 'Dogs serve as an outlet for emotions and social engagement for Britons', 'category': 'concept', 'memory_type': 'semantic', 'layer_uuid': '08b965ee-470a-4133-979b-0003edef15d0', 'layer_decomposition_uuid': '92ae1b09-3dfb-4e0b-920d-83341d1d8c7b', 'id': 'b953008f-7c73-4905-8ff6-9422805ffe6b', 'type': 'detail'}), ('In the UK, dogs are accepted and encouraged in various public spaces like transport, pubs, and shops - 08b965ee-470a-4133-979b-0003edef15d0  - 92ae1b09-3dfb-4e0b-920d-83341d1d8c7b - 536f901b-2aa1-4405-8cde-6ec2659c9a6b', {'created_at': '2024-02-28 10:30:06', 'updated_at': '2024-02-28 10:30:06', 'description': 'In the UK, dogs are accepted and encouraged in various public spaces like transport, pubs, and shops', 'category': 'concept', 'memory_type': 'semantic', 'layer_uuid': '08b965ee-470a-4133-979b-0003edef15d0', 'layer_decomposition_uuid': '92ae1b09-3dfb-4e0b-920d-83341d1d8c7b', 'id': '536f901b-2aa1-4405-8cde-6ec2659c9a6b', 'type': 'detail'}), ('Despite societal changes, the passion for animals in the UK has been consistent - 08b965ee-470a-4133-979b-0003edef15d0  - 92ae1b09-3dfb-4e0b-920d-83341d1d8c7b - b493bd53-614b-4c2e-9f69-90f028c91ee8', {'created_at': '2024-02-28 10:30:06', 'updated_at': '2024-02-28 10:30:06', 'description': 'Despite societal changes, the passion for animals in the UK has been consistent', 'category': 'concept', 'memory_type': 'semantic', 'layer_uuid': '08b965ee-470a-4133-979b-0003edef15d0', 'layer_decomposition_uuid': '92ae1b09-3dfb-4e0b-920d-83341d1d8c7b', 'id': 'b493bd53-614b-4c2e-9f69-90f028c91ee8', 'type': 'detail'}), ('The COVID-19 pandemic led to a surge in pet ownership, increasing the number of dogs in the UK - 08b965ee-470a-4133-979b-0003edef15d0  - 92ae1b09-3dfb-4e0b-920d-83341d1d8c7b - 238ce1ad-150b-4c63-b6bf-abe0447451e4', {'created_at': '2024-02-28 10:30:06', 'updated_at': '2024-02-28 10:30:06', 'description': 'The COVID-19 pandemic led to a surge in pet ownership, increasing the number of dogs in the UK', 'category': 'event', 'memory_type': 'episodic', 'layer_uuid': '08b965ee-470a-4133-979b-0003edef15d0', 'layer_decomposition_uuid': '92ae1b09-3dfb-4e0b-920d-83341d1d8c7b', 'id': '238ce1ad-150b-4c63-b6bf-abe0447451e4', 'type': 'detail'}), (\"'A dog is for life, not just for Christmas' is a slogan by Dogs Trust charity to advocate responsible pet ownership - 08b965ee-470a-4133-979b-0003edef15d0  - 92ae1b09-3dfb-4e0b-920d-83341d1d8c7b - 5fb703b5-e74a-48bb-a0a0-8e93aa9b4cf5\", {'created_at': '2024-02-28 10:30:06', 'updated_at': '2024-02-28 10:30:06', 'description': \"'A dog is for life, not just for Christmas' is a slogan by Dogs Trust charity to advocate responsible pet ownership\", 'category': 'entity', 'memory_type': 'semantic', 'layer_uuid': '08b965ee-470a-4133-979b-0003edef15d0', 'layer_decomposition_uuid': '92ae1b09-3dfb-4e0b-920d-83341d1d8c7b', 'id': '5fb703b5-e74a-48bb-a0a0-8e93aa9b4cf5', 'type': 'detail'}), ('The number of dog attacks in England and Wales saw a significant rise - 08b965ee-470a-4133-979b-0003edef15d0  - 92ae1b09-3dfb-4e0b-920d-83341d1d8c7b - 77800bae-9709-4111-a75c-349b791ee70e', {'created_at': '2024-02-28 10:30:06', 'updated_at': '2024-02-28 10:30:06', 'description': 'The number of dog attacks in England and Wales saw a significant rise', 'category': 'event', 'memory_type': 'episodic', 'layer_uuid': '08b965ee-470a-4133-979b-0003edef15d0', 'layer_decomposition_uuid': '92ae1b09-3dfb-4e0b-920d-83341d1d8c7b', 'id': '77800bae-9709-4111-a75c-349b791ee70e', 'type': 'detail'}), (\"Certain dog breeds are increasingly perceived as commodities, particularly 'designer' breeds - 08b965ee-470a-4133-979b-0003edef15d0  - 92ae1b09-3dfb-4e0b-920d-83341d1d8c7b - 41668990-dd09-4ac4-b46e-e8c372b9600b\", {'created_at': '2024-02-28 10:30:06', 'updated_at': '2024-02-28 10:30:06', 'description': \"Certain dog breeds are increasingly perceived as commodities, particularly 'designer' breeds\", 'category': 'concept', 'memory_type': 'semantic', 'layer_uuid': '08b965ee-470a-4133-979b-0003edef15d0', 'layer_decomposition_uuid': '92ae1b09-3dfb-4e0b-920d-83341d1d8c7b', 'id': '41668990-dd09-4ac4-b46e-e8c372b9600b', 'type': 'detail'}), ('Consumer spending on pets in the UK has increased, extending to non-essential items and services - 08b965ee-470a-4133-979b-0003edef15d0  - 92ae1b09-3dfb-4e0b-920d-83341d1d8c7b - 4013dd6e-e086-435f-87ec-71f7e65cef4f', {'created_at': '2024-02-28 10:30:06', 'updated_at': '2024-02-28 10:30:06', 'description': 'Consumer spending on pets in the UK has increased, extending to non-essential items and services', 'category': 'concept', 'memory_type': 'semantic', 'layer_uuid': '08b965ee-470a-4133-979b-0003edef15d0', 'layer_decomposition_uuid': '92ae1b09-3dfb-4e0b-920d-83341d1d8c7b', 'id': '4013dd6e-e086-435f-87ec-71f7e65cef4f', 'type': 'detail'}), ('Many dogs experience lack of socialization and extended periods of isolation due to modern human schedules - 08b965ee-470a-4133-979b-0003edef15d0  - 92ae1b09-3dfb-4e0b-920d-83341d1d8c7b - 63487dfa-4ded-4dae-9a3c-d39c4ee81c56', {'created_at': '2024-02-28 10:30:06', 'updated_at': '2024-02-28 10:30:06', 'description': 'Many dogs experience lack of socialization and extended periods of isolation due to modern human schedules', 'category': 'concept', 'memory_type': 'semantic', 'layer_uuid': '08b965ee-470a-4133-979b-0003edef15d0', 'layer_decomposition_uuid': '92ae1b09-3dfb-4e0b-920d-83341d1d8c7b', 'id': '63487dfa-4ded-4dae-9a3c-d39c4ee81c56', 'type': 'detail'}), ('Ensuring the well-being of pets should be a priority, demanding sacrifices and quality care from the owners - 08b965ee-470a-4133-979b-0003edef15d0  - 92ae1b09-3dfb-4e0b-920d-83341d1d8c7b - a966e4e4-b436-4cf1-a3fc-0a13e86b11ea', {'created_at': '2024-02-28 10:30:06', 'updated_at': '2024-02-28 10:30:06', 'description': 'Ensuring the well-being of pets should be a priority, demanding sacrifices and quality care from the owners', 'category': 'concept', 'memory_type': 'semantic', 'layer_uuid': '08b965ee-470a-4133-979b-0003edef15d0', 'layer_decomposition_uuid': '92ae1b09-3dfb-4e0b-920d-83341d1d8c7b', 'id': 'a966e4e4-b436-4cf1-a3fc-0a13e86b11ea', 'type': 'detail'}), ('Britons have a significant and emotional connection with animals, particularly dogs. - 08b965ee-470a-4133-979b-0003edef15d0  - b40f5ed5-45cf-43f5-902c-d4928743f8fd - e9302b3b-7163-4465-afef-b7aa280ca473', {'created_at': '2024-02-28 10:30:06', 'updated_at': '2024-02-28 10:30:06', 'description': 'Britons have a significant and emotional connection with animals, particularly dogs.', 'category': 'culturalTrait', 'memory_type': 'semantic', 'layer_uuid': '08b965ee-470a-4133-979b-0003edef15d0', 'layer_decomposition_uuid': 'b40f5ed5-45cf-43f5-902c-d4928743f8fd', 'id': 'e9302b3b-7163-4465-afef-b7aa280ca473', 'type': 'detail'}), ('Kate Fox, an anthropologist who wrote about the English way of life with pets. - 08b965ee-470a-4133-979b-0003edef15d0  - b40f5ed5-45cf-43f5-902c-d4928743f8fd - 13487310-dca7-4d9c-b90a-3a9dae578b1c', {'created_at': '2024-02-28 10:30:06', 'updated_at': '2024-02-28 10:30:06', 'description': 'Kate Fox, an anthropologist who wrote about the English way of life with pets.', 'category': 'person', 'memory_type': 'semantic', 'layer_uuid': '08b965ee-470a-4133-979b-0003edef15d0', 'layer_decomposition_uuid': 'b40f5ed5-45cf-43f5-902c-d4928743f8fd', 'id': '13487310-dca7-4d9c-b90a-3a9dae578b1c', 'type': 'detail'}), ('Number of pet dogs in the UK increased from about nine million to 13 million between 2019 and 2022. - 08b965ee-470a-4133-979b-0003edef15d0  - b40f5ed5-45cf-43f5-902c-d4928743f8fd - e03ba3cf-411c-4fb9-b1fe-eb16386ccc85', {'created_at': '2024-02-28 10:30:06', 'updated_at': '2024-02-28 10:30:06', 'description': 'Number of pet dogs in the UK increased from about nine million to 13 million between 2019 and 2022.', 'category': 'statistic', 'memory_type': 'episodic', 'layer_uuid': '08b965ee-470a-4133-979b-0003edef15d0', 'layer_decomposition_uuid': 'b40f5ed5-45cf-43f5-902c-d4928743f8fd', 'id': 'e03ba3cf-411c-4fb9-b1fe-eb16386ccc85', 'type': 'detail'}), ('In the UK, dogs are often encouraged to accompany their owners in public places such as pubs and shops. - 08b965ee-470a-4133-979b-0003edef15d0  - b40f5ed5-45cf-43f5-902c-d4928743f8fd - b347cf77-1859-4490-aa44-7ae3367a671d', {'created_at': '2024-02-28 10:30:06', 'updated_at': '2024-02-28 10:30:06', 'description': 'In the UK, dogs are often encouraged to accompany their owners in public places such as pubs and shops.', 'category': 'socialNorm', 'memory_type': 'semantic', 'layer_uuid': '08b965ee-470a-4133-979b-0003edef15d0', 'layer_decomposition_uuid': 'b40f5ed5-45cf-43f5-902c-d4928743f8fd', 'id': 'b347cf77-1859-4490-aa44-7ae3367a671d', 'type': 'detail'}), ('The number of dog attacks recorded by police in England and Wales rose by more than a third between 2018 and 2022. - 08b965ee-470a-4133-979b-0003edef15d0  - b40f5ed5-45cf-43f5-902c-d4928743f8fd - cae144c9-020f-4463-a8dd-897b28bbdd08', {'created_at': '2024-02-28 10:30:06', 'updated_at': '2024-02-28 10:30:06', 'description': 'The number of dog attacks recorded by police in England and Wales rose by more than a third between 2018 and 2022.', 'category': 'statistic', 'memory_type': 'episodic', 'layer_uuid': '08b965ee-470a-4133-979b-0003edef15d0', 'layer_decomposition_uuid': 'b40f5ed5-45cf-43f5-902c-d4928743f8fd', 'id': 'cae144c9-020f-4463-a8dd-897b28bbdd08', 'type': 'detail'}), ('Pets, particularly dogs, are increasingly being treated as commodities rather than sentient beings. - 08b965ee-470a-4133-979b-0003edef15d0  - b40f5ed5-45cf-43f5-902c-d4928743f8fd - e97e5dcf-bb5e-474b-af34-ad03424d0af0', {'created_at': '2024-02-28 10:30:06', 'updated_at': '2024-02-28 10:30:06', 'description': 'Pets, particularly dogs, are increasingly being treated as commodities rather than sentient beings.', 'category': 'issue', 'memory_type': 'semantic', 'layer_uuid': '08b965ee-470a-4133-979b-0003edef15d0', 'layer_decomposition_uuid': 'b40f5ed5-45cf-43f5-902c-d4928743f8fd', 'id': 'e97e5dcf-bb5e-474b-af34-ad03424d0af0', 'type': 'detail'}), ('Popularity of designer breeds like French bulldogs and pugs, which often suffer due to their physical features. - 08b965ee-470a-4133-979b-0003edef15d0  - b40f5ed5-45cf-43f5-902c-d4928743f8fd - 051e310a-e51b-4e97-b846-8516ce2f5601', {'created_at': '2024-02-28 10:30:06', 'updated_at': '2024-02-28 10:30:06', 'description': 'Popularity of designer breeds like French bulldogs and pugs, which often suffer due to their physical features.', 'category': 'trend', 'memory_type': 'semantic', 'layer_uuid': '08b965ee-470a-4133-979b-0003edef15d0', 'layer_decomposition_uuid': 'b40f5ed5-45cf-43f5-902c-d4928743f8fd', 'id': '051e310a-e51b-4e97-b846-8516ce2f5601', 'type': 'detail'}), ('Controversial American XL bully dogs are sought after as a signifier of masculinity. - 08b965ee-470a-4133-979b-0003edef15d0  - b40f5ed5-45cf-43f5-902c-d4928743f8fd - fee9272b-5065-4f77-8fb2-fd12e9171cc5', {'created_at': '2024-02-28 10:30:06', 'updated_at': '2024-02-28 10:30:06', 'description': 'Controversial American XL bully dogs are sought after as a signifier of masculinity.', 'category': 'trend', 'memory_type': 'semantic', 'layer_uuid': '08b965ee-470a-4133-979b-0003edef15d0', 'layer_decomposition_uuid': 'b40f5ed5-45cf-43f5-902c-d4928743f8fd', 'id': 'fee9272b-5065-4f77-8fb2-fd12e9171cc5', 'type': 'detail'}), ('Pets are increasingly being treated as substitutes for children, altering the traditional British perspective of valuing dogs for their natural qualities. - 08b965ee-470a-4133-979b-0003edef15d0  - b40f5ed5-45cf-43f5-902c-d4928743f8fd - 7f213aae-feb2-4d03-b15c-ce410ebaf9ab', {'created_at': '2024-02-28 10:30:06', 'updated_at': '2024-02-28 10:30:06', 'description': 'Pets are increasingly being treated as substitutes for children, altering the traditional British perspective of valuing dogs for their natural qualities.', 'category': 'culturalShift', 'memory_type': 'semantic', 'layer_uuid': '08b965ee-470a-4133-979b-0003edef15d0', 'layer_decomposition_uuid': 'b40f5ed5-45cf-43f5-902c-d4928743f8fd', 'id': '7f213aae-feb2-4d03-b15c-ce410ebaf9ab', 'type': 'detail'}), ('Spending on pets in the UK has more than doubled in the past decade, reaching nearly £10bn in the previous year. - 08b965ee-470a-4133-979b-0003edef15d0  - b40f5ed5-45cf-43f5-902c-d4928743f8fd - c5222cd6-2358-4a35-9dcc-45d14029d03e', {'created_at': '2024-02-28 10:30:06', 'updated_at': '2024-02-28 10:30:06', 'description': 'Spending on pets in the UK has more than doubled in the past decade, reaching nearly £10bn in the previous year.', 'category': 'economicData', 'memory_type': 'semantic', 'layer_uuid': '08b965ee-470a-4133-979b-0003edef15d0', 'layer_decomposition_uuid': 'b40f5ed5-45cf-43f5-902c-d4928743f8fd', 'id': 'c5222cd6-2358-4a35-9dcc-45d14029d03e', 'type': 'detail'}), ('Rise in dog-friendly establishments like restaurants, theaters, and even churches, catering to dog owners more than the dogs themselves. - 08b965ee-470a-4133-979b-0003edef15d0  - b40f5ed5-45cf-43f5-902c-d4928743f8fd - bcae0131-7ce9-48b7-940b-e7e4f4799dd7', {'created_at': '2024-02-28 10:30:06', 'updated_at': '2024-02-28 10:30:06', 'description': 'Rise in dog-friendly establishments like restaurants, theaters, and even churches, catering to dog owners more than the dogs themselves.', 'category': 'socialTrend', 'memory_type': 'semantic', 'layer_uuid': '08b965ee-470a-4133-979b-0003edef15d0', 'layer_decomposition_uuid': 'b40f5ed5-45cf-43f5-902c-d4928743f8fd', 'id': 'bcae0131-7ce9-48b7-940b-e7e4f4799dd7', 'type': 'detail'}), (\"Many dogs suffer from daily deprivation and lack engagement due to their owner's busy schedules. - 08b965ee-470a-4133-979b-0003edef15d0  - b40f5ed5-45cf-43f5-902c-d4928743f8fd - 2dd5fb07-0278-4a66-9157-b6ab8774e0d6\", {'created_at': '2024-02-28 10:30:06', 'updated_at': '2024-02-28 10:30:06', 'description': \"Many dogs suffer from daily deprivation and lack engagement due to their owner's busy schedules.\", 'category': 'welfareIssue', 'memory_type': 'semantic', 'layer_uuid': '08b965ee-470a-4133-979b-0003edef15d0', 'layer_decomposition_uuid': 'b40f5ed5-45cf-43f5-902c-d4928743f8fd', 'id': '2dd5fb07-0278-4a66-9157-b6ab8774e0d6', 'type': 'detail'}), ('Behavioral issues in dogs often stem from insufficient exercise, supervision, and consistent routines. - 08b965ee-470a-4133-979b-0003edef15d0  - b40f5ed5-45cf-43f5-902c-d4928743f8fd - f0cc5882-a45e-46c5-be81-990305896fa1', {'created_at': '2024-02-28 10:30:06', 'updated_at': '2024-02-28 10:30:06', 'description': 'Behavioral issues in dogs often stem from insufficient exercise, supervision, and consistent routines.', 'category': 'welfareIssue', 'memory_type': 'semantic', 'layer_uuid': '08b965ee-470a-4133-979b-0003edef15d0', 'layer_decomposition_uuid': 'b40f5ed5-45cf-43f5-902c-d4928743f8fd', 'id': 'f0cc5882-a45e-46c5-be81-990305896fa1', 'type': 'detail'}), ('In British culture, keeping pets is an integral way of life and an outlet for emotions, with a particular fondness for dogs - 380ae041-a5e2-4057-a310-4442bb36b1a1  - 771e3cc9-fb2f-422e-a8f8-e067d6b44e34 - 79077e21-6c55-4174-8f73-a3dd7b4a39ce', {'created_at': '2024-02-28 10:30:27', 'updated_at': '2024-02-28 10:30:27', 'description': 'In British culture, keeping pets is an integral way of life and an outlet for emotions, with a particular fondness for dogs', 'category': 'Cultural Practices', 'memory_type': 'semantic', 'layer_uuid': '380ae041-a5e2-4057-a310-4442bb36b1a1', 'layer_decomposition_uuid': '771e3cc9-fb2f-422e-a8f8-e067d6b44e34', 'id': '79077e21-6c55-4174-8f73-a3dd7b4a39ce', 'type': 'detail'}), ('Dogs serve as an acceptable outlet for typically controlled British emotions, facilitating affection and sociability - 380ae041-a5e2-4057-a310-4442bb36b1a1  - 771e3cc9-fb2f-422e-a8f8-e067d6b44e34 - d7b5b0ee-7fbe-4065-b09c-c0a38efef1bb', {'created_at': '2024-02-28 10:30:27', 'updated_at': '2024-02-28 10:30:27', 'description': 'Dogs serve as an acceptable outlet for typically controlled British emotions, facilitating affection and sociability', 'category': 'Cultural Practices', 'memory_type': 'semantic', 'layer_uuid': '380ae041-a5e2-4057-a310-4442bb36b1a1', 'layer_decomposition_uuid': '771e3cc9-fb2f-422e-a8f8-e067d6b44e34', 'id': 'd7b5b0ee-7fbe-4065-b09c-c0a38efef1bb', 'type': 'detail'}), (\"Public spaces in the UK are accommodating of dogs, with signs such as 'Dogs welcome, people tolerated' and treats offered in establishments - 380ae041-a5e2-4057-a310-4442bb36b1a1  - 771e3cc9-fb2f-422e-a8f8-e067d6b44e34 - c4c5ad12-1d14-4c13-a6ea-8b0a53e3879c\", {'created_at': '2024-02-28 10:30:27', 'updated_at': '2024-02-28 10:30:27', 'description': \"Public spaces in the UK are accommodating of dogs, with signs such as 'Dogs welcome, people tolerated' and treats offered in establishments\", 'category': 'Cultural Practices', 'memory_type': 'semantic', 'layer_uuid': '380ae041-a5e2-4057-a310-4442bb36b1a1', 'layer_decomposition_uuid': '771e3cc9-fb2f-422e-a8f8-e067d6b44e34', 'id': 'c4c5ad12-1d14-4c13-a6ea-8b0a53e3879c', 'type': 'detail'}), ('Dogs act as social catalysts, making it more acceptable to converse with strangers in parks rather than more formal settings like trains - 380ae041-a5e2-4057-a310-4442bb36b1a1  - 771e3cc9-fb2f-422e-a8f8-e067d6b44e34 - b1abfc01-dd15-4637-b872-9852666f0fa3', {'created_at': '2024-02-28 10:30:27', 'updated_at': '2024-02-28 10:30:27', 'description': 'Dogs act as social catalysts, making it more acceptable to converse with strangers in parks rather than more formal settings like trains', 'category': 'Cultural Practices', 'memory_type': 'semantic', 'layer_uuid': '380ae041-a5e2-4057-a310-4442bb36b1a1', 'layer_decomposition_uuid': '771e3cc9-fb2f-422e-a8f8-e067d6b44e34', 'id': 'b1abfc01-dd15-4637-b872-9852666f0fa3', 'type': 'detail'}), ('The COVID-19 pandemic caused a surge in pet ownership in the UK, with the dog population rising from 9 million to 13 million between 2019 and 2022 - 380ae041-a5e2-4057-a310-4442bb36b1a1  - 771e3cc9-fb2f-422e-a8f8-e067d6b44e34 - 31bf1fcd-1b58-4402-aa51-66f9a5ae09e9', {'created_at': '2024-02-28 10:30:27', 'updated_at': '2024-02-28 10:30:27', 'description': 'The COVID-19 pandemic caused a surge in pet ownership in the UK, with the dog population rising from 9 million to 13 million between 2019 and 2022', 'category': 'Events', 'memory_type': 'episodic', 'layer_uuid': '380ae041-a5e2-4057-a310-4442bb36b1a1', 'layer_decomposition_uuid': '771e3cc9-fb2f-422e-a8f8-e067d6b44e34', 'id': '31bf1fcd-1b58-4402-aa51-66f9a5ae09e9', 'type': 'detail'}), ('England and Wales saw a significant increase in dog attacks between 2018 and 2022, aligning with a rise in the number of dogs and changes in ownership dynamics - 380ae041-a5e2-4057-a310-4442bb36b1a1  - 771e3cc9-fb2f-422e-a8f8-e067d6b44e34 - 3c6e91ac-a064-4cdc-a77e-7ee289c441bb', {'created_at': '2024-02-28 10:30:27', 'updated_at': '2024-02-28 10:30:27', 'description': 'England and Wales saw a significant increase in dog attacks between 2018 and 2022, aligning with a rise in the number of dogs and changes in ownership dynamics', 'category': 'Events', 'memory_type': 'episodic', 'layer_uuid': '380ae041-a5e2-4057-a310-4442bb36b1a1', 'layer_decomposition_uuid': '771e3cc9-fb2f-422e-a8f8-e067d6b44e34', 'id': '3c6e91ac-a064-4cdc-a77e-7ee289c441bb', 'type': 'detail'}), (\"There is a concerning trend of treating living beings, particularly popular 'designer' dog breeds, as commodities rather than sentient beings - 380ae041-a5e2-4057-a310-4442bb36b1a1  - 771e3cc9-fb2f-422e-a8f8-e067d6b44e34 - a415b6c7-927b-413a-a85a-9fa4501101b8\", {'created_at': '2024-02-28 10:30:27', 'updated_at': '2024-02-28 10:30:27', 'description': \"There is a concerning trend of treating living beings, particularly popular 'designer' dog breeds, as commodities rather than sentient beings\", 'category': 'Cultural Practices', 'memory_type': 'semantic', 'layer_uuid': '380ae041-a5e2-4057-a310-4442bb36b1a1', 'layer_decomposition_uuid': '771e3cc9-fb2f-422e-a8f8-e067d6b44e34', 'id': 'a415b6c7-927b-413a-a85a-9fa4501101b8', 'type': 'detail'}), (\"The cultural shift in Britain towards treating pets as substitutes for children, favoring aesthetics over the animal's natural function and well-being - 380ae041-a5e2-4057-a310-4442bb36b1a1  - 771e3cc9-fb2f-422e-a8f8-e067d6b44e34 - 2b49093f-c8cc-41db-9493-0875e63c03b7\", {'created_at': '2024-02-28 10:30:27', 'updated_at': '2024-02-28 10:30:27', 'description': \"The cultural shift in Britain towards treating pets as substitutes for children, favoring aesthetics over the animal's natural function and well-being\", 'category': 'Cultural Practices', 'memory_type': 'semantic', 'layer_uuid': '380ae041-a5e2-4057-a310-4442bb36b1a1', 'layer_decomposition_uuid': '771e3cc9-fb2f-422e-a8f8-e067d6b44e34', 'id': '2b49093f-c8cc-41db-9493-0875e63c03b7', 'type': 'detail'}), ('Consumerism in pet care is escalating in the UK with a significant increase in unnecessary spending on pets, including trends and luxury items - 380ae041-a5e2-4057-a310-4442bb36b1a1  - 771e3cc9-fb2f-422e-a8f8-e067d6b44e34 - 13ba943f-07a3-474f-9b55-78db5e2e74e6', {'created_at': '2024-02-28 10:30:27', 'updated_at': '2024-02-28 10:30:27', 'description': 'Consumerism in pet care is escalating in the UK with a significant increase in unnecessary spending on pets, including trends and luxury items', 'category': 'Cultural Practices', 'memory_type': 'semantic', 'layer_uuid': '380ae041-a5e2-4057-a310-4442bb36b1a1', 'layer_decomposition_uuid': '771e3cc9-fb2f-422e-a8f8-e067d6b44e34', 'id': '13ba943f-07a3-474f-9b55-78db5e2e74e6', 'type': 'detail'}), ('Pets are often indulged with unnecessary treats and services that do not align with their genuine needs or desires, indicative of human emotional solace through consumption - 380ae041-a5e2-4057-a310-4442bb36b1a1  - 771e3cc9-fb2f-422e-a8f8-e067d6b44e34 - e608012f-d173-4a7b-bd31-fd226de4eb34', {'created_at': '2024-02-28 10:30:27', 'updated_at': '2024-02-28 10:30:27', 'description': 'Pets are often indulged with unnecessary treats and services that do not align with their genuine needs or desires, indicative of human emotional solace through consumption', 'category': 'Cultural Practices', 'memory_type': 'semantic', 'layer_uuid': '380ae041-a5e2-4057-a310-4442bb36b1a1', 'layer_decomposition_uuid': '771e3cc9-fb2f-422e-a8f8-e067d6b44e34', 'id': 'e608012f-d173-4a7b-bd31-fd226de4eb34', 'type': 'detail'}), ('Modern lifestyles with busy schedules are causing dogs to live monotonous lives, leading to behavioral problems that are often placated by trivial indulgences - 380ae041-a5e2-4057-a310-4442bb36b1a1  - 771e3cc9-fb2f-422e-a8f8-e067d6b44e34 - a3094d0e-58e7-4017-bfc5-532b8d9cf427', {'created_at': '2024-02-28 10:30:27', 'updated_at': '2024-02-28 10:30:27', 'description': 'Modern lifestyles with busy schedules are causing dogs to live monotonous lives, leading to behavioral problems that are often placated by trivial indulgences', 'category': 'Cultural Practices', 'memory_type': 'semantic', 'layer_uuid': '380ae041-a5e2-4057-a310-4442bb36b1a1', 'layer_decomposition_uuid': '771e3cc9-fb2f-422e-a8f8-e067d6b44e34', 'id': 'a3094d0e-58e7-4017-bfc5-532b8d9cf427', 'type': 'detail'}), (\"Proper pet care advocates for prioritizing pets' quality of life and well-being over anthropomorphic indulgences and misguided expressions of affection - 380ae041-a5e2-4057-a310-4442bb36b1a1  - 771e3cc9-fb2f-422e-a8f8-e067d6b44e34 - 825f13c6-6e45-4100-bf99-4f69645d621a\", {'created_at': '2024-02-28 10:30:27', 'updated_at': '2024-02-28 10:30:27', 'description': \"Proper pet care advocates for prioritizing pets' quality of life and well-being over anthropomorphic indulgences and misguided expressions of affection\", 'category': 'Cultural Practices', 'memory_type': 'semantic', 'layer_uuid': '380ae041-a5e2-4057-a310-4442bb36b1a1', 'layer_decomposition_uuid': '771e3cc9-fb2f-422e-a8f8-e067d6b44e34', 'id': '825f13c6-6e45-4100-bf99-4f69645d621a', 'type': 'detail'}), (\"Kate Fox, an anthropologist who described Britons' affection towards pets as a way of life in her book 'Watching the English' - 380ae041-a5e2-4057-a310-4442bb36b1a1  - f3b1dd35-0640-40a0-a664-fb037aeb43c7 - 28b94ef3-29ca-48f7-9d9c-c338590cce80\", {'created_at': '2024-02-28 10:30:27', 'updated_at': '2024-02-28 10:30:27', 'description': \"Kate Fox, an anthropologist who described Britons' affection towards pets as a way of life in her book 'Watching the English'\", 'category': 'person', 'memory_type': 'semantic', 'layer_uuid': '380ae041-a5e2-4057-a310-4442bb36b1a1', 'layer_decomposition_uuid': 'f3b1dd35-0640-40a0-a664-fb037aeb43c7', 'id': '28b94ef3-29ca-48f7-9d9c-c338590cce80', 'type': 'detail'}), ('Dogs serve as an outlet for emotions and social engagement for Britons - 380ae041-a5e2-4057-a310-4442bb36b1a1  - f3b1dd35-0640-40a0-a664-fb037aeb43c7 - e50d2bc9-1743-4dd2-a300-c3e5a6214099', {'created_at': '2024-02-28 10:30:27', 'updated_at': '2024-02-28 10:30:27', 'description': 'Dogs serve as an outlet for emotions and social engagement for Britons', 'category': 'concept', 'memory_type': 'semantic', 'layer_uuid': '380ae041-a5e2-4057-a310-4442bb36b1a1', 'layer_decomposition_uuid': 'f3b1dd35-0640-40a0-a664-fb037aeb43c7', 'id': 'e50d2bc9-1743-4dd2-a300-c3e5a6214099', 'type': 'detail'}), ('In the UK, dogs are accepted and encouraged in various public spaces like transport, pubs, and shops - 380ae041-a5e2-4057-a310-4442bb36b1a1  - f3b1dd35-0640-40a0-a664-fb037aeb43c7 - a2164a17-65e6-4820-a336-ffc162db2c74', {'created_at': '2024-02-28 10:30:27', 'updated_at': '2024-02-28 10:30:27', 'description': 'In the UK, dogs are accepted and encouraged in various public spaces like transport, pubs, and shops', 'category': 'concept', 'memory_type': 'semantic', 'layer_uuid': '380ae041-a5e2-4057-a310-4442bb36b1a1', 'layer_decomposition_uuid': 'f3b1dd35-0640-40a0-a664-fb037aeb43c7', 'id': 'a2164a17-65e6-4820-a336-ffc162db2c74', 'type': 'detail'}), ('Despite societal changes, the passion for animals in the UK has been consistent - 380ae041-a5e2-4057-a310-4442bb36b1a1  - f3b1dd35-0640-40a0-a664-fb037aeb43c7 - a5049ead-4319-4e5f-b852-c3b4a635c697', {'created_at': '2024-02-28 10:30:27', 'updated_at': '2024-02-28 10:30:27', 'description': 'Despite societal changes, the passion for animals in the UK has been consistent', 'category': 'concept', 'memory_type': 'semantic', 'layer_uuid': '380ae041-a5e2-4057-a310-4442bb36b1a1', 'layer_decomposition_uuid': 'f3b1dd35-0640-40a0-a664-fb037aeb43c7', 'id': 'a5049ead-4319-4e5f-b852-c3b4a635c697', 'type': 'detail'}), ('The COVID-19 pandemic led to a surge in pet ownership, increasing the number of dogs in the UK - 380ae041-a5e2-4057-a310-4442bb36b1a1  - f3b1dd35-0640-40a0-a664-fb037aeb43c7 - 1f85ed11-a1b8-4095-bc6f-33199c5de563', {'created_at': '2024-02-28 10:30:27', 'updated_at': '2024-02-28 10:30:27', 'description': 'The COVID-19 pandemic led to a surge in pet ownership, increasing the number of dogs in the UK', 'category': 'event', 'memory_type': 'episodic', 'layer_uuid': '380ae041-a5e2-4057-a310-4442bb36b1a1', 'layer_decomposition_uuid': 'f3b1dd35-0640-40a0-a664-fb037aeb43c7', 'id': '1f85ed11-a1b8-4095-bc6f-33199c5de563', 'type': 'detail'}), (\"'A dog is for life, not just for Christmas' is a slogan by Dogs Trust charity to advocate responsible pet ownership - 380ae041-a5e2-4057-a310-4442bb36b1a1  - f3b1dd35-0640-40a0-a664-fb037aeb43c7 - 5128daed-0331-4f92-b70a-97717d8f2982\", {'created_at': '2024-02-28 10:30:27', 'updated_at': '2024-02-28 10:30:27', 'description': \"'A dog is for life, not just for Christmas' is a slogan by Dogs Trust charity to advocate responsible pet ownership\", 'category': 'entity', 'memory_type': 'semantic', 'layer_uuid': '380ae041-a5e2-4057-a310-4442bb36b1a1', 'layer_decomposition_uuid': 'f3b1dd35-0640-40a0-a664-fb037aeb43c7', 'id': '5128daed-0331-4f92-b70a-97717d8f2982', 'type': 'detail'}), ('The number of dog attacks in England and Wales saw a significant rise - 380ae041-a5e2-4057-a310-4442bb36b1a1  - f3b1dd35-0640-40a0-a664-fb037aeb43c7 - 2f175c88-0082-41af-86fa-e24672fbf7b1', {'created_at': '2024-02-28 10:30:27', 'updated_at': '2024-02-28 10:30:27', 'description': 'The number of dog attacks in England and Wales saw a significant rise', 'category': 'event', 'memory_type': 'episodic', 'layer_uuid': '380ae041-a5e2-4057-a310-4442bb36b1a1', 'layer_decomposition_uuid': 'f3b1dd35-0640-40a0-a664-fb037aeb43c7', 'id': '2f175c88-0082-41af-86fa-e24672fbf7b1', 'type': 'detail'}), (\"Certain dog breeds are increasingly perceived as commodities, particularly 'designer' breeds - 380ae041-a5e2-4057-a310-4442bb36b1a1  - f3b1dd35-0640-40a0-a664-fb037aeb43c7 - d6913e37-0a2d-42bc-a25b-9269c66d096c\", {'created_at': '2024-02-28 10:30:27', 'updated_at': '2024-02-28 10:30:27', 'description': \"Certain dog breeds are increasingly perceived as commodities, particularly 'designer' breeds\", 'category': 'concept', 'memory_type': 'semantic', 'layer_uuid': '380ae041-a5e2-4057-a310-4442bb36b1a1', 'layer_decomposition_uuid': 'f3b1dd35-0640-40a0-a664-fb037aeb43c7', 'id': 'd6913e37-0a2d-42bc-a25b-9269c66d096c', 'type': 'detail'}), ('Consumer spending on pets in the UK has increased, extending to non-essential items and services - 380ae041-a5e2-4057-a310-4442bb36b1a1  - f3b1dd35-0640-40a0-a664-fb037aeb43c7 - 9e636e69-898d-47c8-9780-58644766fd4e', {'created_at': '2024-02-28 10:30:27', 'updated_at': '2024-02-28 10:30:27', 'description': 'Consumer spending on pets in the UK has increased, extending to non-essential items and services', 'category': 'concept', 'memory_type': 'semantic', 'layer_uuid': '380ae041-a5e2-4057-a310-4442bb36b1a1', 'layer_decomposition_uuid': 'f3b1dd35-0640-40a0-a664-fb037aeb43c7', 'id': '9e636e69-898d-47c8-9780-58644766fd4e', 'type': 'detail'}), ('Many dogs experience lack of socialization and extended periods of isolation due to modern human schedules - 380ae041-a5e2-4057-a310-4442bb36b1a1  - f3b1dd35-0640-40a0-a664-fb037aeb43c7 - 5a20b86e-f42a-49d4-aa52-04ee367fa541', {'created_at': '2024-02-28 10:30:27', 'updated_at': '2024-02-28 10:30:27', 'description': 'Many dogs experience lack of socialization and extended periods of isolation due to modern human schedules', 'category': 'concept', 'memory_type': 'semantic', 'layer_uuid': '380ae041-a5e2-4057-a310-4442bb36b1a1', 'layer_decomposition_uuid': 'f3b1dd35-0640-40a0-a664-fb037aeb43c7', 'id': '5a20b86e-f42a-49d4-aa52-04ee367fa541', 'type': 'detail'}), ('Ensuring the well-being of pets should be a priority, demanding sacrifices and quality care from the owners - 380ae041-a5e2-4057-a310-4442bb36b1a1  - f3b1dd35-0640-40a0-a664-fb037aeb43c7 - 852c1ef3-9488-42d1-9d5c-ca3835b4429d', {'created_at': '2024-02-28 10:30:27', 'updated_at': '2024-02-28 10:30:27', 'description': 'Ensuring the well-being of pets should be a priority, demanding sacrifices and quality care from the owners', 'category': 'concept', 'memory_type': 'semantic', 'layer_uuid': '380ae041-a5e2-4057-a310-4442bb36b1a1', 'layer_decomposition_uuid': 'f3b1dd35-0640-40a0-a664-fb037aeb43c7', 'id': '852c1ef3-9488-42d1-9d5c-ca3835b4429d', 'type': 'detail'}), ('Britons have a significant and emotional connection with animals, particularly dogs. - 380ae041-a5e2-4057-a310-4442bb36b1a1  - e81660f7-b9a2-4266-a468-404a49b05888 - a00ab56e-c7d2-456f-8639-940e77191f6e', {'created_at': '2024-02-28 10:30:27', 'updated_at': '2024-02-28 10:30:27', 'description': 'Britons have a significant and emotional connection with animals, particularly dogs.', 'category': 'culturalTrait', 'memory_type': 'semantic', 'layer_uuid': '380ae041-a5e2-4057-a310-4442bb36b1a1', 'layer_decomposition_uuid': 'e81660f7-b9a2-4266-a468-404a49b05888', 'id': 'a00ab56e-c7d2-456f-8639-940e77191f6e', 'type': 'detail'}), ('Kate Fox, an anthropologist who wrote about the English way of life with pets. - 380ae041-a5e2-4057-a310-4442bb36b1a1  - e81660f7-b9a2-4266-a468-404a49b05888 - 587bef07-1999-44d8-a061-61615622559f', {'created_at': '2024-02-28 10:30:27', 'updated_at': '2024-02-28 10:30:27', 'description': 'Kate Fox, an anthropologist who wrote about the English way of life with pets.', 'category': 'person', 'memory_type': 'semantic', 'layer_uuid': '380ae041-a5e2-4057-a310-4442bb36b1a1', 'layer_decomposition_uuid': 'e81660f7-b9a2-4266-a468-404a49b05888', 'id': '587bef07-1999-44d8-a061-61615622559f', 'type': 'detail'}), ('Number of pet dogs in the UK increased from about nine million to 13 million between 2019 and 2022. - 380ae041-a5e2-4057-a310-4442bb36b1a1  - e81660f7-b9a2-4266-a468-404a49b05888 - 0647c492-a445-4e35-b428-97a0a558655f', {'created_at': '2024-02-28 10:30:27', 'updated_at': '2024-02-28 10:30:27', 'description': 'Number of pet dogs in the UK increased from about nine million to 13 million between 2019 and 2022.', 'category': 'statistic', 'memory_type': 'episodic', 'layer_uuid': '380ae041-a5e2-4057-a310-4442bb36b1a1', 'layer_decomposition_uuid': 'e81660f7-b9a2-4266-a468-404a49b05888', 'id': '0647c492-a445-4e35-b428-97a0a558655f', 'type': 'detail'}), ('In the UK, dogs are often encouraged to accompany their owners in public places such as pubs and shops. - 380ae041-a5e2-4057-a310-4442bb36b1a1  - e81660f7-b9a2-4266-a468-404a49b05888 - 71843af8-14e0-4d92-97e6-01a0efd6dc33', {'created_at': '2024-02-28 10:30:27', 'updated_at': '2024-02-28 10:30:27', 'description': 'In the UK, dogs are often encouraged to accompany their owners in public places such as pubs and shops.', 'category': 'socialNorm', 'memory_type': 'semantic', 'layer_uuid': '380ae041-a5e2-4057-a310-4442bb36b1a1', 'layer_decomposition_uuid': 'e81660f7-b9a2-4266-a468-404a49b05888', 'id': '71843af8-14e0-4d92-97e6-01a0efd6dc33', 'type': 'detail'}), ('The number of dog attacks recorded by police in England and Wales rose by more than a third between 2018 and 2022. - 380ae041-a5e2-4057-a310-4442bb36b1a1  - e81660f7-b9a2-4266-a468-404a49b05888 - 36bdc9cf-bcab-4328-8e84-c41132afb2bc', {'created_at': '2024-02-28 10:30:27', 'updated_at': '2024-02-28 10:30:27', 'description': 'The number of dog attacks recorded by police in England and Wales rose by more than a third between 2018 and 2022.', 'category': 'statistic', 'memory_type': 'episodic', 'layer_uuid': '380ae041-a5e2-4057-a310-4442bb36b1a1', 'layer_decomposition_uuid': 'e81660f7-b9a2-4266-a468-404a49b05888', 'id': '36bdc9cf-bcab-4328-8e84-c41132afb2bc', 'type': 'detail'}), ('Pets, particularly dogs, are increasingly being treated as commodities rather than sentient beings. - 380ae041-a5e2-4057-a310-4442bb36b1a1  - e81660f7-b9a2-4266-a468-404a49b05888 - ac9a7da4-9b7c-476e-be55-7d358a09ac89', {'created_at': '2024-02-28 10:30:27', 'updated_at': '2024-02-28 10:30:27', 'description': 'Pets, particularly dogs, are increasingly being treated as commodities rather than sentient beings.', 'category': 'issue', 'memory_type': 'semantic', 'layer_uuid': '380ae041-a5e2-4057-a310-4442bb36b1a1', 'layer_decomposition_uuid': 'e81660f7-b9a2-4266-a468-404a49b05888', 'id': 'ac9a7da4-9b7c-476e-be55-7d358a09ac89', 'type': 'detail'}), ('Popularity of designer breeds like French bulldogs and pugs, which often suffer due to their physical features. - 380ae041-a5e2-4057-a310-4442bb36b1a1  - e81660f7-b9a2-4266-a468-404a49b05888 - 8cd9795d-9bb5-4e2f-85b1-f7404b368ded', {'created_at': '2024-02-28 10:30:27', 'updated_at': '2024-02-28 10:30:27', 'description': 'Popularity of designer breeds like French bulldogs and pugs, which often suffer due to their physical features.', 'category': 'trend', 'memory_type': 'semantic', 'layer_uuid': '380ae041-a5e2-4057-a310-4442bb36b1a1', 'layer_decomposition_uuid': 'e81660f7-b9a2-4266-a468-404a49b05888', 'id': '8cd9795d-9bb5-4e2f-85b1-f7404b368ded', 'type': 'detail'}), ('Controversial American XL bully dogs are sought after as a signifier of masculinity. - 380ae041-a5e2-4057-a310-4442bb36b1a1  - e81660f7-b9a2-4266-a468-404a49b05888 - 3b0343f8-4b46-44ad-bd5b-6416c3d1bd69', {'created_at': '2024-02-28 10:30:27', 'updated_at': '2024-02-28 10:30:27', 'description': 'Controversial American XL bully dogs are sought after as a signifier of masculinity.', 'category': 'trend', 'memory_type': 'semantic', 'layer_uuid': '380ae041-a5e2-4057-a310-4442bb36b1a1', 'layer_decomposition_uuid': 'e81660f7-b9a2-4266-a468-404a49b05888', 'id': '3b0343f8-4b46-44ad-bd5b-6416c3d1bd69', 'type': 'detail'}), ('Pets are increasingly being treated as substitutes for children, altering the traditional British perspective of valuing dogs for their natural qualities. - 380ae041-a5e2-4057-a310-4442bb36b1a1  - e81660f7-b9a2-4266-a468-404a49b05888 - af7d8c20-f65a-4f54-b66a-25914ecd482f', {'created_at': '2024-02-28 10:30:27', 'updated_at': '2024-02-28 10:30:27', 'description': 'Pets are increasingly being treated as substitutes for children, altering the traditional British perspective of valuing dogs for their natural qualities.', 'category': 'culturalShift', 'memory_type': 'semantic', 'layer_uuid': '380ae041-a5e2-4057-a310-4442bb36b1a1', 'layer_decomposition_uuid': 'e81660f7-b9a2-4266-a468-404a49b05888', 'id': 'af7d8c20-f65a-4f54-b66a-25914ecd482f', 'type': 'detail'}), ('Spending on pets in the UK has more than doubled in the past decade, reaching nearly £10bn in the previous year. - 380ae041-a5e2-4057-a310-4442bb36b1a1  - e81660f7-b9a2-4266-a468-404a49b05888 - 00d5a220-53f4-4025-b498-c1aa5e3a01ec', {'created_at': '2024-02-28 10:30:27', 'updated_at': '2024-02-28 10:30:27', 'description': 'Spending on pets in the UK has more than doubled in the past decade, reaching nearly £10bn in the previous year.', 'category': 'economicData', 'memory_type': 'semantic', 'layer_uuid': '380ae041-a5e2-4057-a310-4442bb36b1a1', 'layer_decomposition_uuid': 'e81660f7-b9a2-4266-a468-404a49b05888', 'id': '00d5a220-53f4-4025-b498-c1aa5e3a01ec', 'type': 'detail'}), ('Rise in dog-friendly establishments like restaurants, theaters, and even churches, catering to dog owners more than the dogs themselves. - 380ae041-a5e2-4057-a310-4442bb36b1a1  - e81660f7-b9a2-4266-a468-404a49b05888 - cde52305-bf4c-4363-9c65-69c9ce85a130', {'created_at': '2024-02-28 10:30:27', 'updated_at': '2024-02-28 10:30:27', 'description': 'Rise in dog-friendly establishments like restaurants, theaters, and even churches, catering to dog owners more than the dogs themselves.', 'category': 'socialTrend', 'memory_type': 'semantic', 'layer_uuid': '380ae041-a5e2-4057-a310-4442bb36b1a1', 'layer_decomposition_uuid': 'e81660f7-b9a2-4266-a468-404a49b05888', 'id': 'cde52305-bf4c-4363-9c65-69c9ce85a130', 'type': 'detail'}), (\"Many dogs suffer from daily deprivation and lack engagement due to their owner's busy schedules. - 380ae041-a5e2-4057-a310-4442bb36b1a1  - e81660f7-b9a2-4266-a468-404a49b05888 - a9f9c262-0375-4679-a888-1e0ee7ae3f82\", {'created_at': '2024-02-28 10:30:27', 'updated_at': '2024-02-28 10:30:27', 'description': \"Many dogs suffer from daily deprivation and lack engagement due to their owner's busy schedules.\", 'category': 'welfareIssue', 'memory_type': 'semantic', 'layer_uuid': '380ae041-a5e2-4057-a310-4442bb36b1a1', 'layer_decomposition_uuid': 'e81660f7-b9a2-4266-a468-404a49b05888', 'id': 'a9f9c262-0375-4679-a888-1e0ee7ae3f82', 'type': 'detail'}), ('Behavioral issues in dogs often stem from insufficient exercise, supervision, and consistent routines. - 380ae041-a5e2-4057-a310-4442bb36b1a1  - e81660f7-b9a2-4266-a468-404a49b05888 - 0e3b2833-a283-4d47-9c10-42a48b2e4558', {'created_at': '2024-02-28 10:30:27', 'updated_at': '2024-02-28 10:30:27', 'description': 'Behavioral issues in dogs often stem from insufficient exercise, supervision, and consistent routines.', 'category': 'welfareIssue', 'memory_type': 'semantic', 'layer_uuid': '380ae041-a5e2-4057-a310-4442bb36b1a1', 'layer_decomposition_uuid': 'e81660f7-b9a2-4266-a468-404a49b05888', 'id': '0e3b2833-a283-4d47-9c10-42a48b2e4558', 'type': 'detail'}), ('Lee Parkin, 50, owner of the late terrier-spaniel cross Izzy, suffers from PTSD - 269f0df8-8091-442c-9392-0b710e4dc350  - 48c1a502-48b1-4240-87ac-6558d41e1b6f - f9a5e037-d553-4653-b12e-08c4f0116f2e', {'created_at': '2024-02-28 10:30:28', 'updated_at': '2024-02-28 10:30:28', 'description': 'Lee Parkin, 50, owner of the late terrier-spaniel cross Izzy, suffers from PTSD', 'category': 'person', 'memory_type': 'episodic', 'layer_uuid': '269f0df8-8091-442c-9392-0b710e4dc350', 'layer_decomposition_uuid': '48c1a502-48b1-4240-87ac-6558d41e1b6f', 'id': 'f9a5e037-d553-4653-b12e-08c4f0116f2e', 'type': 'detail'}), ('Izzy, a terrier-spaniel cross owned by Lee Parkin, killed by an XL bully - 269f0df8-8091-442c-9392-0b710e4dc350  - 48c1a502-48b1-4240-87ac-6558d41e1b6f - 6cbc6c59-ba4a-4e9d-a1fd-cad1e53ca0bb', {'created_at': '2024-02-28 10:30:28', 'updated_at': '2024-02-28 10:30:28', 'description': 'Izzy, a terrier-spaniel cross owned by Lee Parkin, killed by an XL bully', 'category': 'animal', 'memory_type': 'episodic', 'layer_uuid': '269f0df8-8091-442c-9392-0b710e4dc350', 'layer_decomposition_uuid': '48c1a502-48b1-4240-87ac-6558d41e1b6f', 'id': '6cbc6c59-ba4a-4e9d-a1fd-cad1e53ca0bb', 'type': 'detail'}), ('An XL bully attacked and killed Izzy during a walk with Lee Parkin in Doncaster - 269f0df8-8091-442c-9392-0b710e4dc350  - 48c1a502-48b1-4240-87ac-6558d41e1b6f - ff57a581-9252-4e3c-befe-1e5604b41d99', {'created_at': '2024-02-28 10:30:28', 'updated_at': '2024-02-28 10:30:28', 'description': 'An XL bully attacked and killed Izzy during a walk with Lee Parkin in Doncaster', 'category': 'event', 'memory_type': 'episodic', 'layer_uuid': '269f0df8-8091-442c-9392-0b710e4dc350', 'layer_decomposition_uuid': '48c1a502-48b1-4240-87ac-6558d41e1b6f', 'id': 'ff57a581-9252-4e3c-befe-1e5604b41d99', 'type': 'detail'}), ('Doncaster, the location where Izzy was attacked and killed by an XL bully - 269f0df8-8091-442c-9392-0b710e4dc350  - 48c1a502-48b1-4240-87ac-6558d41e1b6f - 9789680e-0b01-413c-b25d-48ebfb14a4be', {'created_at': '2024-02-28 10:30:28', 'updated_at': '2024-02-28 10:30:28', 'description': 'Doncaster, the location where Izzy was attacked and killed by an XL bully', 'category': 'location', 'memory_type': 'semantic', 'layer_uuid': '269f0df8-8091-442c-9392-0b710e4dc350', 'layer_decomposition_uuid': '48c1a502-48b1-4240-87ac-6558d41e1b6f', 'id': '9789680e-0b01-413c-b25d-48ebfb14a4be', 'type': 'detail'}), (\"Naevia, Marie Hay's Siberian husky, survived an attack by two XL bullies with life-changing injuries - 269f0df8-8091-442c-9392-0b710e4dc350  - 48c1a502-48b1-4240-87ac-6558d41e1b6f - 020d10ec-8072-4c3c-ad22-b407d2698734\", {'created_at': '2024-02-28 10:30:28', 'updated_at': '2024-02-28 10:30:28', 'description': \"Naevia, Marie Hay's Siberian husky, survived an attack by two XL bullies with life-changing injuries\", 'category': 'animal', 'memory_type': 'episodic', 'layer_uuid': '269f0df8-8091-442c-9392-0b710e4dc350', 'layer_decomposition_uuid': '48c1a502-48b1-4240-87ac-6558d41e1b6f', 'id': '020d10ec-8072-4c3c-ad22-b407d2698734', 'type': 'detail'}), ('Marie Hay, owner of Naevia, who survived an XL bully attack with mental and physical scars - 269f0df8-8091-442c-9392-0b710e4dc350  - 48c1a502-48b1-4240-87ac-6558d41e1b6f - bdd48050-06df-4f42-962c-50aa55dde03c', {'created_at': '2024-02-28 10:30:28', 'updated_at': '2024-02-28 10:30:28', 'description': 'Marie Hay, owner of Naevia, who survived an XL bully attack with mental and physical scars', 'category': 'person', 'memory_type': 'episodic', 'layer_uuid': '269f0df8-8091-442c-9392-0b710e4dc350', 'layer_decomposition_uuid': '48c1a502-48b1-4240-87ac-6558d41e1b6f', 'id': 'bdd48050-06df-4f42-962c-50aa55dde03c', 'type': 'detail'}), ('Two XL bullies attacked Naevia on a beach in Redcar, causing severe injuries - 269f0df8-8091-442c-9392-0b710e4dc350  - 48c1a502-48b1-4240-87ac-6558d41e1b6f - be6ecfcf-46ee-404f-8d89-a1214fa73e20', {'created_at': '2024-02-28 10:30:28', 'updated_at': '2024-02-28 10:30:28', 'description': 'Two XL bullies attacked Naevia on a beach in Redcar, causing severe injuries', 'category': 'event', 'memory_type': 'episodic', 'layer_uuid': '269f0df8-8091-442c-9392-0b710e4dc350', 'layer_decomposition_uuid': '48c1a502-48b1-4240-87ac-6558d41e1b6f', 'id': 'be6ecfcf-46ee-404f-8d89-a1214fa73e20', 'type': 'detail'}), ('Redcar Beach on the North Yorkshire coast, where Naevia was attacked by two XL bullies - 269f0df8-8091-442c-9392-0b710e4dc350  - 48c1a502-48b1-4240-87ac-6558d41e1b6f - 118272d8-8750-45f5-ad43-84d7289e4088', {'created_at': '2024-02-28 10:30:28', 'updated_at': '2024-02-28 10:30:28', 'description': 'Redcar Beach on the North Yorkshire coast, where Naevia was attacked by two XL bullies', 'category': 'location', 'memory_type': 'semantic', 'layer_uuid': '269f0df8-8091-442c-9392-0b710e4dc350', 'layer_decomposition_uuid': '48c1a502-48b1-4240-87ac-6558d41e1b6f', 'id': '118272d8-8750-45f5-ad43-84d7289e4088', 'type': 'detail'}), ('XL bully, a breed involved in attacks on Izzy and Naevia, seen as dangerously out of control - 269f0df8-8091-442c-9392-0b710e4dc350  - 48c1a502-48b1-4240-87ac-6558d41e1b6f - 8848ab33-d224-403c-8182-9643c0913878', {'created_at': '2024-02-28 10:30:28', 'updated_at': '2024-02-28 10:30:28', 'description': 'XL bully, a breed involved in attacks on Izzy and Naevia, seen as dangerously out of control', 'category': 'animal', 'memory_type': 'semantic', 'layer_uuid': '269f0df8-8091-442c-9392-0b710e4dc350', 'layer_decomposition_uuid': '48c1a502-48b1-4240-87ac-6558d41e1b6f', 'id': '8848ab33-d224-403c-8182-9643c0913878', 'type': 'detail'}), ('An incoming ban on XL bullies supported by Lee Parkin and Marie Hay but with reservations on its effectiveness - 269f0df8-8091-442c-9392-0b710e4dc350  - 48c1a502-48b1-4240-87ac-6558d41e1b6f - cbac66ec-6286-4039-9e91-c948b1e579c2', {'created_at': '2024-02-28 10:30:28', 'updated_at': '2024-02-28 10:30:28', 'description': 'An incoming ban on XL bullies supported by Lee Parkin and Marie Hay but with reservations on its effectiveness', 'category': 'event', 'memory_type': 'semantic', 'layer_uuid': '269f0df8-8091-442c-9392-0b710e4dc350', 'layer_decomposition_uuid': '48c1a502-48b1-4240-87ac-6558d41e1b6f', 'id': 'cbac66ec-6286-4039-9e91-c948b1e579c2', 'type': 'detail'}), ('Lee Parkin - 50-year-old dog owner, suffers from post-traumatic stress disorder after his dog was killed. - 269f0df8-8091-442c-9392-0b710e4dc350  - 4ef6847a-7036-4861-8df6-a209c53038ca - 28b2ac6a-05f1-416e-b528-2d48ebe91bfc', {'created_at': '2024-02-28 10:30:28', 'updated_at': '2024-02-28 10:30:28', 'description': 'Lee Parkin - 50-year-old dog owner, suffers from post-traumatic stress disorder after his dog was killed.', 'category': 'person', 'memory_type': 'episodic', 'layer_uuid': '269f0df8-8091-442c-9392-0b710e4dc350', 'layer_decomposition_uuid': '4ef6847a-7036-4861-8df6-a209c53038ca', 'id': '28b2ac6a-05f1-416e-b528-2d48ebe91bfc', 'type': 'detail'}), ('Izzy - Terrier-spaniel cross, pet dog owned by Lee Parkin for nearly 10 years, killed in dog attack. - 269f0df8-8091-442c-9392-0b710e4dc350  - 4ef6847a-7036-4861-8df6-a209c53038ca - f93c2371-9067-411e-81df-71ec2a70c4b5', {'created_at': '2024-02-28 10:30:28', 'updated_at': '2024-02-28 10:30:28', 'description': 'Izzy - Terrier-spaniel cross, pet dog owned by Lee Parkin for nearly 10 years, killed in dog attack.', 'category': 'animal', 'memory_type': 'episodic', 'layer_uuid': '269f0df8-8091-442c-9392-0b710e4dc350', 'layer_decomposition_uuid': '4ef6847a-7036-4861-8df6-a209c53038ca', 'id': 'f93c2371-9067-411e-81df-71ec2a70c4b5', 'type': 'detail'}), ('Doncaster - The location near where Lee Parkin was walking his dog Izzy when she was attacked. - 269f0df8-8091-442c-9392-0b710e4dc350  - 4ef6847a-7036-4861-8df6-a209c53038ca - ceff3e90-b160-468d-a7d3-7a1834ac29b1', {'created_at': '2024-02-28 10:30:28', 'updated_at': '2024-02-28 10:30:28', 'description': 'Doncaster - The location near where Lee Parkin was walking his dog Izzy when she was attacked.', 'category': 'location', 'memory_type': 'semantic', 'layer_uuid': '269f0df8-8091-442c-9392-0b710e4dc350', 'layer_decomposition_uuid': '4ef6847a-7036-4861-8df6-a209c53038ca', 'id': 'ceff3e90-b160-468d-a7d3-7a1834ac29b1', 'type': 'detail'}), ('XL Bully - Breed of dog that attacked and killed Izzy, described as dangerously out of control. - 269f0df8-8091-442c-9392-0b710e4dc350  - 4ef6847a-7036-4861-8df6-a209c53038ca - 57f6c57f-7c30-41f2-8fd5-258dd36195fb', {'created_at': '2024-02-28 10:30:28', 'updated_at': '2024-02-28 10:30:28', 'description': 'XL Bully - Breed of dog that attacked and killed Izzy, described as dangerously out of control.', 'category': 'animal', 'memory_type': 'semantic', 'layer_uuid': '269f0df8-8091-442c-9392-0b710e4dc350', 'layer_decomposition_uuid': '4ef6847a-7036-4861-8df6-a209c53038ca', 'id': '57f6c57f-7c30-41f2-8fd5-258dd36195fb', 'type': 'detail'}), ('Marie Hay - Dog owner whose Siberian Husky, Naevia, survived an attack but suffered life-changing injuries. - 269f0df8-8091-442c-9392-0b710e4dc350  - 4ef6847a-7036-4861-8df6-a209c53038ca - add8ec80-a147-4c61-ae1e-827320620134', {'created_at': '2024-02-28 10:30:28', 'updated_at': '2024-02-28 10:30:28', 'description': 'Marie Hay - Dog owner whose Siberian Husky, Naevia, survived an attack but suffered life-changing injuries.', 'category': 'person', 'memory_type': 'episodic', 'layer_uuid': '269f0df8-8091-442c-9392-0b710e4dc350', 'layer_decomposition_uuid': '4ef6847a-7036-4861-8df6-a209c53038ca', 'id': 'add8ec80-a147-4c61-ae1e-827320620134', 'type': 'detail'}), ('Naevia - Siberian Husky owned by Marie Hay, survived a savage attack by two XL Bullies. - 269f0df8-8091-442c-9392-0b710e4dc350  - 4ef6847a-7036-4861-8df6-a209c53038ca - 116de1ba-c982-4cef-8c45-0da7484e43e0', {'created_at': '2024-02-28 10:30:28', 'updated_at': '2024-02-28 10:30:28', 'description': 'Naevia - Siberian Husky owned by Marie Hay, survived a savage attack by two XL Bullies.', 'category': 'animal', 'memory_type': 'episodic', 'layer_uuid': '269f0df8-8091-442c-9392-0b710e4dc350', 'layer_decomposition_uuid': '4ef6847a-7036-4861-8df6-a209c53038ca', 'id': '116de1ba-c982-4cef-8c45-0da7484e43e0', 'type': 'detail'}), ('Redcar Beach on the North Yorkshire coast - The location where Naevia was attacked by two XL Bullies. - 269f0df8-8091-442c-9392-0b710e4dc350  - 4ef6847a-7036-4861-8df6-a209c53038ca - f9ffe5df-7632-4082-be62-40723156a6a1', {'created_at': '2024-02-28 10:30:28', 'updated_at': '2024-02-28 10:30:28', 'description': 'Redcar Beach on the North Yorkshire coast - The location where Naevia was attacked by two XL Bullies.', 'category': 'location', 'memory_type': 'semantic', 'layer_uuid': '269f0df8-8091-442c-9392-0b710e4dc350', 'layer_decomposition_uuid': '4ef6847a-7036-4861-8df6-a209c53038ca', 'id': 'f9ffe5df-7632-4082-be62-40723156a6a1', 'type': 'detail'}), ('Lee Parkin, a 50-year-old man and owner of the dog Izzy. - 269f0df8-8091-442c-9392-0b710e4dc350  - 7b147696-3654-4e4c-b177-da5a1b44a2c0 - 9e0ee7fe-e75a-4e51-99dd-78c0a8444cb7', {'created_at': '2024-02-28 10:30:28', 'updated_at': '2024-02-28 10:30:28', 'description': 'Lee Parkin, a 50-year-old man and owner of the dog Izzy.', 'category': 'person', 'memory_type': 'episodic', 'layer_uuid': '269f0df8-8091-442c-9392-0b710e4dc350', 'layer_decomposition_uuid': '7b147696-3654-4e4c-b177-da5a1b44a2c0', 'id': '9e0ee7fe-e75a-4e51-99dd-78c0a8444cb7', 'type': 'detail'}), ('Izzy, a terrier-spaniel cross owned by Lee Parkin for nearly 10 years. - 269f0df8-8091-442c-9392-0b710e4dc350  - 7b147696-3654-4e4c-b177-da5a1b44a2c0 - f86cd828-ce2a-4011-b056-d65d646076de', {'created_at': '2024-02-28 10:30:28', 'updated_at': '2024-02-28 10:30:28', 'description': 'Izzy, a terrier-spaniel cross owned by Lee Parkin for nearly 10 years.', 'category': 'animal', 'memory_type': 'episodic', 'layer_uuid': '269f0df8-8091-442c-9392-0b710e4dc350', 'layer_decomposition_uuid': '7b147696-3654-4e4c-b177-da5a1b44a2c0', 'id': 'f86cd828-ce2a-4011-b056-d65d646076de', 'type': 'detail'}), ('Attack by an XL bully on Izzy resulting in her death. - 269f0df8-8091-442c-9392-0b710e4dc350  - 7b147696-3654-4e4c-b177-da5a1b44a2c0 - 5ca977fc-5c99-4b42-84e7-592934965fb8', {'created_at': '2024-02-28 10:30:28', 'updated_at': '2024-02-28 10:30:28', 'description': 'Attack by an XL bully on Izzy resulting in her death.', 'category': 'event', 'memory_type': 'episodic', 'layer_uuid': '269f0df8-8091-442c-9392-0b710e4dc350', 'layer_decomposition_uuid': '7b147696-3654-4e4c-b177-da5a1b44a2c0', 'id': '5ca977fc-5c99-4b42-84e7-592934965fb8', 'type': 'detail'}), ('Lee Parkin was diagnosed with post-traumatic stress disorder after the attack. - 269f0df8-8091-442c-9392-0b710e4dc350  - 7b147696-3654-4e4c-b177-da5a1b44a2c0 - 8d7c9f51-b7a9-4c6d-bf5f-43e8abbca674', {'created_at': '2024-02-28 10:30:28', 'updated_at': '2024-02-28 10:30:28', 'description': 'Lee Parkin was diagnosed with post-traumatic stress disorder after the attack.', 'category': 'condition', 'memory_type': 'semantic', 'layer_uuid': '269f0df8-8091-442c-9392-0b710e4dc350', 'layer_decomposition_uuid': '7b147696-3654-4e4c-b177-da5a1b44a2c0', 'id': '8d7c9f51-b7a9-4c6d-bf5f-43e8abbca674', 'type': 'detail'}), ('Marie Hay, owner of seven-year-old Siberian husky Naevia, also victim of an XL bully attack. - 269f0df8-8091-442c-9392-0b710e4dc350  - 7b147696-3654-4e4c-b177-da5a1b44a2c0 - de0ddecd-058d-435e-8ce4-304ade01b425', {'created_at': '2024-02-28 10:30:28', 'updated_at': '2024-02-28 10:30:28', 'description': 'Marie Hay, owner of seven-year-old Siberian husky Naevia, also victim of an XL bully attack.', 'category': 'person', 'memory_type': 'episodic', 'layer_uuid': '269f0df8-8091-442c-9392-0b710e4dc350', 'layer_decomposition_uuid': '7b147696-3654-4e4c-b177-da5a1b44a2c0', 'id': 'de0ddecd-058d-435e-8ce4-304ade01b425', 'type': 'detail'}), ('Naevia, a seven-year-old Siberian husky owned by Marie Hay, survived an attack by two XL bullies with life-changing injuries. - 269f0df8-8091-442c-9392-0b710e4dc350  - 7b147696-3654-4e4c-b177-da5a1b44a2c0 - 1399c656-f811-491e-8064-b2c41c8bb3c4', {'created_at': '2024-02-28 10:30:28', 'updated_at': '2024-02-28 10:30:28', 'description': 'Naevia, a seven-year-old Siberian husky owned by Marie Hay, survived an attack by two XL bullies with life-changing injuries.', 'category': 'animal', 'memory_type': 'episodic', 'layer_uuid': '269f0df8-8091-442c-9392-0b710e4dc350', 'layer_decomposition_uuid': '7b147696-3654-4e4c-b177-da5a1b44a2c0', 'id': '1399c656-f811-491e-8064-b2c41c8bb3c4', 'type': 'detail'}), ('The incoming ban on XL bullies that both Lee Parkin and Marie Hay support. - 269f0df8-8091-442c-9392-0b710e4dc350  - 7b147696-3654-4e4c-b177-da5a1b44a2c0 - 04afdff8-268f-4a15-b445-939954a8918b', {'created_at': '2024-02-28 10:30:28', 'updated_at': '2024-02-28 10:30:28', 'description': 'The incoming ban on XL bullies that both Lee Parkin and Marie Hay support.', 'category': 'event', 'memory_type': 'semantic', 'layer_uuid': '269f0df8-8091-442c-9392-0b710e4dc350', 'layer_decomposition_uuid': '7b147696-3654-4e4c-b177-da5a1b44a2c0', 'id': '04afdff8-268f-4a15-b445-939954a8918b', 'type': 'detail'}), ('Anxiety and fear faced by Lee Parkin and Marie Hay when walking dogs post-attack. - 269f0df8-8091-442c-9392-0b710e4dc350  - 7b147696-3654-4e4c-b177-da5a1b44a2c0 - 2c09dc26-c855-49e4-a414-3ffa74d5702a', {'created_at': '2024-02-28 10:30:28', 'updated_at': '2024-02-28 10:30:28', 'description': 'Anxiety and fear faced by Lee Parkin and Marie Hay when walking dogs post-attack.', 'category': 'condition', 'memory_type': 'semantic', 'layer_uuid': '269f0df8-8091-442c-9392-0b710e4dc350', 'layer_decomposition_uuid': '7b147696-3654-4e4c-b177-da5a1b44a2c0', 'id': '2c09dc26-c855-49e4-a414-3ffa74d5702a', 'type': 'detail'}), ('Lee Parkin, 50, owner of the late terrier-spaniel cross Izzy, suffers from PTSD - 269f0df8-8091-442c-9392-0b710e4dc350  - 27a76d52-5b5e-4e8e-8726-29be55c8b2f1 - 493b9555-a150-4b2f-9dbc-0b3f699f7249', {'created_at': '2024-02-28 10:30:28', 'updated_at': '2024-02-28 10:30:28', 'description': 'Lee Parkin, 50, owner of the late terrier-spaniel cross Izzy, suffers from PTSD', 'category': 'person', 'memory_type': 'episodic', 'layer_uuid': '269f0df8-8091-442c-9392-0b710e4dc350', 'layer_decomposition_uuid': '27a76d52-5b5e-4e8e-8726-29be55c8b2f1', 'id': '493b9555-a150-4b2f-9dbc-0b3f699f7249', 'type': 'detail'}), ('Izzy, a terrier-spaniel cross owned by Lee Parkin, killed by an XL bully - 269f0df8-8091-442c-9392-0b710e4dc350  - 27a76d52-5b5e-4e8e-8726-29be55c8b2f1 - 646af2be-f8ac-45f3-beba-b3ce21bfa019', {'created_at': '2024-02-28 10:30:28', 'updated_at': '2024-02-28 10:30:28', 'description': 'Izzy, a terrier-spaniel cross owned by Lee Parkin, killed by an XL bully', 'category': 'animal', 'memory_type': 'episodic', 'layer_uuid': '269f0df8-8091-442c-9392-0b710e4dc350', 'layer_decomposition_uuid': '27a76d52-5b5e-4e8e-8726-29be55c8b2f1', 'id': '646af2be-f8ac-45f3-beba-b3ce21bfa019', 'type': 'detail'}), ('An XL bully attacked and killed Izzy during a walk with Lee Parkin in Doncaster - 269f0df8-8091-442c-9392-0b710e4dc350  - 27a76d52-5b5e-4e8e-8726-29be55c8b2f1 - 3774e1cd-3728-419b-a2a7-7b89c4522366', {'created_at': '2024-02-28 10:30:28', 'updated_at': '2024-02-28 10:30:28', 'description': 'An XL bully attacked and killed Izzy during a walk with Lee Parkin in Doncaster', 'category': 'event', 'memory_type': 'episodic', 'layer_uuid': '269f0df8-8091-442c-9392-0b710e4dc350', 'layer_decomposition_uuid': '27a76d52-5b5e-4e8e-8726-29be55c8b2f1', 'id': '3774e1cd-3728-419b-a2a7-7b89c4522366', 'type': 'detail'}), ('Doncaster, the location where Izzy was attacked and killed by an XL bully - 269f0df8-8091-442c-9392-0b710e4dc350  - 27a76d52-5b5e-4e8e-8726-29be55c8b2f1 - 967f6c80-01f0-4a96-860d-cff5cdc4a5bc', {'created_at': '2024-02-28 10:30:28', 'updated_at': '2024-02-28 10:30:28', 'description': 'Doncaster, the location where Izzy was attacked and killed by an XL bully', 'category': 'location', 'memory_type': 'semantic', 'layer_uuid': '269f0df8-8091-442c-9392-0b710e4dc350', 'layer_decomposition_uuid': '27a76d52-5b5e-4e8e-8726-29be55c8b2f1', 'id': '967f6c80-01f0-4a96-860d-cff5cdc4a5bc', 'type': 'detail'}), (\"Naevia, Marie Hay's Siberian husky, survived an attack by two XL bullies with life-changing injuries - 269f0df8-8091-442c-9392-0b710e4dc350  - 27a76d52-5b5e-4e8e-8726-29be55c8b2f1 - c72d5b7c-67be-43b8-b3e8-feccd8ba4a7d\", {'created_at': '2024-02-28 10:30:28', 'updated_at': '2024-02-28 10:30:28', 'description': \"Naevia, Marie Hay's Siberian husky, survived an attack by two XL bullies with life-changing injuries\", 'category': 'animal', 'memory_type': 'episodic', 'layer_uuid': '269f0df8-8091-442c-9392-0b710e4dc350', 'layer_decomposition_uuid': '27a76d52-5b5e-4e8e-8726-29be55c8b2f1', 'id': 'c72d5b7c-67be-43b8-b3e8-feccd8ba4a7d', 'type': 'detail'}), ('Marie Hay, owner of Naevia, who survived an XL bully attack with mental and physical scars - 269f0df8-8091-442c-9392-0b710e4dc350  - 27a76d52-5b5e-4e8e-8726-29be55c8b2f1 - 996ac877-2ddd-45c3-b7ba-7aba6bcd0f81', {'created_at': '2024-02-28 10:30:28', 'updated_at': '2024-02-28 10:30:28', 'description': 'Marie Hay, owner of Naevia, who survived an XL bully attack with mental and physical scars', 'category': 'person', 'memory_type': 'episodic', 'layer_uuid': '269f0df8-8091-442c-9392-0b710e4dc350', 'layer_decomposition_uuid': '27a76d52-5b5e-4e8e-8726-29be55c8b2f1', 'id': '996ac877-2ddd-45c3-b7ba-7aba6bcd0f81', 'type': 'detail'}), ('Two XL bullies attacked Naevia on a beach in Redcar, causing severe injuries - 269f0df8-8091-442c-9392-0b710e4dc350  - 27a76d52-5b5e-4e8e-8726-29be55c8b2f1 - 5bd9aee2-5f56-45ef-abee-b952e013f772', {'created_at': '2024-02-28 10:30:28', 'updated_at': '2024-02-28 10:30:28', 'description': 'Two XL bullies attacked Naevia on a beach in Redcar, causing severe injuries', 'category': 'event', 'memory_type': 'episodic', 'layer_uuid': '269f0df8-8091-442c-9392-0b710e4dc350', 'layer_decomposition_uuid': '27a76d52-5b5e-4e8e-8726-29be55c8b2f1', 'id': '5bd9aee2-5f56-45ef-abee-b952e013f772', 'type': 'detail'}), ('Redcar Beach on the North Yorkshire coast, where Naevia was attacked by two XL bullies - 269f0df8-8091-442c-9392-0b710e4dc350  - 27a76d52-5b5e-4e8e-8726-29be55c8b2f1 - 18209f5f-6965-4029-97d0-8f0a6e4121c2', {'created_at': '2024-02-28 10:30:28', 'updated_at': '2024-02-28 10:30:28', 'description': 'Redcar Beach on the North Yorkshire coast, where Naevia was attacked by two XL bullies', 'category': 'location', 'memory_type': 'semantic', 'layer_uuid': '269f0df8-8091-442c-9392-0b710e4dc350', 'layer_decomposition_uuid': '27a76d52-5b5e-4e8e-8726-29be55c8b2f1', 'id': '18209f5f-6965-4029-97d0-8f0a6e4121c2', 'type': 'detail'}), ('XL bully, a breed involved in attacks on Izzy and Naevia, seen as dangerously out of control - 269f0df8-8091-442c-9392-0b710e4dc350  - 27a76d52-5b5e-4e8e-8726-29be55c8b2f1 - 4f8a3746-3c0d-4e3f-badb-55f89270aa05', {'created_at': '2024-02-28 10:30:28', 'updated_at': '2024-02-28 10:30:28', 'description': 'XL bully, a breed involved in attacks on Izzy and Naevia, seen as dangerously out of control', 'category': 'animal', 'memory_type': 'semantic', 'layer_uuid': '269f0df8-8091-442c-9392-0b710e4dc350', 'layer_decomposition_uuid': '27a76d52-5b5e-4e8e-8726-29be55c8b2f1', 'id': '4f8a3746-3c0d-4e3f-badb-55f89270aa05', 'type': 'detail'}), ('An incoming ban on XL bullies supported by Lee Parkin and Marie Hay but with reservations on its effectiveness - 269f0df8-8091-442c-9392-0b710e4dc350  - 27a76d52-5b5e-4e8e-8726-29be55c8b2f1 - 2f4d11f2-6e19-4ec6-a655-7a3ed7d9329a', {'created_at': '2024-02-28 10:30:28', 'updated_at': '2024-02-28 10:30:28', 'description': 'An incoming ban on XL bullies supported by Lee Parkin and Marie Hay but with reservations on its effectiveness', 'category': 'event', 'memory_type': 'semantic', 'layer_uuid': '269f0df8-8091-442c-9392-0b710e4dc350', 'layer_decomposition_uuid': '27a76d52-5b5e-4e8e-8726-29be55c8b2f1', 'id': '2f4d11f2-6e19-4ec6-a655-7a3ed7d9329a', 'type': 'detail'}), ('Lee Parkin - 50-year-old dog owner, suffers from post-traumatic stress disorder after his dog was killed. - 269f0df8-8091-442c-9392-0b710e4dc350  - c306c248-bbab-44a9-9ae2-448f992e415c - 1b71310b-7bae-4f7a-953e-756cce8f880f', {'created_at': '2024-02-28 10:30:28', 'updated_at': '2024-02-28 10:30:28', 'description': 'Lee Parkin - 50-year-old dog owner, suffers from post-traumatic stress disorder after his dog was killed.', 'category': 'person', 'memory_type': 'episodic', 'layer_uuid': '269f0df8-8091-442c-9392-0b710e4dc350', 'layer_decomposition_uuid': 'c306c248-bbab-44a9-9ae2-448f992e415c', 'id': '1b71310b-7bae-4f7a-953e-756cce8f880f', 'type': 'detail'}), ('Izzy - Terrier-spaniel cross, pet dog owned by Lee Parkin for nearly 10 years, killed in dog attack. - 269f0df8-8091-442c-9392-0b710e4dc350  - c306c248-bbab-44a9-9ae2-448f992e415c - 69dea689-2e52-4c6c-ab25-2621ef27c6d3', {'created_at': '2024-02-28 10:30:28', 'updated_at': '2024-02-28 10:30:28', 'description': 'Izzy - Terrier-spaniel cross, pet dog owned by Lee Parkin for nearly 10 years, killed in dog attack.', 'category': 'animal', 'memory_type': 'episodic', 'layer_uuid': '269f0df8-8091-442c-9392-0b710e4dc350', 'layer_decomposition_uuid': 'c306c248-bbab-44a9-9ae2-448f992e415c', 'id': '69dea689-2e52-4c6c-ab25-2621ef27c6d3', 'type': 'detail'}), ('Doncaster - The location near where Lee Parkin was walking his dog Izzy when she was attacked. - 269f0df8-8091-442c-9392-0b710e4dc350  - c306c248-bbab-44a9-9ae2-448f992e415c - a9cb9715-8f25-45cd-beca-71ea3afcb28c', {'created_at': '2024-02-28 10:30:28', 'updated_at': '2024-02-28 10:30:28', 'description': 'Doncaster - The location near where Lee Parkin was walking his dog Izzy when she was attacked.', 'category': 'location', 'memory_type': 'semantic', 'layer_uuid': '269f0df8-8091-442c-9392-0b710e4dc350', 'layer_decomposition_uuid': 'c306c248-bbab-44a9-9ae2-448f992e415c', 'id': 'a9cb9715-8f25-45cd-beca-71ea3afcb28c', 'type': 'detail'}), ('XL Bully - Breed of dog that attacked and killed Izzy, described as dangerously out of control. - 269f0df8-8091-442c-9392-0b710e4dc350  - c306c248-bbab-44a9-9ae2-448f992e415c - 3bd1d070-b76c-4bc4-948c-0cb8f608e49e', {'created_at': '2024-02-28 10:30:28', 'updated_at': '2024-02-28 10:30:28', 'description': 'XL Bully - Breed of dog that attacked and killed Izzy, described as dangerously out of control.', 'category': 'animal', 'memory_type': 'semantic', 'layer_uuid': '269f0df8-8091-442c-9392-0b710e4dc350', 'layer_decomposition_uuid': 'c306c248-bbab-44a9-9ae2-448f992e415c', 'id': '3bd1d070-b76c-4bc4-948c-0cb8f608e49e', 'type': 'detail'}), ('Marie Hay - Dog owner whose Siberian Husky, Naevia, survived an attack but suffered life-changing injuries. - 269f0df8-8091-442c-9392-0b710e4dc350  - c306c248-bbab-44a9-9ae2-448f992e415c - 0fc6079d-5b2c-4d90-8e05-69a5a5109d7c', {'created_at': '2024-02-28 10:30:28', 'updated_at': '2024-02-28 10:30:28', 'description': 'Marie Hay - Dog owner whose Siberian Husky, Naevia, survived an attack but suffered life-changing injuries.', 'category': 'person', 'memory_type': 'episodic', 'layer_uuid': '269f0df8-8091-442c-9392-0b710e4dc350', 'layer_decomposition_uuid': 'c306c248-bbab-44a9-9ae2-448f992e415c', 'id': '0fc6079d-5b2c-4d90-8e05-69a5a5109d7c', 'type': 'detail'}), ('Naevia - Siberian Husky owned by Marie Hay, survived a savage attack by two XL Bullies. - 269f0df8-8091-442c-9392-0b710e4dc350  - c306c248-bbab-44a9-9ae2-448f992e415c - 5a6df745-7ecd-4ac9-8f6a-5f1dc547a9ac', {'created_at': '2024-02-28 10:30:28', 'updated_at': '2024-02-28 10:30:28', 'description': 'Naevia - Siberian Husky owned by Marie Hay, survived a savage attack by two XL Bullies.', 'category': 'animal', 'memory_type': 'episodic', 'layer_uuid': '269f0df8-8091-442c-9392-0b710e4dc350', 'layer_decomposition_uuid': 'c306c248-bbab-44a9-9ae2-448f992e415c', 'id': '5a6df745-7ecd-4ac9-8f6a-5f1dc547a9ac', 'type': 'detail'}), ('Redcar Beach on the North Yorkshire coast - The location where Naevia was attacked by two XL Bullies. - 269f0df8-8091-442c-9392-0b710e4dc350  - c306c248-bbab-44a9-9ae2-448f992e415c - e39ec471-29bf-4581-8542-b358300312a4', {'created_at': '2024-02-28 10:30:28', 'updated_at': '2024-02-28 10:30:28', 'description': 'Redcar Beach on the North Yorkshire coast - The location where Naevia was attacked by two XL Bullies.', 'category': 'location', 'memory_type': 'semantic', 'layer_uuid': '269f0df8-8091-442c-9392-0b710e4dc350', 'layer_decomposition_uuid': 'c306c248-bbab-44a9-9ae2-448f992e415c', 'id': 'e39ec471-29bf-4581-8542-b358300312a4', 'type': 'detail'}), ('Lee Parkin, a 50-year-old man and owner of the dog Izzy. - 269f0df8-8091-442c-9392-0b710e4dc350  - dbcbc6c6-db82-48f3-8fa9-e3d372ff3483 - 606800f1-fc9f-43a5-997c-4966b0b77fe8', {'created_at': '2024-02-28 10:30:28', 'updated_at': '2024-02-28 10:30:28', 'description': 'Lee Parkin, a 50-year-old man and owner of the dog Izzy.', 'category': 'person', 'memory_type': 'episodic', 'layer_uuid': '269f0df8-8091-442c-9392-0b710e4dc350', 'layer_decomposition_uuid': 'dbcbc6c6-db82-48f3-8fa9-e3d372ff3483', 'id': '606800f1-fc9f-43a5-997c-4966b0b77fe8', 'type': 'detail'}), ('Izzy, a terrier-spaniel cross owned by Lee Parkin for nearly 10 years. - 269f0df8-8091-442c-9392-0b710e4dc350  - dbcbc6c6-db82-48f3-8fa9-e3d372ff3483 - e44e53b3-120f-4f63-b20f-a60bb24c3ef2', {'created_at': '2024-02-28 10:30:28', 'updated_at': '2024-02-28 10:30:28', 'description': 'Izzy, a terrier-spaniel cross owned by Lee Parkin for nearly 10 years.', 'category': 'animal', 'memory_type': 'episodic', 'layer_uuid': '269f0df8-8091-442c-9392-0b710e4dc350', 'layer_decomposition_uuid': 'dbcbc6c6-db82-48f3-8fa9-e3d372ff3483', 'id': 'e44e53b3-120f-4f63-b20f-a60bb24c3ef2', 'type': 'detail'}), ('Attack by an XL bully on Izzy resulting in her death. - 269f0df8-8091-442c-9392-0b710e4dc350  - dbcbc6c6-db82-48f3-8fa9-e3d372ff3483 - 855a05eb-c5ca-434e-a25c-534a608b2568', {'created_at': '2024-02-28 10:30:28', 'updated_at': '2024-02-28 10:30:28', 'description': 'Attack by an XL bully on Izzy resulting in her death.', 'category': 'event', 'memory_type': 'episodic', 'layer_uuid': '269f0df8-8091-442c-9392-0b710e4dc350', 'layer_decomposition_uuid': 'dbcbc6c6-db82-48f3-8fa9-e3d372ff3483', 'id': '855a05eb-c5ca-434e-a25c-534a608b2568', 'type': 'detail'}), ('Lee Parkin was diagnosed with post-traumatic stress disorder after the attack. - 269f0df8-8091-442c-9392-0b710e4dc350  - dbcbc6c6-db82-48f3-8fa9-e3d372ff3483 - 6513305f-ca46-4708-b869-6688fa6552c5', {'created_at': '2024-02-28 10:30:28', 'updated_at': '2024-02-28 10:30:28', 'description': 'Lee Parkin was diagnosed with post-traumatic stress disorder after the attack.', 'category': 'condition', 'memory_type': 'semantic', 'layer_uuid': '269f0df8-8091-442c-9392-0b710e4dc350', 'layer_decomposition_uuid': 'dbcbc6c6-db82-48f3-8fa9-e3d372ff3483', 'id': '6513305f-ca46-4708-b869-6688fa6552c5', 'type': 'detail'}), ('Marie Hay, owner of seven-year-old Siberian husky Naevia, also victim of an XL bully attack. - 269f0df8-8091-442c-9392-0b710e4dc350  - dbcbc6c6-db82-48f3-8fa9-e3d372ff3483 - b2a03c68-609a-4839-a85f-b586be5d2e8f', {'created_at': '2024-02-28 10:30:28', 'updated_at': '2024-02-28 10:30:28', 'description': 'Marie Hay, owner of seven-year-old Siberian husky Naevia, also victim of an XL bully attack.', 'category': 'person', 'memory_type': 'episodic', 'layer_uuid': '269f0df8-8091-442c-9392-0b710e4dc350', 'layer_decomposition_uuid': 'dbcbc6c6-db82-48f3-8fa9-e3d372ff3483', 'id': 'b2a03c68-609a-4839-a85f-b586be5d2e8f', 'type': 'detail'}), ('Naevia, a seven-year-old Siberian husky owned by Marie Hay, survived an attack by two XL bullies with life-changing injuries. - 269f0df8-8091-442c-9392-0b710e4dc350  - dbcbc6c6-db82-48f3-8fa9-e3d372ff3483 - 9d464c7c-16ff-4081-b630-f3288519ccfc', {'created_at': '2024-02-28 10:30:28', 'updated_at': '2024-02-28 10:30:28', 'description': 'Naevia, a seven-year-old Siberian husky owned by Marie Hay, survived an attack by two XL bullies with life-changing injuries.', 'category': 'animal', 'memory_type': 'episodic', 'layer_uuid': '269f0df8-8091-442c-9392-0b710e4dc350', 'layer_decomposition_uuid': 'dbcbc6c6-db82-48f3-8fa9-e3d372ff3483', 'id': '9d464c7c-16ff-4081-b630-f3288519ccfc', 'type': 'detail'}), ('The incoming ban on XL bullies that both Lee Parkin and Marie Hay support. - 269f0df8-8091-442c-9392-0b710e4dc350  - dbcbc6c6-db82-48f3-8fa9-e3d372ff3483 - 61d8f944-8c52-4ee3-8252-a5ae2c898d12', {'created_at': '2024-02-28 10:30:28', 'updated_at': '2024-02-28 10:30:28', 'description': 'The incoming ban on XL bullies that both Lee Parkin and Marie Hay support.', 'category': 'event', 'memory_type': 'semantic', 'layer_uuid': '269f0df8-8091-442c-9392-0b710e4dc350', 'layer_decomposition_uuid': 'dbcbc6c6-db82-48f3-8fa9-e3d372ff3483', 'id': '61d8f944-8c52-4ee3-8252-a5ae2c898d12', 'type': 'detail'}), ('Anxiety and fear faced by Lee Parkin and Marie Hay when walking dogs post-attack. - 269f0df8-8091-442c-9392-0b710e4dc350  - dbcbc6c6-db82-48f3-8fa9-e3d372ff3483 - f8cccf2f-0b34-4dd3-92b0-8ac8a34c5c0a', {'created_at': '2024-02-28 10:30:28', 'updated_at': '2024-02-28 10:30:28', 'description': 'Anxiety and fear faced by Lee Parkin and Marie Hay when walking dogs post-attack.', 'category': 'condition', 'memory_type': 'semantic', 'layer_uuid': '269f0df8-8091-442c-9392-0b710e4dc350', 'layer_decomposition_uuid': 'dbcbc6c6-db82-48f3-8fa9-e3d372ff3483', 'id': 'f8cccf2f-0b34-4dd3-92b0-8ac8a34c5c0a', 'type': 'detail'})]\n"
     ]
    }
   ],
   "source": [
    "print(R.nodes(data=True))"
   ]
  },
  {
   "cell_type": "code",
   "execution_count": null,
   "id": "f17dc174-f325-44b9-8fc7-761146aca2d0",
   "metadata": {},
   "outputs": [],
   "source": []
  },
  {
   "cell_type": "code",
   "execution_count": null,
   "id": "e4eee8a7-5d3b-4848-9cdb-2b397e158519",
   "metadata": {},
   "outputs": [],
   "source": [
    "## Utility to check if relationships are as they should be"
   ]
  },
  {
   "cell_type": "code",
   "execution_count": 212,
   "id": "3adc8483-3207-44f1-abf5-275e925e04d4",
   "metadata": {
    "scrolled": true
   },
   "outputs": [
    {
     "name": "stdout",
     "output_type": "stream",
     "text": [
      "Graph Relationships with Node Attributes:\n",
      "Source [created_at: 2024-02-28 07:42:21, updated_at: 2024-02-28 07:42:21, username: exampleUser, email: user@example.com] -> Target [created_at: 2024-02-28 07:42:21, updated_at: 2024-02-28 07:42:21, type: category]: Relationship [created]\n",
      "Source [created_at: 2024-02-28 07:42:21, updated_at: 2024-02-28 07:42:21, username: exampleUser, email: user@example.com] -> Target [created_at: 2024-02-28 07:42:21, updated_at: 2024-02-28 07:42:21, type: category]: Relationship [created]\n",
      "Source [created_at: 2024-02-28 07:42:21, updated_at: 2024-02-28 07:42:21, username: exampleUser, email: user@example.com] -> Target [created_at: 2024-02-28 07:42:21, updated_at: 2024-02-28 07:42:21, type: category]: Relationship [created]\n",
      "Source [created_at: 2024-02-28 07:42:21, updated_at: 2024-02-28 07:42:21, username: exampleUser, email: user@example.com] -> Target [created_at: 2024-02-28 07:42:21, updated_at: 2024-02-28 07:42:21, type: category]: Relationship [created]\n",
      "Source [created_at: 2024-02-28 07:42:21, updated_at: 2024-02-28 07:42:21, username: exampleUser, email: user@example.com] -> Target [created_at: 2024-02-28 07:42:21, updated_at: 2024-02-28 07:42:21, type: category]: Relationship [created]\n",
      "Source [created_at: 2024-02-28 07:42:21, updated_at: 2024-02-28 07:42:21, type: category] -> Target [created_at: 2024-02-28 07:42:21, updated_at: 2024-02-28 07:42:21, type: subclass, content: Historical events]: Relationship [includes]\n",
      "Source [created_at: 2024-02-28 07:42:21, updated_at: 2024-02-28 07:42:21, type: category] -> Target [created_at: 2024-02-28 07:42:21, updated_at: 2024-02-28 07:42:21, type: subclass, content: Schedules and timelines]: Relationship [includes]\n",
      "Source [created_at: 2024-02-28 07:42:21, updated_at: 2024-02-28 07:42:21, type: category] -> Target [created_at: 2024-02-28 07:42:21, updated_at: 2024-02-28 07:42:21, type: subclass, content: Geographical locations]: Relationship [includes]\n",
      "Source [created_at: 2024-02-28 07:42:21, updated_at: 2024-02-28 07:42:21, type: category] -> Target [created_at: 2024-02-28 07:42:21, updated_at: 2024-02-28 07:42:21, type: subclass, content: Spatial data]: Relationship [includes]\n",
      "Source [created_at: 2024-02-28 07:42:21, updated_at: 2024-02-28 07:42:21, type: category] -> Target [created_at: 2024-02-28 07:42:21, updated_at: 2024-02-28 07:42:21, type: subclass, content: Hypotheses and theories]: Relationship [includes]\n",
      "Source [created_at: 2024-02-28 07:42:21, updated_at: 2024-02-28 07:42:21, type: category] -> Target [created_at: 2024-02-28 07:42:21, updated_at: 2024-02-28 07:42:21, type: subclass, content: Claims and arguments]: Relationship [includes]\n",
      "Source [created_at: 2024-02-28 07:42:21, updated_at: 2024-02-28 07:42:21, type: category] -> Target [created_at: 2024-02-28 07:42:21, updated_at: 2024-02-28 07:42:21, type: subclass, content: User preferences]: Relationship [includes]\n",
      "Source [created_at: 2024-02-28 07:42:21, updated_at: 2024-02-28 07:42:21, type: category] -> Target [created_at: 2024-02-28 07:42:21, updated_at: 2024-02-28 07:42:21, type: subclass, content: User information]: Relationship [includes]\n",
      "Source [created_at: 2024-02-28 07:42:21, updated_at: 2024-02-28 07:42:21, type: category] -> Target [created_at: 2024-02-28 07:42:21, updated_at: 2024-02-28 07:42:21, type: subclass, content: News stories and blog posts]: Relationship [includes]\n"
     ]
    }
   ],
   "source": [
    "def list_graph_relationships_with_node_attributes(graph):\n",
    "    print(\"Graph Relationships with Node Attributes:\")\n",
    "    for source, target, data in graph.edges(data=True):\n",
    "        # Get source and target node attributes\n",
    "        source_attrs = graph.nodes[source]\n",
    "        target_attrs = graph.nodes[target]\n",
    "        relationship = data.get('relationship', 'No relationship specified')\n",
    "\n",
    "        # Format and print source and target node attributes along with the relationship\n",
    "        source_attrs_formatted = ', '.join([f\"{k}: {v}\" for k, v in source_attrs.items()])\n",
    "        target_attrs_formatted = ', '.join([f\"{k}: {v}\" for k, v in target_attrs.items()])\n",
    "        \n",
    "        print(f\"Source [{source_attrs_formatted}] -> Target [{target_attrs_formatted}]: Relationship [{relationship}]\")\n",
    "\n",
    "# Assuming 'F' is your graph instance\n",
    "list_graph_relationships_with_node_attributes(G)"
   ]
  },
  {
   "cell_type": "code",
   "execution_count": null,
   "id": "734a1d1d-a583-4d3f-a1e2-a33f339bfaf0",
   "metadata": {},
   "outputs": [],
   "source": []
  },
  {
   "cell_type": "code",
   "execution_count": null,
   "id": "1ace3c0f-93f3-47aa-81d6-0e3297971b5a",
   "metadata": {},
   "outputs": [],
   "source": []
  },
  {
   "cell_type": "code",
   "execution_count": 2,
   "id": "de96473f-620c-4d14-8e43-380507d06988",
   "metadata": {},
   "outputs": [
    {
     "name": "stdout",
     "output_type": "stream",
     "text": [
      "Collecting qdrant-client\n",
      "  Using cached qdrant_client-1.7.3-py3-none-any.whl.metadata (9.3 kB)\n",
      "Collecting grpcio>=1.41.0 (from qdrant-client)\n",
      "  Downloading grpcio-1.62.0-cp311-cp311-macosx_10_10_universal2.whl.metadata (4.0 kB)\n",
      "Collecting grpcio-tools>=1.41.0 (from qdrant-client)\n",
      "  Downloading grpcio_tools-1.62.0-cp311-cp311-macosx_10_10_universal2.whl.metadata (6.2 kB)\n",
      "Requirement already satisfied: httpx>=0.14.0 in ./.venv/lib/python3.11/site-packages (from httpx[http2]>=0.14.0->qdrant-client) (0.27.0)\n",
      "Requirement already satisfied: numpy>=1.21 in ./.venv/lib/python3.11/site-packages (from qdrant-client) (1.26.4)\n",
      "Collecting portalocker<3.0.0,>=2.7.0 (from qdrant-client)\n",
      "  Using cached portalocker-2.8.2-py3-none-any.whl.metadata (8.5 kB)\n",
      "Requirement already satisfied: pydantic>=1.10.8 in ./.venv/lib/python3.11/site-packages (from qdrant-client) (2.6.2)\n",
      "Requirement already satisfied: urllib3<3,>=1.26.14 in ./.venv/lib/python3.11/site-packages (from qdrant-client) (2.0.7)\n",
      "Collecting protobuf<5.0dev,>=4.21.6 (from grpcio-tools>=1.41.0->qdrant-client)\n",
      "  Downloading protobuf-4.25.3-cp37-abi3-macosx_10_9_universal2.whl.metadata (541 bytes)\n",
      "Requirement already satisfied: setuptools in ./.venv/lib/python3.11/site-packages (from grpcio-tools>=1.41.0->qdrant-client) (69.1.1)\n",
      "Requirement already satisfied: anyio in ./.venv/lib/python3.11/site-packages (from httpx>=0.14.0->httpx[http2]>=0.14.0->qdrant-client) (3.7.1)\n",
      "Requirement already satisfied: certifi in ./.venv/lib/python3.11/site-packages (from httpx>=0.14.0->httpx[http2]>=0.14.0->qdrant-client) (2024.2.2)\n",
      "Requirement already satisfied: httpcore==1.* in ./.venv/lib/python3.11/site-packages (from httpx>=0.14.0->httpx[http2]>=0.14.0->qdrant-client) (1.0.4)\n",
      "Requirement already satisfied: idna in ./.venv/lib/python3.11/site-packages (from httpx>=0.14.0->httpx[http2]>=0.14.0->qdrant-client) (3.6)\n",
      "Requirement already satisfied: sniffio in ./.venv/lib/python3.11/site-packages (from httpx>=0.14.0->httpx[http2]>=0.14.0->qdrant-client) (1.3.1)\n",
      "Requirement already satisfied: h11<0.15,>=0.13 in ./.venv/lib/python3.11/site-packages (from httpcore==1.*->httpx>=0.14.0->httpx[http2]>=0.14.0->qdrant-client) (0.14.0)\n",
      "Collecting h2<5,>=3 (from httpx[http2]>=0.14.0->qdrant-client)\n",
      "  Using cached h2-4.1.0-py3-none-any.whl.metadata (3.6 kB)\n",
      "Requirement already satisfied: annotated-types>=0.4.0 in ./.venv/lib/python3.11/site-packages (from pydantic>=1.10.8->qdrant-client) (0.6.0)\n",
      "Requirement already satisfied: pydantic-core==2.16.3 in ./.venv/lib/python3.11/site-packages (from pydantic>=1.10.8->qdrant-client) (2.16.3)\n",
      "Requirement already satisfied: typing-extensions>=4.6.1 in ./.venv/lib/python3.11/site-packages (from pydantic>=1.10.8->qdrant-client) (4.10.0)\n",
      "Collecting hyperframe<7,>=6.0 (from h2<5,>=3->httpx[http2]>=0.14.0->qdrant-client)\n",
      "  Using cached hyperframe-6.0.1-py3-none-any.whl.metadata (2.7 kB)\n",
      "Collecting hpack<5,>=4.0 (from h2<5,>=3->httpx[http2]>=0.14.0->qdrant-client)\n",
      "  Using cached hpack-4.0.0-py3-none-any.whl (32 kB)\n",
      "Using cached qdrant_client-1.7.3-py3-none-any.whl (206 kB)\n",
      "Downloading grpcio-1.62.0-cp311-cp311-macosx_10_10_universal2.whl (10.0 MB)\n",
      "\u001b[2K   \u001b[90m━━━━━━━━━━━━━━━━━━━━━━━━━━━━━━━━━━━━━━━━\u001b[0m \u001b[32m10.0/10.0 MB\u001b[0m \u001b[31m19.6 MB/s\u001b[0m eta \u001b[36m0:00:00\u001b[0m00:01\u001b[0m0:01\u001b[0m\n",
      "\u001b[?25hDownloading grpcio_tools-1.62.0-cp311-cp311-macosx_10_10_universal2.whl (5.1 MB)\n",
      "\u001b[2K   \u001b[90m━━━━━━━━━━━━━━━━━━━━━━━━━━━━━━━━━━━━━━━━\u001b[0m \u001b[32m5.1/5.1 MB\u001b[0m \u001b[31m21.1 MB/s\u001b[0m eta \u001b[36m0:00:00\u001b[0m00:01\u001b[0m00:01\u001b[0m\n",
      "\u001b[?25hUsing cached portalocker-2.8.2-py3-none-any.whl (17 kB)\n",
      "Using cached h2-4.1.0-py3-none-any.whl (57 kB)\n",
      "Downloading protobuf-4.25.3-cp37-abi3-macosx_10_9_universal2.whl (394 kB)\n",
      "\u001b[2K   \u001b[90m━━━━━━━━━━━━━━━━━━━━━━━━━━━━━━━━━━━━━━━━\u001b[0m \u001b[32m394.2/394.2 kB\u001b[0m \u001b[31m13.4 MB/s\u001b[0m eta \u001b[36m0:00:00\u001b[0m\n",
      "\u001b[?25hUsing cached hyperframe-6.0.1-py3-none-any.whl (12 kB)\n",
      "Installing collected packages: protobuf, portalocker, hyperframe, hpack, grpcio, h2, grpcio-tools, qdrant-client\n",
      "Successfully installed grpcio-1.62.0 grpcio-tools-1.62.0 h2-4.1.0 hpack-4.0.0 hyperframe-6.0.1 portalocker-2.8.2 protobuf-4.25.3 qdrant-client-1.7.3\n",
      "\n",
      "\u001b[1m[\u001b[0m\u001b[34;49mnotice\u001b[0m\u001b[1;39;49m]\u001b[0m\u001b[39;49m A new release of pip is available: \u001b[0m\u001b[31;49m23.3.1\u001b[0m\u001b[39;49m -> \u001b[0m\u001b[32;49m24.0\u001b[0m\n",
      "\u001b[1m[\u001b[0m\u001b[34;49mnotice\u001b[0m\u001b[1;39;49m]\u001b[0m\u001b[39;49m To update, run: \u001b[0m\u001b[32;49mpip install --upgrade pip\u001b[0m\n"
     ]
    }
   ],
   "source": [
    "!pip install qdrant-client"
   ]
  },
  {
   "cell_type": "code",
   "execution_count": 294,
   "id": "c5e2c97c-9b80-4e4b-a80c-940e5428419e",
   "metadata": {},
   "outputs": [],
   "source": [
    "# def extract_node_descriptions(data):\n",
    "#     descriptions = []\n",
    "#     for node_id, attributes in data:\n",
    "#         # Check if both 'description' and 'layer_id' are in the attributes\n",
    "#         if 'description' in attributes and 'layer_id' in attributes and 'layer_uuid' in attributes:\n",
    "#             descriptions.append({\n",
    "#                 'node_id': node_id, \n",
    "#                 'description': attributes['description'],\n",
    "#                 'layer_uuid': attributes['layer_uuid']  # Include layer_id\n",
    "#             })\n",
    "#     return descriptions\n",
    "\n",
    "# # Extract the node descriptions\n",
    "# node_descriptions = extract_node_descriptions(R.nodes(data=True))\n",
    "\n",
    "# # Display the results (displaying a subset for brevity)\n",
    "# for item in node_descriptions[:5]:  # Adjust the slice as needed for display\n",
    "#     print(item)"
   ]
  },
  {
   "cell_type": "code",
   "execution_count": 292,
   "id": "c214724e-4bb3-4b75-b104-77ac98348394",
   "metadata": {},
   "outputs": [
    {
     "name": "stdout",
     "output_type": "stream",
     "text": [
      "{'node_id': 'In British culture, keeping pets is an integral way of life and an outlet for emotions, with a particular fondness for dogs - 08b965ee-470a-4133-979b-0003edef15d0  - 97597864-a11a-4058-b854-8f21864c7e06 - 58fc3b86-be82-4d50-9578-2b157924ef23', 'description': 'In British culture, keeping pets is an integral way of life and an outlet for emotions, with a particular fondness for dogs'}\n",
      "{'node_id': 'Dogs serve as an acceptable outlet for typically controlled British emotions, facilitating affection and sociability - 08b965ee-470a-4133-979b-0003edef15d0  - 97597864-a11a-4058-b854-8f21864c7e06 - e7929623-23e0-4b43-80b6-52fdbf4ce154', 'description': 'Dogs serve as an acceptable outlet for typically controlled British emotions, facilitating affection and sociability'}\n",
      "{'node_id': \"Public spaces in the UK are accommodating of dogs, with signs such as 'Dogs welcome, people tolerated' and treats offered in establishments - 08b965ee-470a-4133-979b-0003edef15d0  - 97597864-a11a-4058-b854-8f21864c7e06 - 48191bec-b329-460e-8de3-7957ffa9909c\", 'description': \"Public spaces in the UK are accommodating of dogs, with signs such as 'Dogs welcome, people tolerated' and treats offered in establishments\"}\n",
      "{'node_id': 'Dogs act as social catalysts, making it more acceptable to converse with strangers in parks rather than more formal settings like trains - 08b965ee-470a-4133-979b-0003edef15d0  - 97597864-a11a-4058-b854-8f21864c7e06 - 0915d7f3-9a6d-4461-af9d-d222079dd52d', 'description': 'Dogs act as social catalysts, making it more acceptable to converse with strangers in parks rather than more formal settings like trains'}\n",
      "{'node_id': 'The COVID-19 pandemic caused a surge in pet ownership in the UK, with the dog population rising from 9 million to 13 million between 2019 and 2022 - 08b965ee-470a-4133-979b-0003edef15d0  - 97597864-a11a-4058-b854-8f21864c7e06 - 41a19992-d932-47c3-b1dc-41c4e673ab43', 'description': 'The COVID-19 pandemic caused a surge in pet ownership in the UK, with the dog population rising from 9 million to 13 million between 2019 and 2022'}\n"
     ]
    }
   ],
   "source": [
    "def extract_node_descriptions(data):\n",
    "    descriptions = []\n",
    "    for node_id, attributes in data:\n",
    "        if 'description' in attributes:\n",
    "            descriptions.append({'node_id': node_id, 'description': attributes['description']})\n",
    "    return descriptions\n",
    "\n",
    "# Extract the node descriptions\n",
    "node_descriptions = extract_node_descriptions(R.nodes(data=True))\n",
    "\n",
    "# Display the results (displaying a subset for brevity)\n",
    "for item in node_descriptions[:5]:  # Adjust the slice as needed for display\n",
    "    print(item)"
   ]
  },
  {
   "cell_type": "markdown",
   "id": "74b65ea2-b325-4bed-8286-0f2030462794",
   "metadata": {},
   "source": [
    "## HOW TO CONNECT INTERLAYERS WITH SEMANTIC SEARCH"
   ]
  },
  {
   "cell_type": "code",
   "execution_count": 295,
   "id": "7adbc416-bca9-47e2-9bfc-7ab5de5aeabf",
   "metadata": {},
   "outputs": [],
   "source": [
    "## Idea here is to pass descriptions to the vectorstore and embed them, then do a semantic search for each description to other one and retrieve only those between layers that have a connection"
   ]
  },
  {
   "cell_type": "code",
   "execution_count": 27,
   "id": "65178488-6424-4f40-8420-edf921ff1678",
   "metadata": {},
   "outputs": [],
   "source": [
    "from openai import OpenAI\n",
    "client = OpenAI()"
   ]
  },
  {
   "cell_type": "code",
   "execution_count": 36,
   "id": "19ba87f3-a9d9-43d6-8a8d-b2491ace5330",
   "metadata": {},
   "outputs": [],
   "source": [
    "def get_embedding(text):\n",
    "    response = client.embeddings.create(\n",
    "        input=[text],\n",
    "        model=\"text-embedding-3-large\"  # Choose an appropriate engine for your use case\n",
    "    ).data[0].embedding\n",
    "\n",
    "    return response"
   ]
  },
  {
   "cell_type": "code",
   "execution_count": 37,
   "id": "0c4670d9-c7e3-476e-be90-7cb52efd6f3b",
   "metadata": {},
   "outputs": [],
   "source": [
    "embedding = get_embedding(\"Example text to encode\")"
   ]
  },
  {
   "cell_type": "code",
   "execution_count": 51,
   "id": "d9ce8103-375d-4e77-8d64-46edc753b375",
   "metadata": {},
   "outputs": [],
   "source": [
    "some_embeddings = []\n",
    "some_text = [\"bla\", \"blwea\"]\n",
    "for st in some_text:\n",
    "    some_embeddings.append(get_embedding(st))"
   ]
  },
  {
   "cell_type": "code",
   "execution_count": null,
   "id": "f141ef51-40f4-4437-b3f7-8d0bf3f9f4b2",
   "metadata": {},
   "outputs": [],
   "source": []
  },
  {
   "cell_type": "code",
   "execution_count": 40,
   "id": "91763457-bf41-4e60-ad8f-0bd5542b250a",
   "metadata": {},
   "outputs": [],
   "source": [
    "from qdrant_client import models, QdrantClient"
   ]
  },
  {
   "cell_type": "code",
   "execution_count": 41,
   "id": "c35342d7-a3ce-491b-971d-142b52110bca",
   "metadata": {},
   "outputs": [],
   "source": [
    "qdrant = QdrantClient(\":memory:\")"
   ]
  },
  {
   "cell_type": "code",
   "execution_count": null,
   "id": "e8ccd86e-01d0-44ac-9376-c848bed1adad",
   "metadata": {},
   "outputs": [],
   "source": [
    "from qdrant_client.http import models as rest"
   ]
  },
  {
   "cell_type": "code",
   "execution_count": 56,
   "id": "313a893d-31b5-4599-8f6f-2a2cd0759fa0",
   "metadata": {},
   "outputs": [],
   "source": [
    "collection_name = 'Articles'\n",
    "\n",
    "# Create a new collection in Qdrant\n",
    "def create_collection(collection_name):\n",
    "    qdrant.recreate_collection(\n",
    "        collection_name=collection_name,\n",
    "        vectors_config={\n",
    "            'content': rest.VectorParams(\n",
    "                distance=rest.Distance.COSINE,\n",
    "                size=3072,\n",
    "            )\n",
    "        }\n",
    "    )\n",
    "\n",
    "# Function to upload embeddings to Qdrant\n",
    "def upload_embedding(id, metadata, some_embeddings, collection_name):\n",
    "    qdrant.upload_points(\n",
    "        collection_name=collection_name,\n",
    "        points=[\n",
    "            models.PointStruct(\n",
    "                id=idx, vector={\"content\":doc}, payload=metadata\n",
    "            )\n",
    "            for idx, doc in enumerate(some_embeddings)\n",
    "        ],\n",
    "    )\n",
    "\n",
    "# Example usage\n",
    "upload_embedding(1, (\"meta\":1}, some_embeddings)"
   ]
  },
  {
   "cell_type": "code",
   "execution_count": 61,
   "id": "5210715c-66ae-430a-a5d5-469fa2ca860c",
   "metadata": {},
   "outputs": [
    {
     "name": "stdout",
     "output_type": "stream",
     "text": [
      "{'bv': 'bjdjdj'} score: 0.9999999947315471\n",
      "{'bv': 'bjdjdj'} score: 0.497255529710952\n"
     ]
    }
   ],
   "source": [
    "hits = qdrant.search(\n",
    "    collection_name=\"Articles\",\n",
    "    query_vector=(\n",
    "            \"content\", get_embedding(\"bla\")\n",
    "        ),\n",
    "    limit=3,\n",
    ")\n",
    "for hit in hits:\n",
    "    print(hit.payload, \"score:\", hit.score)"
   ]
  },
  {
   "cell_type": "code",
   "execution_count": 47,
   "id": "97302500-241e-41b3-9355-4523bcb4d01b",
   "metadata": {},
   "outputs": [],
   "source": [
    "f"
   ]
  },
  {
   "cell_type": "code",
   "execution_count": 213,
   "id": "418ef758-64e1-4c44-a844-9e3960d9db50",
   "metadata": {},
   "outputs": [
    {
     "name": "stdout",
     "output_type": "stream",
     "text": [
      "Nodes in the graph: ['user123', 'Temporal', 'Temporal:Historical events', 'Temporal:Schedules and timelines', 'Positional', 'Positional:Geographical locations', 'Positional:Spatial data', 'Propositions', 'Propositions:Hypotheses and theories', 'Propositions:Claims and arguments', 'Personalization', 'Personalization:User preferences', 'Personalization:User information', 'Natural Language Text', 'Natural Language Text:News stories and blog posts']\n"
     ]
    }
   ],
   "source": [
    "nodes = list(G.nodes())\n",
    "\n",
    "print(\"Nodes in the graph:\", nodes)"
   ]
  },
  {
   "cell_type": "code",
   "execution_count": null,
   "id": "675e2037-65a8-4f97-974a-1bfc8789ea78",
   "metadata": {},
   "outputs": [],
   "source": []
  }
 ],
 "metadata": {
  "kernelspec": {
   "display_name": "Python 3 (ipykernel)",
   "language": "python",
   "name": "python3"
  },
  "language_info": {
   "codemirror_mode": {
    "name": "ipython",
    "version": 3
   },
   "file_extension": ".py",
   "mimetype": "text/x-python",
   "name": "python",
   "nbconvert_exporter": "python",
   "pygments_lexer": "ipython3",
   "version": "3.11.6"
  }
 },
 "nbformat": 4,
 "nbformat_minor": 5
}
